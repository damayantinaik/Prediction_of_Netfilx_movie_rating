{
 "cells": [
  {
   "cell_type": "markdown",
   "metadata": {},
   "source": [
    "# Model developement to predict the rating of a movie"
   ]
  },
  {
   "cell_type": "code",
   "execution_count": 1,
   "metadata": {},
   "outputs": [],
   "source": [
    "# Import necessary libraries\n",
    "import numpy as np\n",
    "import pandas as pd\n",
    "import matplotlib.pyplot as plt\n",
    "from sklearn.linear_model import LinearRegression\n",
    "from sklearn.model_selection import train_test_split\n",
    "from sklearn.model_selection import GridSearchCV\n",
    "from sklearn.metrics import r2_score"
   ]
  },
  {
   "cell_type": "code",
   "execution_count": 2,
   "metadata": {},
   "outputs": [],
   "source": [
    "# Import the datasets\n",
    "IMDB_only_combined = pd.read_csv('pre-processed_dataset/IMDB_only_combined.csv')\n",
    "IMDB_Kaggle_common_combined = pd.read_csv('pre-processed_dataset/IMDB_Kaggle_common_combined.csv')"
   ]
  },
  {
   "cell_type": "code",
   "execution_count": 3,
   "metadata": {},
   "outputs": [
    {
     "data": {
      "text/plain": [
       "(69458, 1087)"
      ]
     },
     "execution_count": 3,
     "metadata": {},
     "output_type": "execute_result"
    }
   ],
   "source": [
    "IMDB_only_combined.shape"
   ]
  },
  {
   "cell_type": "code",
   "execution_count": 4,
   "metadata": {},
   "outputs": [
    {
     "data": {
      "text/plain": [
       "(2585, 938)"
      ]
     },
     "execution_count": 4,
     "metadata": {},
     "output_type": "execute_result"
    }
   ],
   "source": [
    "IMDB_Kaggle_common_combined.shape"
   ]
  },
  {
   "cell_type": "code",
   "execution_count": 5,
   "metadata": {},
   "outputs": [],
   "source": [
    "X = IMDB_only_combined.drop(columns = ['avg_vote'])\n",
    "y = IMDB_only_combined['avg_vote']"
   ]
  },
  {
   "cell_type": "code",
   "execution_count": 6,
   "metadata": {},
   "outputs": [
    {
     "name": "stdout",
     "output_type": "stream",
     "text": [
      "(69458, 1086)\n",
      "(69458,)\n"
     ]
    }
   ],
   "source": [
    "print(X.shape)\n",
    "print(y.shape)"
   ]
  },
  {
   "cell_type": "code",
   "execution_count": 7,
   "metadata": {},
   "outputs": [
    {
     "data": {
      "text/plain": [
       "0    5.9\n",
       "1    6.1\n",
       "2    5.2\n",
       "3    7.0\n",
       "4    5.7\n",
       "Name: avg_vote, dtype: float64"
      ]
     },
     "execution_count": 7,
     "metadata": {},
     "output_type": "execute_result"
    }
   ],
   "source": [
    "y[:5]"
   ]
  },
  {
   "cell_type": "code",
   "execution_count": 8,
   "metadata": {},
   "outputs": [
    {
     "data": {
      "text/plain": [
       "count    69458.000000\n",
       "mean         5.920526\n",
       "std          1.218281\n",
       "min          1.000000\n",
       "25%          5.300000\n",
       "50%          6.100000\n",
       "75%          6.800000\n",
       "max          9.800000\n",
       "Name: avg_vote, dtype: float64"
      ]
     },
     "execution_count": 8,
     "metadata": {},
     "output_type": "execute_result"
    }
   ],
   "source": [
    "y.describe()"
   ]
  },
  {
   "cell_type": "code",
   "execution_count": 9,
   "metadata": {},
   "outputs": [
    {
     "data": {
      "text/plain": [
       "0   -3.038251\n",
       "1   -1.625160\n",
       "2    0.070550\n",
       "3   -1.738207\n",
       "4   -2.190396\n",
       "Name: duration_min, dtype: float64"
      ]
     },
     "execution_count": 9,
     "metadata": {},
     "output_type": "execute_result"
    }
   ],
   "source": [
    "X.duration_min[:5]"
   ]
  },
  {
   "cell_type": "code",
   "execution_count": 10,
   "metadata": {},
   "outputs": [
    {
     "data": {
      "text/plain": [
       "0   -0.436021\n",
       "1   -0.385392\n",
       "2   -0.402036\n",
       "3   -0.193585\n",
       "4   -0.397613\n",
       "Name: votes, dtype: float64"
      ]
     },
     "execution_count": 10,
     "metadata": {},
     "output_type": "execute_result"
    }
   ],
   "source": [
    "X.votes[:5]"
   ]
  },
  {
   "cell_type": "code",
   "execution_count": 11,
   "metadata": {},
   "outputs": [
    {
     "data": {
      "text/plain": [
       "0   -0.611759\n",
       "1   -0.474345\n",
       "2   -0.062103\n",
       "3    0.075311\n",
       "4   -0.336931\n",
       "Name: reviews_from_users, dtype: float64"
      ]
     },
     "execution_count": 11,
     "metadata": {},
     "output_type": "execute_result"
    }
   ],
   "source": [
    "X.reviews_from_users[:5]"
   ]
  },
  {
   "cell_type": "markdown",
   "metadata": {},
   "source": [
    "## train test split"
   ]
  },
  {
   "cell_type": "code",
   "execution_count": 12,
   "metadata": {},
   "outputs": [],
   "source": [
    "X_train, X_test, y_train, y_test = train_test_split(X, y, test_size = 0.3, random_state = 42)"
   ]
  },
  {
   "cell_type": "code",
   "execution_count": 13,
   "metadata": {},
   "outputs": [
    {
     "name": "stdout",
     "output_type": "stream",
     "text": [
      "(48620, 1086)\n",
      "(20838, 1086)\n"
     ]
    }
   ],
   "source": [
    "print(X_train.shape)\n",
    "print(X_test.shape)"
   ]
  },
  {
   "cell_type": "code",
   "execution_count": 14,
   "metadata": {},
   "outputs": [],
   "source": [
    "lr1 = LinearRegression()\n",
    "lr1.fit(X_train, y_train)\n",
    "y_predict = lr1.predict(X_test)"
   ]
  },
  {
   "cell_type": "code",
   "execution_count": 15,
   "metadata": {},
   "outputs": [
    {
     "data": {
      "text/plain": [
       "6.381541415903566"
      ]
     },
     "execution_count": 15,
     "metadata": {},
     "output_type": "execute_result"
    }
   ],
   "source": [
    "lr1.intercept_"
   ]
  },
  {
   "cell_type": "code",
   "execution_count": 16,
   "metadata": {},
   "outputs": [
    {
     "data": {
      "text/plain": [
       "array([-9.89797748e-06,  1.86105536e-01,  2.50830931e-01, ...,\n",
       "        5.56921515e-01, -6.95399765e-02, -2.78332132e-02])"
      ]
     },
     "execution_count": 16,
     "metadata": {},
     "output_type": "execute_result"
    }
   ],
   "source": [
    "lr1.coef_"
   ]
  },
  {
   "cell_type": "code",
   "execution_count": 17,
   "metadata": {},
   "outputs": [
    {
     "data": {
      "text/plain": [
       "0.4448867467673735"
      ]
     },
     "execution_count": 17,
     "metadata": {},
     "output_type": "execute_result"
    }
   ],
   "source": [
    "r2_score(y_test, y_predict)"
   ]
  },
  {
   "cell_type": "code",
   "execution_count": 18,
   "metadata": {},
   "outputs": [
    {
     "data": {
      "text/plain": [
       "<function matplotlib.pyplot.show(close=None, block=None)>"
      ]
     },
     "execution_count": 18,
     "metadata": {},
     "output_type": "execute_result"
    },
    {
     "data": {
      "image/png": "[encoded data removed]",
      "text/plain": [
       "<Figure size 432x288 with 1 Axes>"
      ]
     },
     "metadata": {
      "needs_background": "light"
     },
     "output_type": "display_data"
    }
   ],
   "source": [
    "# plot the y_test and y_predict\n",
    "plt.scatter(y_test,y_predict,  color = 'b')\n",
    "plt.show"
   ]
  },
  {
   "cell_type": "code",
   "execution_count": 19,
   "metadata": {},
   "outputs": [
    {
     "name": "stdout",
     "output_type": "stream",
     "text": [
      "The mean squared error: 0.8132585612269958\n",
      "The root mean squared error: 0.9018084947631597\n",
      "The mean absolute error: 0.6859178676232769\n"
     ]
    }
   ],
   "source": [
    "from sklearn.metrics import mean_squared_error\n",
    "print(\"The mean squared error:\", mean_squared_error(y_test, y_predict))\n",
    "\n",
    "from sklearn.metrics import mean_squared_error\n",
    "print(\"The root mean squared error:\", mean_squared_error(y_test, y_predict, squared = False))\n",
    "\n",
    "from sklearn.metrics import mean_absolute_error\n",
    "print(\"The mean absolute error:\", mean_absolute_error(y_test, y_predict))"
   ]
  },
  {
   "cell_type": "code",
   "execution_count": 20,
   "metadata": {},
   "outputs": [
    {
     "data": {
      "text/plain": [
       "array([-9.91591032e+09,  4.37032870e-01,  4.37236535e-01,  4.38979426e-01,\n",
       "        4.24663521e-01])"
      ]
     },
     "execution_count": 20,
     "metadata": {},
     "output_type": "execute_result"
    }
   ],
   "source": [
    "# Use k-fold\n",
    "from sklearn.model_selection import KFold\n",
    "from sklearn.model_selection import cross_val_score\n",
    "from sklearn import metrics\n",
    "#kf = KFold(n_split = 5)\n",
    "scores = cross_val_score(lr1, X_train, y_train, cv=5)\n",
    "scores"
   ]
  },
  {
   "cell_type": "code",
   "execution_count": 21,
   "metadata": {},
   "outputs": [
    {
     "data": {
      "text/plain": [
       "(-1983182064.0035267, 3966364128.87601)"
      ]
     },
     "execution_count": 21,
     "metadata": {},
     "output_type": "execute_result"
    }
   ],
   "source": [
    "np.mean(scores), np.std(scores)"
   ]
  },
  {
   "cell_type": "markdown",
   "metadata": {},
   "source": [
    "# Model optimization"
   ]
  },
  {
   "cell_type": "code",
   "execution_count": 22,
   "metadata": {},
   "outputs": [
    {
     "name": "stderr",
     "output_type": "stream",
     "text": [
      "C:\\Users\\user\\AppData\\Roaming\\Python\\Python37\\site-packages\\sklearn\\feature_selection\\_univariate_selection.py:299: RuntimeWarning: invalid value encountered in true_divide\n",
      "  corr /= X_norms\n"
     ]
    }
   ],
   "source": [
    "# Select the features to build a good model\n",
    "from sklearn.pipeline import make_pipeline\n",
    "from sklearn.feature_selection import SelectKBest, f_regression\n",
    "pipe = make_pipeline(SelectKBest(score_func = f_regression, k=10), lr1) # f_regression: effect of each features on target\n",
    "pipe.fit(X_train, y_train)\n",
    "\n",
    "y_train_predict = pipe.predict(X_train)\n",
    "y_test_predict = pipe.predict(X_test)\n",
    "\n",
    "#k = [k+1 for k in len(X.columns)] # K is the number of features column\n",
    "#grid_params = {'selectbest_K': k}\n",
    "\n",
    "#from sklearn.model_selection import GridSearchCV\n",
    "#GridSearchCV(pipe, param_grid = grid_params, cv = 5, n_jobs = -1)"
   ]
  },
  {
   "cell_type": "code",
   "execution_count": 23,
   "metadata": {},
   "outputs": [
    {
     "data": {
      "text/plain": [
       "(0.354823109409963, 0.3645921862038263)"
      ]
     },
     "execution_count": 23,
     "metadata": {},
     "output_type": "execute_result"
    }
   ],
   "source": [
    "r2_score(y_train, y_train_predict), r2_score(y_test, y_test_predict)"
   ]
  },
  {
   "cell_type": "code",
   "execution_count": 24,
   "metadata": {},
   "outputs": [
    {
     "data": {
      "text/plain": [
       "(0.7448172177505605, 0.735041024942662)"
      ]
     },
     "execution_count": 24,
     "metadata": {},
     "output_type": "execute_result"
    }
   ],
   "source": [
    "mean_absolute_error(y_train, y_train_predict), mean_absolute_error(y_test, y_test_predict)"
   ]
  },
  {
   "cell_type": "markdown",
   "metadata": {},
   "source": [
    "**<font color = 'teal'> Make model with 50 features**"
   ]
  },
  {
   "cell_type": "code",
   "execution_count": 25,
   "metadata": {},
   "outputs": [
    {
     "name": "stderr",
     "output_type": "stream",
     "text": [
      "C:\\Users\\user\\AppData\\Roaming\\Python\\Python37\\site-packages\\sklearn\\feature_selection\\_univariate_selection.py:299: RuntimeWarning: invalid value encountered in true_divide\n",
      "  corr /= X_norms\n"
     ]
    }
   ],
   "source": [
    "pipe = make_pipeline(SelectKBest(score_func = f_regression, k=50), lr1) #f_regression: effect of each features on target\n",
    "pipe.fit(X_train, y_train)\n",
    "\n",
    "y_train_predict2 = pipe.predict(X_train)\n",
    "y_test_predict2 = pipe.predict(X_test)"
   ]
  },
  {
   "cell_type": "code",
   "execution_count": 26,
   "metadata": {},
   "outputs": [
    {
     "data": {
      "text/plain": [
       "(0.39932619016671145, 0.4037194943603064)"
      ]
     },
     "execution_count": 26,
     "metadata": {},
     "output_type": "execute_result"
    }
   ],
   "source": [
    "r2_score(y_train, y_train_predict2), r2_score(y_test, y_test_predict2)"
   ]
  },
  {
   "cell_type": "code",
   "execution_count": 27,
   "metadata": {},
   "outputs": [
    {
     "data": {
      "text/plain": [
       "(0.7167484678207113, 0.7100653031459672)"
      ]
     },
     "execution_count": 27,
     "metadata": {},
     "output_type": "execute_result"
    }
   ],
   "source": [
    "mean_absolute_error(y_train, y_train_predict2), mean_absolute_error(y_test, y_test_predict2)"
   ]
  },
  {
   "cell_type": "markdown",
   "metadata": {},
   "source": [
    "**<font color = 'teal'> Make model with 100 features**"
   ]
  },
  {
   "cell_type": "code",
   "execution_count": 28,
   "metadata": {},
   "outputs": [
    {
     "name": "stderr",
     "output_type": "stream",
     "text": [
      "C:\\Users\\user\\AppData\\Roaming\\Python\\Python37\\site-packages\\sklearn\\feature_selection\\_univariate_selection.py:299: RuntimeWarning: invalid value encountered in true_divide\n",
      "  corr /= X_norms\n"
     ]
    }
   ],
   "source": [
    "pipe = make_pipeline(SelectKBest(score_func = f_regression, k=100), lr1) #f_regression: effect of each features on target\n",
    "pipe.fit(X_train, y_train)\n",
    "\n",
    "y_train_predict3 = pipe.predict(X_train)\n",
    "y_test_predict3 = pipe.predict(X_test)"
   ]
  },
  {
   "cell_type": "code",
   "execution_count": 29,
   "metadata": {},
   "outputs": [
    {
     "data": {
      "text/plain": [
       "(0.4177424209907231, 0.41902704927124756)"
      ]
     },
     "execution_count": 29,
     "metadata": {},
     "output_type": "execute_result"
    }
   ],
   "source": [
    "r2_score(y_train, y_train_predict3), r2_score(y_test, y_test_predict3)"
   ]
  },
  {
   "cell_type": "code",
   "execution_count": 30,
   "metadata": {},
   "outputs": [
    {
     "data": {
      "text/plain": [
       "(0.7058198890791764, 0.7015025372699702)"
      ]
     },
     "execution_count": 30,
     "metadata": {},
     "output_type": "execute_result"
    }
   ],
   "source": [
    "mean_absolute_error(y_train, y_train_predict3), mean_absolute_error(y_test, y_test_predict3)"
   ]
  },
  {
   "cell_type": "markdown",
   "metadata": {},
   "source": [
    "**<font color = 'teal'> Make model with 200 features**"
   ]
  },
  {
   "cell_type": "code",
   "execution_count": 31,
   "metadata": {},
   "outputs": [
    {
     "name": "stderr",
     "output_type": "stream",
     "text": [
      "C:\\Users\\user\\AppData\\Roaming\\Python\\Python37\\site-packages\\sklearn\\feature_selection\\_univariate_selection.py:299: RuntimeWarning: invalid value encountered in true_divide\n",
      "  corr /= X_norms\n"
     ]
    }
   ],
   "source": [
    "pipe = make_pipeline(SelectKBest(score_func = f_regression, k=200), lr1) #f_regression: effect of each features on target\n",
    "pipe.fit(X_train, y_train)\n",
    "\n",
    "y_train_predict200 = pipe.predict(X_train)\n",
    "y_test_predict200 = pipe.predict(X_test)"
   ]
  },
  {
   "cell_type": "code",
   "execution_count": 32,
   "metadata": {},
   "outputs": [
    {
     "data": {
      "text/plain": [
       "(0.43047345687755356, 0.42755321022454906)"
      ]
     },
     "execution_count": 32,
     "metadata": {},
     "output_type": "execute_result"
    }
   ],
   "source": [
    "r2_score(y_train, y_train_predict200), r2_score(y_test, y_test_predict200)"
   ]
  },
  {
   "cell_type": "code",
   "execution_count": 33,
   "metadata": {},
   "outputs": [
    {
     "data": {
      "text/plain": [
       "(0.6976078183466193, 0.6967922060185107)"
      ]
     },
     "execution_count": 33,
     "metadata": {},
     "output_type": "execute_result"
    }
   ],
   "source": [
    "mean_absolute_error(y_train, y_train_predict200), mean_absolute_error(y_test, y_test_predict200)"
   ]
  },
  {
   "cell_type": "markdown",
   "metadata": {},
   "source": [
    "**<font color = 'teal'> Make model with 300 features**"
   ]
  },
  {
   "cell_type": "code",
   "execution_count": 34,
   "metadata": {},
   "outputs": [
    {
     "name": "stderr",
     "output_type": "stream",
     "text": [
      "C:\\Users\\user\\AppData\\Roaming\\Python\\Python37\\site-packages\\sklearn\\feature_selection\\_univariate_selection.py:299: RuntimeWarning: invalid value encountered in true_divide\n",
      "  corr /= X_norms\n"
     ]
    }
   ],
   "source": [
    "pipe = make_pipeline(SelectKBest(score_func = f_regression, k=300), lr1) #f_regression: effect of each features on target\n",
    "pipe.fit(X_train, y_train)\n",
    "\n",
    "y_train_predict300 = pipe.predict(X_train)\n",
    "y_test_predict300 = pipe.predict(X_test)"
   ]
  },
  {
   "cell_type": "code",
   "execution_count": 35,
   "metadata": {},
   "outputs": [
    {
     "data": {
      "text/plain": [
       "(0.4360459461443741, 0.4324607773513025)"
      ]
     },
     "execution_count": 35,
     "metadata": {},
     "output_type": "execute_result"
    }
   ],
   "source": [
    "r2_score(y_train, y_train_predict300), r2_score(y_test, y_test_predict300)"
   ]
  },
  {
   "cell_type": "code",
   "execution_count": 36,
   "metadata": {},
   "outputs": [
    {
     "data": {
      "text/plain": [
       "(0.693423851121259, 0.6937194046146954)"
      ]
     },
     "execution_count": 36,
     "metadata": {},
     "output_type": "execute_result"
    }
   ],
   "source": [
    "mean_absolute_error(y_train, y_train_predict300), mean_absolute_error(y_test, y_test_predict300)"
   ]
  },
  {
   "cell_type": "code",
   "execution_count": 37,
   "metadata": {},
   "outputs": [
    {
     "name": "stderr",
     "output_type": "stream",
     "text": [
      "C:\\Users\\user\\AppData\\Roaming\\Python\\Python37\\site-packages\\sklearn\\feature_selection\\_univariate_selection.py:299: RuntimeWarning: invalid value encountered in true_divide\n",
      "  corr /= X_norms\n"
     ]
    }
   ],
   "source": [
    "pipe = make_pipeline(SelectKBest(score_func = f_regression, k=900), lr1) #f_regression: effect of each features on target\n",
    "pipe.fit(X_train, y_train)\n",
    "\n",
    "y_train_predict900 = pipe.predict(X_train)\n",
    "y_test_predict900 = pipe.predict(X_test)"
   ]
  },
  {
   "cell_type": "code",
   "execution_count": 38,
   "metadata": {},
   "outputs": [
    {
     "data": {
      "text/plain": [
       "(0.4528329200387502, 0.4429393446857003)"
      ]
     },
     "execution_count": 38,
     "metadata": {},
     "output_type": "execute_result"
    }
   ],
   "source": [
    "r2_score(y_train, y_train_predict900), r2_score(y_test, y_test_predict900)"
   ]
  },
  {
   "cell_type": "code",
   "execution_count": 39,
   "metadata": {},
   "outputs": [
    {
     "data": {
      "text/plain": [
       "(0.6812496082439861, 0.6871004317272662)"
      ]
     },
     "execution_count": 39,
     "metadata": {},
     "output_type": "execute_result"
    }
   ],
   "source": [
    "mean_absolute_error(y_train, y_train_predict900), mean_absolute_error(y_test, y_test_predict900)"
   ]
  },
  {
   "cell_type": "markdown",
   "metadata": {},
   "source": [
    "### Use GridSearchCV"
   ]
  },
  {
   "cell_type": "code",
   "execution_count": 40,
   "metadata": {},
   "outputs": [],
   "source": [
    "#k = [400, 500, 600, 700, 800, 900, 1000, 1088]\n",
    "k = [10, 50, 100, 150, 200, 250, 300, 350, 400, 450, 500, 550,  600, 650, 700, 750, 800, 850, 900, 950, 1000, 1088]\n",
    "grid_param = {'selectkbest__k': k}"
   ]
  },
  {
   "cell_type": "code",
   "execution_count": 41,
   "metadata": {},
   "outputs": [],
   "source": [
    "lr1_grid_cv = GridSearchCV(pipe, param_grid = grid_param, cv = 5, n_jobs = -1)"
   ]
  },
  {
   "cell_type": "code",
   "execution_count": 42,
   "metadata": {},
   "outputs": [
    {
     "name": "stderr",
     "output_type": "stream",
     "text": [
      "C:\\Users\\user\\AppData\\Roaming\\Python\\Python37\\site-packages\\sklearn\\feature_selection\\_univariate_selection.py:299: RuntimeWarning: invalid value encountered in true_divide\n",
      "  corr /= X_norms\n"
     ]
    },
    {
     "data": {
      "text/plain": [
       "GridSearchCV(cv=5, error_score=nan,\n",
       "             estimator=Pipeline(memory=None,\n",
       "                                steps=[('selectkbest',\n",
       "                                        SelectKBest(k=900,\n",
       "                                                    score_func=<function f_regression at 0x00000264AF3B4488>)),\n",
       "                                       ('linearregression',\n",
       "                                        LinearRegression(copy_X=True,\n",
       "                                                         fit_intercept=True,\n",
       "                                                         n_jobs=None,\n",
       "                                                         normalize=False))],\n",
       "                                verbose=False),\n",
       "             iid='deprecated', n_jobs=-1,\n",
       "             param_grid={'selectkbest__k': [10, 50, 100, 150, 200, 250, 300,\n",
       "                                            350, 400, 450, 500, 550, 600, 650,\n",
       "                                            700, 750, 800, 850, 900, 950, 1000,\n",
       "                                            1088]},\n",
       "             pre_dispatch='2*n_jobs', refit=True, return_train_score=False,\n",
       "             scoring=None, verbose=0)"
      ]
     },
     "execution_count": 42,
     "metadata": {},
     "output_type": "execute_result"
    }
   ],
   "source": [
    "lr1_grid_cv.fit(X_train, y_train)"
   ]
  },
  {
   "cell_type": "code",
   "execution_count": 43,
   "metadata": {},
   "outputs": [
    {
     "name": "stdout",
     "output_type": "stream",
     "text": [
      "[ 3.54127186e-01  3.96723258e-01  4.12931061e-01  4.19232058e-01\n",
      "  4.22915473e-01  4.25499899e-01  4.26997637e-01  4.28172198e-01\n",
      "  4.29761502e-01  4.31294252e-01  4.32162406e-01  4.33043713e-01\n",
      "  4.33762537e-01  4.34453147e-01  4.34959405e-01  4.35055610e-01\n",
      "  4.35065882e-01  4.35341383e-01  4.35537548e-01 -5.35061778e+07\n",
      " -1.61375051e+06             nan]\n",
      "[7.90184676e-03 8.11779825e-03 8.07175512e-03 8.02579577e-03\n",
      " 7.77475036e-03 6.76528477e-03 6.80963820e-03 6.99072626e-03\n",
      " 6.68497485e-03 6.52007218e-03 6.51052899e-03 6.74716238e-03\n",
      " 6.82752577e-03 6.83871907e-03 6.81868311e-03 6.53669278e-03\n",
      " 6.05842070e-03 6.53138556e-03 6.00943308e-03 1.07012357e+08\n",
      " 3.22750189e+06            nan]\n"
     ]
    }
   ],
   "source": [
    "mean_score = lr1_grid_cv.cv_results_['mean_test_score']\n",
    "std_score = lr1_grid_cv.cv_results_['std_test_score']\n",
    "print(mean_score)\n",
    "print(std_score)"
   ]
  },
  {
   "cell_type": "code",
   "execution_count": 44,
   "metadata": {},
   "outputs": [
    {
     "data": {
      "text/plain": [
       "{'selectkbest__k': 900}"
      ]
     },
     "execution_count": 44,
     "metadata": {},
     "output_type": "execute_result"
    }
   ],
   "source": [
    "lr1_grid_cv.best_params_"
   ]
  },
  {
   "cell_type": "markdown",
   "metadata": {},
   "source": [
    "**<font color = 'teal'> The GridSearchCV shows that out of 1088 features, 900 features are best predictors.**"
   ]
  },
  {
   "cell_type": "raw",
   "metadata": {},
   "source": [
    "#cv_k = [k for k in lr1_grid_cv.cv_results_['param_selectkbest__k']]"
   ]
  },
  {
   "cell_type": "code",
   "execution_count": 45,
   "metadata": {},
   "outputs": [],
   "source": [
    "selected = lr1_grid_cv.best_estimator_.named_steps.selectkbest.get_support()"
   ]
  },
  {
   "cell_type": "code",
   "execution_count": 46,
   "metadata": {},
   "outputs": [
    {
     "data": {
      "text/plain": [
       "Motion Picture Corporation of America (MPCA)   -0.456346\n",
       "Claude Chabrol                                 -0.457669\n",
       "Harry Alan Towers                              -0.462976\n",
       "Constantin Film                                -0.468288\n",
       "Egyptian (Ancient)                             -0.468513\n",
       " Sayaji Shinde                                 -0.486264\n",
       "Albert Pyun                                    -0.510353\n",
       "Fox 2000 Pictures                              -0.514647\n",
       "Cannon Group                                   -0.517520\n",
       "Robert Ellis                                   -0.519128\n",
       "SVF Entertainment                              -0.520876\n",
       "English                                        -0.530567\n",
       " Eric Roberts                                  -0.541817\n",
       "Anees Bazmee                                   -0.549409\n",
       "Eros International                             -0.549490\n",
       "Vikram Bhatt.1                                 -0.561803\n",
       "Antena 3 Televisión                            -0.567551\n",
       "Jim Wynorski                                   -0.604096\n",
       "Concorde-New Horizons                          -0.608212\n",
       "Horror                                         -0.633663\n",
       " Gulshan Grover                                -0.642200\n",
       "Jesús Franco                                   -0.655481\n",
       " Johnny Lever                                  -0.670868\n",
       " Michael Madsen                                -0.727611\n",
       "Bhojpuri                                       -0.749418\n",
       "PM Entertainment Group                         -0.755069\n",
       "Rajeev Kaul                                    -0.771093\n",
       "Vikram Bhatt                                   -0.797979\n",
       "Sam Newfield                                   -0.846419\n",
       "Kirundi                                        -0.859514\n",
       "Joe D'Amato                                    -0.884971\n",
       " Shakti Kapoor                                 -0.893053\n",
       "Filmirage                                      -0.911999\n",
       "Tyler Perry                                    -0.972840\n",
       "Fred Olen Ray                                  -1.047573\n",
       " Enrico Vanzina                                -1.059113\n",
       "Ungwatsi                                       -1.067361\n",
       "Andrew Jones                                   -1.071801\n",
       "Indian Sign Language                           -1.097486\n",
       "David DeCoteau                                 -1.141150\n",
       "Revolution Studios                             -1.189302\n",
       "Turkmen                                        -1.415314\n",
       "Maltese                                        -1.531872\n",
       "Lisa-Film                                      -1.567634\n",
       "The Asylum                                     -1.589161\n",
       "Hopi                                           -1.616111\n",
       "Uwe Boll                                       -1.743318\n",
       "Oriya                                          -1.848818\n",
       "Soninke                                        -2.880141\n",
       "Reality-TV                                     -3.260517\n",
       "dtype: float64"
      ]
     },
     "execution_count": 46,
     "metadata": {},
     "output_type": "execute_result"
    }
   ],
   "source": [
    "coefs = lr1_grid_cv.best_estimator_.named_steps.linearregression.coef_\n",
    "features = X_train.columns[selected]\n",
    "pd.Series(coefs, index = features).sort_values(ascending = False)[850:900]"
   ]
  },
  {
   "cell_type": "code",
   "execution_count": 47,
   "metadata": {},
   "outputs": [],
   "source": [
    "#selected\n",
    "#X_train[selected].shape"
   ]
  },
  {
   "cell_type": "code",
   "execution_count": 48,
   "metadata": {},
   "outputs": [],
   "source": [
    "y_predict2 = lr1_grid_cv.predict(X_test)"
   ]
  },
  {
   "cell_type": "code",
   "execution_count": 49,
   "metadata": {},
   "outputs": [
    {
     "data": {
      "text/plain": [
       "0.4429393446857003"
      ]
     },
     "execution_count": 49,
     "metadata": {},
     "output_type": "execute_result"
    }
   ],
   "source": [
    "r2_score(y_test, y_predict2)"
   ]
  },
  {
   "cell_type": "markdown",
   "metadata": {},
   "source": [
    "# Random Forest Model"
   ]
  },
  {
   "cell_type": "code",
   "execution_count": 50,
   "metadata": {},
   "outputs": [
    {
     "data": {
      "text/plain": [
       "RandomForestRegressor(bootstrap=True, ccp_alpha=0.0, criterion='mse',\n",
       "                      max_depth=None, max_features='auto', max_leaf_nodes=None,\n",
       "                      max_samples=None, min_impurity_decrease=0.0,\n",
       "                      min_impurity_split=None, min_samples_leaf=1,\n",
       "                      min_samples_split=2, min_weight_fraction_leaf=0.0,\n",
       "                      n_estimators=100, n_jobs=None, oob_score=False,\n",
       "                      random_state=42, verbose=0, warm_start=False)"
      ]
     },
     "execution_count": 50,
     "metadata": {},
     "output_type": "execute_result"
    }
   ],
   "source": [
    "from sklearn.ensemble import RandomForestRegressor\n",
    "regr = RandomForestRegressor(random_state = 42)\n",
    "regr.fit(X_train, y_train)"
   ]
  },
  {
   "cell_type": "code",
   "execution_count": 51,
   "metadata": {},
   "outputs": [],
   "source": [
    "y_predict3 = regr.predict(X_test)"
   ]
  },
  {
   "cell_type": "code",
   "execution_count": 52,
   "metadata": {},
   "outputs": [
    {
     "data": {
      "text/plain": [
       "0.527691451919158"
      ]
     },
     "execution_count": 52,
     "metadata": {},
     "output_type": "execute_result"
    }
   ],
   "source": [
    "r2_score(y_test, y_predict3)"
   ]
  },
  {
   "cell_type": "code",
   "execution_count": 53,
   "metadata": {},
   "outputs": [
    {
     "data": {
      "image/png": "[encoded data removed]",
      "text/plain": [
       "<Figure size 432x288 with 1 Axes>"
      ]
     },
     "metadata": {
      "needs_background": "light"
     },
     "output_type": "display_data"
    }
   ],
   "source": [
    "plt.scatter(y_test, y_predict3, color = 'b')\n",
    "plt.xlim([0, 10])\n",
    "plt.ylim([0, 10])\n",
    "plt.show()"
   ]
  },
  {
   "cell_type": "markdown",
   "metadata": {},
   "source": [
    "**<font color = 'teal'> Note: The outputs from above two models show that Random Forest Regressor model performance is better than Linear Regresson model.**"
   ]
  },
  {
   "cell_type": "markdown",
   "metadata": {},
   "source": [
    "# Gradient boosting "
   ]
  },
  {
   "cell_type": "code",
   "execution_count": 54,
   "metadata": {},
   "outputs": [
    {
     "name": "stdout",
     "output_type": "stream",
     "text": [
      "Learning rate:  0.05\n",
      "Accuracy score (training): 0.213\n",
      "Accuracy score (validation): 0.220\n",
      "\n",
      "Learning rate:  0.1\n",
      "Accuracy score (training): 0.317\n",
      "Accuracy score (validation): 0.326\n",
      "\n",
      "Learning rate:  0.25\n",
      "Accuracy score (training): 0.426\n",
      "Accuracy score (validation): 0.436\n",
      "\n",
      "Learning rate:  0.5\n",
      "Accuracy score (training): 0.462\n",
      "Accuracy score (validation): 0.466\n",
      "\n",
      "Learning rate:  0.75\n",
      "Accuracy score (training): 0.468\n",
      "Accuracy score (validation): 0.468\n",
      "\n",
      "Learning rate:  1\n",
      "Accuracy score (training): 0.456\n",
      "Accuracy score (validation): 0.454\n",
      "\n"
     ]
    }
   ],
   "source": [
    "from sklearn.ensemble import GradientBoostingRegressor\n",
    "\n",
    "learning_rates = [0.05, 0.1, 0.25, 0.5, 0.75, 1]\n",
    "for learning_rate in learning_rates:\n",
    "    gb = GradientBoostingRegressor(n_estimators=20, learning_rate = learning_rate, max_features= 900, max_depth = 2, random_state = 0)\n",
    "    gb.fit(X_train, y_train)\n",
    "    \n",
    "    print(\"Learning rate: \", learning_rate)\n",
    "    print(\"Accuracy score (training): {0:.3f}\".format(gb.score(X_train, y_train)))\n",
    "    print(\"Accuracy score (validation): {0:.3f}\".format(gb.score(X_test, y_test)))\n",
    "    \n",
    "    print()"
   ]
  },
  {
   "cell_type": "code",
   "execution_count": 55,
   "metadata": {},
   "outputs": [
    {
     "name": "stdout",
     "output_type": "stream",
     "text": [
      "Learning rate:  0.05\n",
      "Accuracy score (training): 0.217\n",
      "Accuracy score (validation): 0.224\n",
      "\n",
      "Learning rate:  0.1\n",
      "Accuracy score (training): 0.318\n",
      "Accuracy score (validation): 0.328\n",
      "\n",
      "Learning rate:  0.25\n",
      "Accuracy score (training): 0.427\n",
      "Accuracy score (validation): 0.436\n",
      "\n",
      "Learning rate:  0.5\n",
      "Accuracy score (training): 0.462\n",
      "Accuracy score (validation): 0.467\n",
      "\n",
      "Learning rate:  0.75\n",
      "Accuracy score (training): 0.467\n",
      "Accuracy score (validation): 0.469\n",
      "\n",
      "Learning rate:  1\n",
      "Accuracy score (training): 0.461\n",
      "Accuracy score (validation): 0.460\n",
      "\n"
     ]
    }
   ],
   "source": [
    "for learning_rate in learning_rates:\n",
    "    gb2 = GradientBoostingRegressor(n_estimators=20, learning_rate = learning_rate, max_features= 1000, max_depth = 2, random_state = 0)\n",
    "    gb2.fit(X_train, y_train)\n",
    "    \n",
    "    print(\"Learning rate: \", learning_rate)\n",
    "    print(\"Accuracy score (training): {0:.3f}\".format(gb2.score(X_train, y_train)))\n",
    "    print(\"Accuracy score (validation): {0:.3f}\".format(gb2.score(X_test, y_test)))\n",
    "    \n",
    "    print()"
   ]
  },
  {
   "cell_type": "code",
   "execution_count": 56,
   "metadata": {},
   "outputs": [
    {
     "name": "stdout",
     "output_type": "stream",
     "text": [
      "Learning rate:  0.05\n",
      "Accuracy score (training): 0.218\n",
      "Accuracy score (validation): 0.224\n",
      "\n",
      "Learning rate:  0.1\n",
      "Accuracy score (training): 0.320\n",
      "Accuracy score (validation): 0.329\n",
      "\n",
      "Learning rate:  0.25\n",
      "Accuracy score (training): 0.430\n",
      "Accuracy score (validation): 0.440\n",
      "\n",
      "Learning rate:  0.5\n",
      "Accuracy score (training): 0.465\n",
      "Accuracy score (validation): 0.470\n",
      "\n",
      "Learning rate:  0.75\n",
      "Accuracy score (training): 0.467\n",
      "Accuracy score (validation): 0.469\n",
      "\n",
      "Learning rate:  1\n",
      "Accuracy score (training): 0.461\n",
      "Accuracy score (validation): 0.461\n",
      "\n"
     ]
    }
   ],
   "source": [
    "for learning_rate in learning_rates:\n",
    "    gb2 = GradientBoostingRegressor(n_estimators=20, learning_rate = learning_rate, max_features= 1086, max_depth = 2, random_state = 0)\n",
    "    gb2.fit(X_train, y_train)\n",
    "    \n",
    "    print(\"Learning rate: \", learning_rate)\n",
    "    print(\"Accuracy score (training): {0:.3f}\".format(gb2.score(X_train, y_train)))\n",
    "    print(\"Accuracy score (validation): {0:.3f}\".format(gb2.score(X_test, y_test)))\n",
    "    \n",
    "    print()"
   ]
  },
  {
   "cell_type": "code",
   "execution_count": 57,
   "metadata": {},
   "outputs": [
    {
     "name": "stdout",
     "output_type": "stream",
     "text": [
      "Learning rate:  0.05\n",
      "Accuracy score (training): 0.362\n",
      "Accuracy score (validation): 0.366\n",
      "\n",
      "Learning rate:  0.1\n",
      "Accuracy score (training): 0.459\n",
      "Accuracy score (validation): 0.458\n",
      "\n",
      "Learning rate:  0.25\n",
      "Accuracy score (training): 0.524\n",
      "Accuracy score (validation): 0.511\n",
      "\n",
      "Learning rate:  0.5\n",
      "Accuracy score (training): 0.545\n",
      "Accuracy score (validation): 0.521\n",
      "\n",
      "Learning rate:  0.75\n",
      "Accuracy score (training): 0.548\n",
      "Accuracy score (validation): 0.509\n",
      "\n",
      "Learning rate:  1\n",
      "Accuracy score (training): 0.537\n",
      "Accuracy score (validation): 0.486\n",
      "\n"
     ]
    }
   ],
   "source": [
    "for learning_rate in learning_rates:\n",
    "    gb2 = GradientBoostingRegressor(n_estimators=20, learning_rate = learning_rate, max_features= 1086, max_depth = 5, random_state = 0)\n",
    "    gb2.fit(X_train, y_train)\n",
    "    \n",
    "    print(\"Learning rate: \", learning_rate)\n",
    "    print(\"Accuracy score (training): {0:.3f}\".format(gb2.score(X_train, y_train)))\n",
    "    print(\"Accuracy score (validation): {0:.3f}\".format(gb2.score(X_test, y_test)))\n",
    "    \n",
    "    print()"
   ]
  },
  {
   "cell_type": "code",
   "execution_count": 58,
   "metadata": {},
   "outputs": [
    {
     "name": "stdout",
     "output_type": "stream",
     "text": [
      "Learning rate:  0.05\n",
      "Accuracy score (training): 0.393\n",
      "Accuracy score (validation): 0.392\n",
      "\n",
      "Learning rate:  0.1\n",
      "Accuracy score (training): 0.488\n",
      "Accuracy score (validation): 0.478\n",
      "\n",
      "Learning rate:  0.25\n",
      "Accuracy score (training): 0.549\n",
      "Accuracy score (validation): 0.522\n",
      "\n",
      "Learning rate:  0.5\n",
      "Accuracy score (training): 0.567\n",
      "Accuracy score (validation): 0.524\n",
      "\n",
      "Learning rate:  0.75\n",
      "Accuracy score (training): 0.571\n",
      "Accuracy score (validation): 0.516\n",
      "\n",
      "Learning rate:  1\n",
      "Accuracy score (training): 0.569\n",
      "Accuracy score (validation): 0.488\n",
      "\n"
     ]
    }
   ],
   "source": [
    "for learning_rate in learning_rates:\n",
    "    gb6 = GradientBoostingRegressor(n_estimators=20, learning_rate = learning_rate, max_features= 1086, max_depth = 6, random_state = 0)\n",
    "    gb6.fit(X_train, y_train)\n",
    "    \n",
    "    print(\"Learning rate: \", learning_rate)\n",
    "    print(\"Accuracy score (training): {0:.3f}\".format(gb6.score(X_train, y_train)))\n",
    "    print(\"Accuracy score (validation): {0:.3f}\".format(gb6.score(X_test, y_test)))\n",
    "    \n",
    "    print()"
   ]
  },
  {
   "cell_type": "code",
   "execution_count": 59,
   "metadata": {},
   "outputs": [],
   "source": [
    "from sklearn.inspection import permutation_importance\n",
    "feature_importance = gb2.feature_importances_"
   ]
  },
  {
   "cell_type": "markdown",
   "metadata": {},
   "source": [
    "# Save the best model parameter for further use"
   ]
  },
  {
   "cell_type": "code",
   "execution_count": 60,
   "metadata": {},
   "outputs": [],
   "source": [
    "#This may not be \"production grade ML deployment\" practice, but adding some basic\n",
    "#information to your saved models can save your bacon in development.\n",
    "#Just what version model have you just loaded to reuse? What version of `sklearn`\n",
    "#created it? When did you make it?\n",
    "#Assign the pandas version number (`pd.__version__`) to the `pandas_version` attribute,\n",
    "#the numpy version (`np.__version__`) to the `numpy_version` attribute,\n",
    "#the sklearn version (`sklearn_version`) to the `sklearn_version` attribute,\n",
    "#and the current datetime (`datetime.datetime.now()`) to the `build_datetime` attribute\n",
    "#Let's call this model version '1.0'\n",
    "best_model = gb2\n",
    "best_model.version = '1.0'\n",
    "best_model.pandas_version = pd.__version__\n",
    "best_model.numpy_version = np.__version__\n",
    "#best_model.sklearn_version = sklearn_version\n",
    "best_model.X_columns = [col for col in X_train.columns]\n",
    "#best_model.build_datetime = datetime.datetime.now()"
   ]
  },
  {
   "cell_type": "code",
   "execution_count": 61,
   "metadata": {},
   "outputs": [
    {
     "ename": "ModuleNotFoundError",
     "evalue": "No module named 'library'",
     "output_type": "error",
     "traceback": [
      "\u001b[1;31m---------------------------------------------------------------------------\u001b[0m",
      "\u001b[1;31mModuleNotFoundError\u001b[0m                       Traceback (most recent call last)",
      "\u001b[1;32m<ipython-input-61-3666879496a1>\u001b[0m in \u001b[0;36m<module>\u001b[1;34m\u001b[0m\n\u001b[0;32m      2\u001b[0m \u001b[1;32mimport\u001b[0m \u001b[0mos\u001b[0m\u001b[1;33m\u001b[0m\u001b[1;33m\u001b[0m\u001b[0m\n\u001b[0;32m      3\u001b[0m \u001b[1;32mimport\u001b[0m \u001b[0mpickle\u001b[0m\u001b[1;33m\u001b[0m\u001b[1;33m\u001b[0m\u001b[0m\n\u001b[1;32m----> 4\u001b[1;33m \u001b[1;32mimport\u001b[0m \u001b[0mlibrary\u001b[0m\u001b[1;33m\u001b[0m\u001b[1;33m\u001b[0m\u001b[0m\n\u001b[0m\u001b[0;32m      5\u001b[0m \u001b[1;32mfrom\u001b[0m \u001b[0mlibrary\u001b[0m\u001b[1;33m.\u001b[0m\u001b[0msb_utils\u001b[0m \u001b[1;32mimport\u001b[0m \u001b[0msave_file\u001b[0m\u001b[1;33m\u001b[0m\u001b[1;33m\u001b[0m\u001b[0m\n\u001b[0;32m      6\u001b[0m \u001b[0mmodelpath\u001b[0m \u001b[1;33m=\u001b[0m \u001b[1;34m'../models'\u001b[0m\u001b[1;33m\u001b[0m\u001b[1;33m\u001b[0m\u001b[0m\n",
      "\u001b[1;31mModuleNotFoundError\u001b[0m: No module named 'library'"
     ]
    }
   ],
   "source": [
    "# save the model\n",
    "import os\n",
    "import pickle\n",
    "import library\n",
    "from library.sb_utils import save_file\n",
    "modelpath = '../models'\n",
    "save_file(best_model, 'Best_model.pkl', modelpath)"
   ]
  },
  {
   "cell_type": "code",
   "execution_count": null,
   "metadata": {},
   "outputs": [],
   "source": []
  }
 ],
 "metadata": {
  "kernelspec": {
   "display_name": "Python 3",
   "language": "python",
   "name": "python3"
  },
  "language_info": {
   "codemirror_mode": {
    "name": "ipython",
    "version": 3
   },
   "file_extension": ".py",
   "mimetype": "text/x-python",
   "name": "python",
   "nbconvert_exporter": "python",
   "pygments_lexer": "ipython3",
   "version": "3.7.1"
  }
 },
 "nbformat": 4,
 "nbformat_minor": 2
}
