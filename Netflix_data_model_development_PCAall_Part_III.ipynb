{
 "cells": [
  {
   "cell_type": "markdown",
   "metadata": {},
   "source": [
    "# Model developement to predict the rating of a movie: Part-III  (applying PCA with all default arguments)"
   ]
  },
  {
   "cell_type": "code",
   "execution_count": 1,
   "metadata": {},
   "outputs": [],
   "source": [
    "# Import necessary libraries\n",
    "import numpy as np\n",
    "import pandas as pd\n",
    "import matplotlib.pyplot as plt\n",
    "from sklearn.linear_model import LinearRegression, Lasso, Ridge\n",
    "from sklearn.model_selection import train_test_split\n",
    "from sklearn.model_selection import GridSearchCV, RandomizedSearchCV\n",
    "from sklearn.ensemble import GradientBoostingRegressor\n",
    "from sklearn.metrics import r2_score\n",
    "from sklearn.inspection import permutation_importance\n",
    "from sklearn.model_selection import KFold\n",
    "from sklearn.model_selection import cross_val_score\n",
    "from sklearn import metrics\n",
    "from sklearn.pipeline import make_pipeline\n",
    "from sklearn.feature_selection import SelectKBest, f_regression\n",
    "from sklearn.decomposition import PCA"
   ]
  },
  {
   "cell_type": "code",
   "execution_count": 2,
   "metadata": {},
   "outputs": [],
   "source": [
    "# Import the datasets\n",
    "IMDB_only = pd.read_csv('pre-processed_dataset/IMDB_only.csv', index_col = 0)\n",
    "IMDB_Kaggle_common = pd.read_csv('pre-processed_dataset/IMDB_Kaggle_common.csv', index_col = 0)"
   ]
  },
  {
   "cell_type": "code",
   "execution_count": 3,
   "metadata": {},
   "outputs": [],
   "source": [
    "#IMDB_only.shape, IMDB_Kaggle_common.shape"
   ]
  },
  {
   "cell_type": "code",
   "execution_count": 4,
   "metadata": {},
   "outputs": [],
   "source": [
    "y = IMDB_only['avg_vote']\n",
    "X = IMDB_only.drop(columns = 'avg_vote')"
   ]
  },
  {
   "cell_type": "code",
   "execution_count": 65,
   "metadata": {},
   "outputs": [
    {
     "name": "stdout",
     "output_type": "stream",
     "text": [
      "(69458, 1088)\n"
     ]
    }
   ],
   "source": [
    "print(X.shape)\n",
    "#print(y.shape)"
   ]
  },
  {
   "cell_type": "markdown",
   "metadata": {},
   "source": [
    "## train test split"
   ]
  },
  {
   "cell_type": "code",
   "execution_count": 6,
   "metadata": {},
   "outputs": [
    {
     "name": "stdout",
     "output_type": "stream",
     "text": [
      "(48620, 1088)\n",
      "(20838, 1088)\n"
     ]
    }
   ],
   "source": [
    "X_train, X_test, y_train, y_test = train_test_split(X, y, test_size = 0.3, random_state = 42)\n",
    "print(X_train.shape)\n",
    "print(X_test.shape)"
   ]
  },
  {
   "cell_type": "code",
   "execution_count": 7,
   "metadata": {},
   "outputs": [
    {
     "data": {
      "text/plain": [
       "array([0.30476809, 0.16820868, 0.05150449, 0.04209438, 0.0350429 ,\n",
       "       0.02627028, 0.0226602 , 0.02032903, 0.01607263, 0.01553961,\n",
       "       0.01414742, 0.01269597, 0.01074852, 0.00992601, 0.00939499])"
      ]
     },
     "execution_count": 7,
     "metadata": {},
     "output_type": "execute_result"
    }
   ],
   "source": [
    "# PCA with all default arguments\n",
    "pca = PCA()\n",
    "pca1 = pca.fit(X_train)\n",
    "pca1_train = pca1.transform(X_train)\n",
    "pca1_test = pca1.transform(X_test)\n",
    "variance = pca1.explained_variance_ratio_\n",
    "variance[:15]\n",
    "\n",
    "#Output:\n",
    "#[0.30476809121619186,\n",
    "# 0.1682086818774086,\n",
    "# 0.05150448785425715,\n",
    "# 0.042094380541708144,\n",
    "# 0.03504289931651358,\n",
    "# 0.026270276477107092,\n",
    "# 0.022660203064789032,\n",
    "# 0.020329030729842913,\n",
    "# 0.01607262796414132,\n",
    "# 0.015539609502561455,\n",
    "# 0.014147424485202849,\n",
    "# 0.012695973215188873,\n",
    "# 0.010748522003045585,\n",
    "# 0.009926005663720237,\n",
    "# 0.009394994290116893]"
   ]
  },
  {
   "cell_type": "code",
   "execution_count": 8,
   "metadata": {},
   "outputs": [
    {
     "data": {
      "image/png": "[encoded data removed]",
      "text/plain": [
       "<Figure size 432x288 with 1 Axes>"
      ]
     },
     "metadata": {
      "needs_background": "light"
     },
     "output_type": "display_data"
    }
   ],
   "source": [
    "# Plot the variance\n",
    "plt.plot(range(len(variance)), variance)\n",
    "plt.xlabel('Number of components')\n",
    "plt.ylabel('Propotion of variance explained')\n",
    "plt.show()"
   ]
  },
  {
   "cell_type": "code",
   "execution_count": 9,
   "metadata": {},
   "outputs": [
    {
     "data": {
      "image/png": "[encoded data removed]",
      "text/plain": [
       "<Figure size 432x288 with 1 Axes>"
      ]
     },
     "metadata": {
      "needs_background": "light"
     },
     "output_type": "display_data"
    }
   ],
   "source": [
    "# Plot the variance\n",
    "cum_sum_variance = np.cumsum(variance)\n",
    "plt.plot(range(len(variance)), cum_sum_variance)\n",
    "plt.xlabel('Number of components')\n",
    "plt.ylabel('Propotion of variance explained')\n",
    "plt.show()\n"
   ]
  },
  {
   "cell_type": "code",
   "execution_count": 10,
   "metadata": {},
   "outputs": [],
   "source": [
    "cum_sum_variance2 = cum_sum_variance.tolist()"
   ]
  },
  {
   "cell_type": "code",
   "execution_count": 11,
   "metadata": {},
   "outputs": [],
   "source": [
    "\n",
    "value_95 = np.percentile(cum_sum_variance2, 95)"
   ]
  },
  {
   "cell_type": "code",
   "execution_count": 12,
   "metadata": {},
   "outputs": [
    {
     "data": {
      "text/plain": [
       "[0.30476809121619186,\n",
       " 0.4729767730936004,\n",
       " 0.5244812609478575,\n",
       " 0.5665756414895656,\n",
       " 0.6016185408060792,\n",
       " 0.6278888172831864,\n",
       " 0.6505490203479753,\n",
       " 0.6708780510778183,\n",
       " 0.6869506790419596,\n",
       " 0.7024902885445211,\n",
       " 0.716637713029724,\n",
       " 0.7293336862449129,\n",
       " 0.7400822082479585,\n",
       " 0.7500082139116787,\n",
       " 0.7594032082017956,\n",
       " 0.7687563008775433,\n",
       " 0.7773834568103382,\n",
       " 0.7847942561190525,\n",
       " 0.7919170652156456,\n",
       " 0.7985538712896908,\n",
       " 0.8047050867899785,\n",
       " 0.8099798254055867,\n",
       " 0.8149692224750009,\n",
       " 0.8198413332292758,\n",
       " 0.8242168505482359,\n",
       " 0.8284934145931181,\n",
       " 0.8323400481631601,\n",
       " 0.8361148467040853,\n",
       " 0.8395520075322103,\n",
       " 0.8429547877582676,\n",
       " 0.8459852618774264,\n",
       " 0.8489214278611336,\n",
       " 0.8516303389285832,\n",
       " 0.8540795919072027,\n",
       " 0.8564902402658586,\n",
       " 0.8588663287071523,\n",
       " 0.8611101771773207,\n",
       " 0.863270842720315,\n",
       " 0.8653520941250208,\n",
       " 0.867404996989788,\n",
       " 0.8694334343386301,\n",
       " 0.8713608986786169,\n",
       " 0.8732781956007335,\n",
       " 0.8751331622806852,\n",
       " 0.8768679563597092,\n",
       " 0.8785201160596194,\n",
       " 0.8801366668516089,\n",
       " 0.8816589387680227,\n",
       " 0.8831217702655615,\n",
       " 0.8845561064027361,\n",
       " 0.8858457385689449,\n",
       " 0.8871048108428405,\n",
       " 0.8882133760051061,\n",
       " 0.88923530011007,\n",
       " 0.890204826941096,\n",
       " 0.8911526909848196,\n",
       " 0.8920796276681228,\n",
       " 0.8929852038040927,\n",
       " 0.893870732104934,\n",
       " 0.8947384263483819,\n",
       " 0.8955691277149513,\n",
       " 0.896379978092427,\n",
       " 0.8971289661018211,\n",
       " 0.8978639225438346,\n",
       " 0.8985769354033881,\n",
       " 0.8992418652922254,\n",
       " 0.8998465386417758,\n",
       " 0.9003962744218038,\n",
       " 0.9009315027659255,\n",
       " 0.9014419075742275,\n",
       " 0.9019503201195049,\n",
       " 0.9024574861537425,\n",
       " 0.9029554166143067,\n",
       " 0.9034105600332215,\n",
       " 0.9038599266601572,\n",
       " 0.9042941015566629,\n",
       " 0.9047170443372937,\n",
       " 0.9051373775089919,\n",
       " 0.9055536607797701,\n",
       " 0.9059619059089992,\n",
       " 0.9063677728260174,\n",
       " 0.9067389393971632,\n",
       " 0.907101461678518,\n",
       " 0.9074603690848798,\n",
       " 0.9078152833210525,\n",
       " 0.9081608651665091,\n",
       " 0.9085048848859232,\n",
       " 0.9088468927211532,\n",
       " 0.9091860294654661,\n",
       " 0.909524981631686,\n",
       " 0.9098623624331699,\n",
       " 0.9101972493186469,\n",
       " 0.9105295922751857,\n",
       " 0.9108522315829048,\n",
       " 0.9111664831555463,\n",
       " 0.911476977922582,\n",
       " 0.9117825582614127,\n",
       " 0.9120850951121984,\n",
       " 0.912384878813515,\n",
       " 0.9126840470938046,\n",
       " 0.9129821842432194,\n",
       " 0.9132785028178184,\n",
       " 0.9135735910841641,\n",
       " 0.9138681478759427,\n",
       " 0.9141591862247269,\n",
       " 0.9144448404454552,\n",
       " 0.9147282890447841,\n",
       " 0.9150096633417809,\n",
       " 0.9152905302169252,\n",
       " 0.9155685141012526,\n",
       " 0.9158421044024105,\n",
       " 0.9161151329686128,\n",
       " 0.916385745247338,\n",
       " 0.9166557875707465,\n",
       " 0.9169245825202373,\n",
       " 0.9171908016941326,\n",
       " 0.9174563851495047,\n",
       " 0.917720780665116,\n",
       " 0.917983480208098,\n",
       " 0.9182444049110094,\n",
       " 0.9184968873140048,\n",
       " 0.9187479885798889,\n",
       " 0.9189969881365139,\n",
       " 0.9192451617886751,\n",
       " 0.9194922432642617,\n",
       " 0.9197389717200563,\n",
       " 0.9199856352370137,\n",
       " 0.9202310473734655,\n",
       " 0.9204764036628598,\n",
       " 0.9207212645080464,\n",
       " 0.9209659720076881,\n",
       " 0.9212099664226626,\n",
       " 0.9214528948847697,\n",
       " 0.9216947414304365,\n",
       " 0.9219344135419028,\n",
       " 0.9221731376450011,\n",
       " 0.9224110706114974,\n",
       " 0.9226479994522611,\n",
       " 0.9228842818711622,\n",
       " 0.9231187551679302,\n",
       " 0.9233506192846285,\n",
       " 0.9235820669861822,\n",
       " 0.9238125520061186,\n",
       " 0.9240429833758566,\n",
       " 0.9242730205530348,\n",
       " 0.924501570269181,\n",
       " 0.9247294491004443,\n",
       " 0.9249569586712356,\n",
       " 0.9251823532739136,\n",
       " 0.9254069538481453,\n",
       " 0.9256313396775084,\n",
       " 0.9258553276854946,\n",
       " 0.9260786915174939,\n",
       " 0.9262987773558091,\n",
       " 0.9265183444181266,\n",
       " 0.9267363135412309,\n",
       " 0.9269531428468549,\n",
       " 0.9271691143419467,\n",
       " 0.9273842213565359,\n",
       " 0.9275985663189819,\n",
       " 0.9278120283020579,\n",
       " 0.9280252969900615,\n",
       " 0.9282379504514583,\n",
       " 0.9284502643705471,\n",
       " 0.9286619497767226,\n",
       " 0.9288725763881203,\n",
       " 0.9290830528710563,\n",
       " 0.9292933880591747,\n",
       " 0.9295031290979917,\n",
       " 0.929712547212909,\n",
       " 0.9299213799327771,\n",
       " 0.9301286475578752,\n",
       " 0.9303355513614682,\n",
       " 0.930541833255004,\n",
       " 0.9307479420481202,\n",
       " 0.9309536835475984,\n",
       " 0.9311590978794247,\n",
       " 0.9313631017579418,\n",
       " 0.9315665017721948,\n",
       " 0.9317692850371592,\n",
       " 0.9319717837826387,\n",
       " 0.9321738647338483,\n",
       " 0.9323752056926222,\n",
       " 0.9325760158199211,\n",
       " 0.9327759159407684,\n",
       " 0.9329751380443045,\n",
       " 0.9331742913024231,\n",
       " 0.9333724170425666,\n",
       " 0.9335701133632635,\n",
       " 0.9337673077197572,\n",
       " 0.9339639230994522,\n",
       " 0.9341604421341861,\n",
       " 0.9343557848802313,\n",
       " 0.9345506707107711,\n",
       " 0.9347447861724336,\n",
       " 0.9349385051709793,\n",
       " 0.9351315594494948,\n",
       " 0.9353240958277041,\n",
       " 0.9355162736594804,\n",
       " 0.9357077592670138,\n",
       " 0.9358986912329658,\n",
       " 0.9360891493552047,\n",
       " 0.936279566769127,\n",
       " 0.9364687900822373,\n",
       " 0.9366577835854354,\n",
       " 0.9368460692937024,\n",
       " 0.9370339679882134,\n",
       " 0.9372215173460106,\n",
       " 0.9374085802237376,\n",
       " 0.9375953363347064,\n",
       " 0.9377817917786805,\n",
       " 0.9379678721621398,\n",
       " 0.9381535434690711,\n",
       " 0.9383389768836484,\n",
       " 0.9385240575897769,\n",
       " 0.938708548385628,\n",
       " 0.9388927997652771,\n",
       " 0.939075964867139,\n",
       " 0.9392587957787231,\n",
       " 0.9394401329007602,\n",
       " 0.939620972106511,\n",
       " 0.9398015829709505,\n",
       " 0.939981197798703,\n",
       " 0.9401603944165831,\n",
       " 0.9403392944039778,\n",
       " 0.9405177603367959,\n",
       " 0.940695880102141,\n",
       " 0.940873350145554,\n",
       " 0.9410501823421938,\n",
       " 0.9412257938575713,\n",
       " 0.9414012331382596,\n",
       " 0.941576427481323,\n",
       " 0.9417513933761408,\n",
       " 0.9419259481141361,\n",
       " 0.9421002379660983,\n",
       " 0.9422740148252005,\n",
       " 0.9424470356468345,\n",
       " 0.9426198317502744,\n",
       " 0.9427920907760606,\n",
       " 0.9429639722755714,\n",
       " 0.9431355085250671,\n",
       " 0.9433069925477776,\n",
       " 0.9434779942682273,\n",
       " 0.9436484179033114,\n",
       " 0.9438185492922587,\n",
       " 0.9439881012833113,\n",
       " 0.94415728459801,\n",
       " 0.9443262718320836,\n",
       " 0.9444949564251413,\n",
       " 0.9446634442645736,\n",
       " 0.9448312358884617,\n",
       " 0.9449987760689131,\n",
       " 0.9451660751031877,\n",
       " 0.9453320851823229,\n",
       " 0.9454977893751225,\n",
       " 0.9456632029082813,\n",
       " 0.9458285374243101,\n",
       " 0.9459936360958597,\n",
       " 0.9461583781624399,\n",
       " 0.94632278368487,\n",
       " 0.9464865169632243,\n",
       " 0.9466500926989575,\n",
       " 0.9468134894412926,\n",
       " 0.9469766636014867,\n",
       " 0.9471393041082464,\n",
       " 0.9473014223035816,\n",
       " 0.9474630860336261,\n",
       " 0.9476240568934776,\n",
       " 0.9477849381296967,\n",
       " 0.9479454091442515,\n",
       " 0.9481055255792733,\n",
       " 0.9482653717379356,\n",
       " 0.9484250194010554,\n",
       " 0.9485845265452879,\n",
       " 0.9487437442738786,\n",
       " 0.9489029115642716,\n",
       " 0.9490618577956149,\n",
       " 0.9492204303202821,\n",
       " 0.9493789757230126,\n",
       " 0.9495367794763273,\n",
       " 0.9496945432013129,\n",
       " 0.9498521314383479,\n",
       " 0.9500094820584906,\n",
       " 0.9501666282514962,\n",
       " 0.9503230780662905,\n",
       " 0.9504790607749606,\n",
       " 0.950634872210435,\n",
       " 0.9507902093306023,\n",
       " 0.9509451743737962,\n",
       " 0.9510998760027978,\n",
       " 0.9512542225083669,\n",
       " 0.9514085512068574,\n",
       " 0.9515620756138136,\n",
       " 0.9517152916042467,\n",
       " 0.9518679446970439,\n",
       " 0.9520204447026035,\n",
       " 0.9521726601757966,\n",
       " 0.9523240127233702,\n",
       " 0.9524746596144757,\n",
       " 0.9526245760924613,\n",
       " 0.9527741392264694,\n",
       " 0.9529231126830388,\n",
       " 0.9530720372536298,\n",
       " 0.9532205447527059,\n",
       " 0.9533687911242829,\n",
       " 0.953516491736504,\n",
       " 0.9536637598072848,\n",
       " 0.9538109268264282,\n",
       " 0.9539579579087344,\n",
       " 0.9541042039615263,\n",
       " 0.9542501881686425,\n",
       " 0.954396105627385,\n",
       " 0.9545417584282357,\n",
       " 0.9546873296666294,\n",
       " 0.9548325404009025,\n",
       " 0.9549774675413489,\n",
       " 0.9551220701885271,\n",
       " 0.9552661065298674,\n",
       " 0.9554093758096078,\n",
       " 0.9555524322270331,\n",
       " 0.9556951776550667,\n",
       " 0.9558375987503861,\n",
       " 0.9559791731177003,\n",
       " 0.9561205621642183,\n",
       " 0.9562617968253888,\n",
       " 0.9564027196840211,\n",
       " 0.9565433533599484,\n",
       " 0.9566839570417058,\n",
       " 0.9568240532541141,\n",
       " 0.9569636683483118,\n",
       " 0.9571030879794508,\n",
       " 0.9572423889201045,\n",
       " 0.9573810882885617,\n",
       " 0.957519589056679,\n",
       " 0.9576578194245183,\n",
       " 0.9577958616058353,\n",
       " 0.9579335853181226,\n",
       " 0.9580710259445382,\n",
       " 0.9582078213716612,\n",
       " 0.9583442607802544,\n",
       " 0.9584805071943002,\n",
       " 0.9586163008221058,\n",
       " 0.9587518678545591,\n",
       " 0.9588873797160375,\n",
       " 0.9590225305017657,\n",
       " 0.9591572866282722,\n",
       " 0.9592916986763923,\n",
       " 0.9594259886164556,\n",
       " 0.9595599816395841,\n",
       " 0.9596936033921909,\n",
       " 0.9598271897248722,\n",
       " 0.95996012540556,\n",
       " 0.9600930010585305,\n",
       " 0.9602251127000836,\n",
       " 0.9603569087670498,\n",
       " 0.9604883020738955,\n",
       " 0.9606195463065996,\n",
       " 0.9607507079851078,\n",
       " 0.9608815928750112,\n",
       " 0.9610122130047114,\n",
       " 0.9611422435227224,\n",
       " 0.9612718258140182,\n",
       " 0.9614012797781185,\n",
       " 0.9615305674455987,\n",
       " 0.9616597320875157,\n",
       " 0.961788387797486,\n",
       " 0.9619163270077036,\n",
       " 0.9620439857065191,\n",
       " 0.9621715356296235,\n",
       " 0.9622985743917943,\n",
       " 0.9624252172769242,\n",
       " 0.962551790171954,\n",
       " 0.9626776726796534,\n",
       " 0.962803194509237,\n",
       " 0.9629281062657347,\n",
       " 0.9630526907745895,\n",
       " 0.9631768254674826,\n",
       " 0.9633007345236863,\n",
       " 0.9634242408645325,\n",
       " 0.9635473308666525,\n",
       " 0.9636702040654614,\n",
       " 0.9637929255757004,\n",
       " 0.9639152485634388,\n",
       " 0.9640373957094062,\n",
       " 0.9641591684305374,\n",
       " 0.9642806050538902,\n",
       " 0.9644014586144777,\n",
       " 0.9645222406724036,\n",
       " 0.9646428423667032,\n",
       " 0.9647631132220035,\n",
       " 0.9648830799703549,\n",
       " 0.9650021870627613,\n",
       " 0.9651210953271224,\n",
       " 0.9652397829096074,\n",
       " 0.9653581477507993,\n",
       " 0.965475912553514,\n",
       " 0.9655931579588247,\n",
       " 0.9657101549136486,\n",
       " 0.9658270212285516,\n",
       " 0.9659436802278047,\n",
       " 0.9660602204866335,\n",
       " 0.9661765026275942,\n",
       " 0.9662924822716469,\n",
       " 0.9664082968321179,\n",
       " 0.9665238532669026,\n",
       " 0.9666390645336769,\n",
       " 0.9667537099920697,\n",
       " 0.9668674764719384,\n",
       " 0.9669811673004293,\n",
       " 0.9670945376892887,\n",
       " 0.9672078286121203,\n",
       " 0.9673209117104041,\n",
       " 0.9674336925900588,\n",
       " 0.9675460982377856,\n",
       " 0.9676581794003237,\n",
       " 0.967770091721714,\n",
       " 0.9678811241868582,\n",
       " 0.9679919397421969,\n",
       " 0.9681026457279812,\n",
       " 0.9682129369804573,\n",
       " 0.9683226869153095,\n",
       " 0.9684322878346686,\n",
       " 0.9685418368558956,\n",
       " 0.9686503559626694,\n",
       " 0.9687579925360689,\n",
       " 0.9688652513267667,\n",
       " 0.9689723685559966,\n",
       " 0.9690793292775481,\n",
       " 0.9691861250920955,\n",
       " 0.9692926510316188,\n",
       " 0.9693991048234991,\n",
       " 0.9695052453351537,\n",
       " 0.9696107354740532,\n",
       " 0.9697162052306703,\n",
       " 0.9698214976942789,\n",
       " 0.9699256199579986,\n",
       " 0.9700296795193766,\n",
       " 0.9701334535149798,\n",
       " 0.9702368346234956,\n",
       " 0.9703400783463568,\n",
       " 0.9704432154773429,\n",
       " 0.9705461792967032,\n",
       " 0.9706487974275256,\n",
       " 0.9707511810401678,\n",
       " 0.9708530660514004,\n",
       " 0.9709548124987757,\n",
       " 0.9710563366434356,\n",
       " 0.9711577226177286,\n",
       " 0.9712587468540586,\n",
       " 0.9713595144028627,\n",
       " 0.9714601814888533,\n",
       " 0.9715605866683197,\n",
       " 0.9716606066220205,\n",
       " 0.9717600829876183,\n",
       " 0.9718590422478969,\n",
       " 0.9719578518495157,\n",
       " 0.9720562131262405,\n",
       " 0.9721532716221052,\n",
       " 0.9722498170242744,\n",
       " 0.9723461955104619,\n",
       " 0.9724422169482655,\n",
       " 0.9725381363978064,\n",
       " 0.9726336848712069,\n",
       " 0.9727291259735006,\n",
       " 0.9728243010693666,\n",
       " 0.9729189683150213,\n",
       " 0.9730135060181253,\n",
       " 0.9731077415422369,\n",
       " 0.9732016907457728,\n",
       " 0.9732954301722471,\n",
       " 0.9733884395376841,\n",
       " 0.9734811009067599,\n",
       " 0.9735737451328816,\n",
       " 0.9736662278110398,\n",
       " 0.9737583743122507,\n",
       " 0.9738503990454282,\n",
       " 0.9739420931186558,\n",
       " 0.9740334876989633,\n",
       " 0.9741246835803299,\n",
       " 0.9742157400567295,\n",
       " 0.9743063750499024,\n",
       " 0.9743969328364914,\n",
       " 0.9744870703235209,\n",
       " 0.9745768455258009,\n",
       " 0.9746663331344968,\n",
       " 0.9747557544571875,\n",
       " 0.9748450289856055,\n",
       " 0.9749342646714508,\n",
       " 0.9750233351545233,\n",
       " 0.9751121172501468,\n",
       " 0.9752005792593827,\n",
       " 0.9752888148441089,\n",
       " 0.9753767820922516,\n",
       " 0.9754646229828904,\n",
       " 0.9755523597962505,\n",
       " 0.9756397866158428,\n",
       " 0.975727165956777,\n",
       " 0.9758142809893965,\n",
       " 0.9759010664191119,\n",
       " 0.9759874512289876,\n",
       " 0.9760736348798928,\n",
       " 0.9761597147374442,\n",
       " 0.976245550608541,\n",
       " 0.9763311107532717,\n",
       " 0.9764165959248968,\n",
       " 0.9765020105128172,\n",
       " 0.9765873260724764,\n",
       " 0.9766725301078895,\n",
       " 0.9767576081333895,\n",
       " 0.976842558416519,\n",
       " 0.9769273937844546,\n",
       " 0.9770120355458309,\n",
       " 0.9770965259517542,\n",
       " 0.9771806529390701,\n",
       " 0.9772642741526586,\n",
       " 0.9773477552872789,\n",
       " 0.9774309390035837,\n",
       " 0.9775140107265436,\n",
       " 0.9775969607711359,\n",
       " 0.9776796172574287,\n",
       " 0.9777622581543082,\n",
       " 0.9778447371256163,\n",
       " 0.9779267943793204,\n",
       " 0.9780087239957411,\n",
       " 0.9780901765649547,\n",
       " 0.978171302422102,\n",
       " 0.9782523728261626,\n",
       " 0.9783332890518247,\n",
       " 0.9784140140263489,\n",
       " 0.9784946499260654,\n",
       " 0.978575259006,\n",
       " 0.9786557686607068,\n",
       " 0.9787362119612417,\n",
       " 0.978816562698704,\n",
       " 0.9788964915536182,\n",
       " 0.9789762790163394,\n",
       " 0.979055485320601,\n",
       " 0.9791344965478112,\n",
       " 0.9792130097301502,\n",
       " 0.9792913472187931,\n",
       " 0.9793694446310695,\n",
       " 0.9794473965974325,\n",
       " 0.979525188504129,\n",
       " 0.9796028660628997,\n",
       " 0.9796804661712302,\n",
       " 0.9797578489243465,\n",
       " 0.9798350822670471,\n",
       " 0.9799121729639985,\n",
       " 0.9799890026321484,\n",
       " 0.9800657027434945,\n",
       " 0.980142334386092,\n",
       " 0.980218906795456,\n",
       " 0.9802952888810146,\n",
       " 0.980371477647226,\n",
       " 0.980447634680379,\n",
       " 0.9805236950333069,\n",
       " 0.980599314756557,\n",
       " 0.9806746836878,\n",
       " 0.9807498808341029,\n",
       " 0.9808246403319982,\n",
       " 0.98089929810141,\n",
       " 0.980973750402188,\n",
       " 0.9810478568806148,\n",
       " 0.9811219080240945,\n",
       " 0.9811958617341577,\n",
       " 0.9812695544371899,\n",
       " 0.9813430058868389,\n",
       " 0.981416386044785,\n",
       " 0.9814895340449566,\n",
       " 0.9815626110397091,\n",
       " 0.9816356390796842,\n",
       " 0.981708435904161,\n",
       " 0.9817810982071467,\n",
       " 0.9818536932761144,\n",
       " 0.981926203428816,\n",
       " 0.9819985702798234,\n",
       " 0.9820707896437759,\n",
       " 0.9821429463552626,\n",
       " 0.9822149476084326,\n",
       " 0.9822867350263934,\n",
       " 0.9823582639929633,\n",
       " 0.9824297117751193,\n",
       " 0.9825010518295261,\n",
       " 0.9825723491456927,\n",
       " 0.9826435710117487,\n",
       " 0.9827145566737514,\n",
       " 0.9827854467595416,\n",
       " 0.982856278067798,\n",
       " 0.9829270826981312,\n",
       " 0.9829976632324016,\n",
       " 0.9830681047462532,\n",
       " 0.9831384947134478,\n",
       " 0.9832087423447672,\n",
       " 0.9832787169187284,\n",
       " 0.9833486533527047,\n",
       " 0.9834184272673833,\n",
       " 0.9834881021816279,\n",
       " 0.983557644587174,\n",
       " 0.9836271134085087,\n",
       " 0.9836964840729658,\n",
       " 0.9837656771989735,\n",
       " 0.9838345674078653,\n",
       " 0.9839034139476004,\n",
       " 0.9839721363869444,\n",
       " 0.9840406532260739,\n",
       " 0.9841089417978639,\n",
       " 0.9841771038237664,\n",
       " 0.9842452146443537,\n",
       " 0.9843130515393475,\n",
       " 0.984380645752347,\n",
       " 0.9844479639111497,\n",
       " 0.9845150073122012,\n",
       " 0.9845819773772073,\n",
       " 0.9846488413042269,\n",
       " 0.984715675220632,\n",
       " 0.9847823717871563,\n",
       " 0.9848489911523822,\n",
       " 0.9849155133074164,\n",
       " 0.9849817453716131,\n",
       " 0.9850478139754496,\n",
       " 0.9851136862427158,\n",
       " 0.9851793808532981,\n",
       " 0.9852448056268849,\n",
       " 0.9853099586833165,\n",
       " 0.9853749855487344,\n",
       " 0.9854399154055299,\n",
       " 0.9855046434754624,\n",
       " 0.9855693395233323,\n",
       " 0.9856339940265754,\n",
       " 0.9856985865640705,\n",
       " 0.9857629352271924,\n",
       " 0.9858272381937249,\n",
       " 0.9858914867324252,\n",
       " 0.9859556262225563,\n",
       " 0.9860196670541396,\n",
       " 0.9860835855396246,\n",
       " 0.9861474598495036,\n",
       " 0.9862110182684366,\n",
       " 0.9862744941350772,\n",
       " 0.986337793672109,\n",
       " 0.986401004341888,\n",
       " 0.9864639290439352,\n",
       " 0.9865267694547696,\n",
       " 0.9865895685004499,\n",
       " 0.9866522172442692,\n",
       " 0.9867148301046279,\n",
       " 0.9867772639082443,\n",
       " 0.9868395065153291,\n",
       " 0.9869016568246547,\n",
       " 0.9869636840941034,\n",
       " 0.9870255317780612,\n",
       " 0.9870873027638024,\n",
       " 0.9871489491270147,\n",
       " 0.9872105705939042,\n",
       " 0.9872721242689566,\n",
       " 0.9873336480544317,\n",
       " 0.9873950502147762,\n",
       " 0.9874563930025265,\n",
       " 0.9875177287849998,\n",
       " 0.9875789816974839,\n",
       " 0.9876400574151571,\n",
       " 0.9877007922627187,\n",
       " 0.9877615068989893,\n",
       " 0.9878216167804231,\n",
       " 0.9878817182943925,\n",
       " 0.9879417287448111,\n",
       " 0.9880016523577019,\n",
       " 0.9880614094743825,\n",
       " 0.9881210263100713,\n",
       " 0.9881804418524416,\n",
       " 0.9882397138909308,\n",
       " 0.9882988782705208,\n",
       " 0.9883579599222033,\n",
       " 0.9884169960106812,\n",
       " 0.9884759067351793,\n",
       " 0.9885347802176859,\n",
       " 0.988593512682878,\n",
       " 0.9886521844583854,\n",
       " 0.9887107653987066,\n",
       " 0.9887693033898869,\n",
       " 0.9888277762036449,\n",
       " 0.9888861169810969,\n",
       " 0.9889444430907549,\n",
       " 0.9890026825381619,\n",
       " 0.9890608218606333,\n",
       " 0.9891188129017956,\n",
       " 0.9891767199021277,\n",
       " 0.9892346174563684,\n",
       " 0.9892924781679444,\n",
       " 0.9893500630634944,\n",
       " 0.9894075733963732,\n",
       " 0.989465061457189,\n",
       " 0.9895223586866331,\n",
       " 0.9895792321791661,\n",
       " 0.9896360501892479,\n",
       " 0.989692801251486,\n",
       " 0.9897494192692066,\n",
       " 0.9898059897974613,\n",
       " 0.9898624623659804,\n",
       " 0.9899189031853689,\n",
       " 0.9899753192035412,\n",
       " 0.9900316435895026,\n",
       " 0.9900877604530482,\n",
       " 0.9901438283571743,\n",
       " 0.9901997848958981,\n",
       " 0.9902556320874942,\n",
       " 0.9903113913224018,\n",
       " 0.9903670715079718,\n",
       " 0.9904227307939242,\n",
       " 0.990478267867695,\n",
       " 0.9905335153057302,\n",
       " 0.9905885578252711,\n",
       " 0.9906433542576921,\n",
       " 0.9906981195624095,\n",
       " 0.9907527243413393,\n",
       " 0.9908072631419058,\n",
       " 0.990861606721161,\n",
       " 0.9909155336625833,\n",
       " 0.9909693740313141,\n",
       " 0.9910231202166552,\n",
       " 0.991076577952066,\n",
       " 0.9911297389862538,\n",
       " 0.9911827527814014,\n",
       " 0.991235719181649,\n",
       " 0.9912885722804068,\n",
       " 0.9913412834771703,\n",
       " 0.9913939090533342,\n",
       " 0.991446472236467,\n",
       " 0.9914988592213503,\n",
       " 0.9915512023045489,\n",
       " 0.9916034648498466,\n",
       " 0.9916556129410339,\n",
       " 0.9917076684936523,\n",
       " 0.9917595837399071,\n",
       " 0.9918114425173298,\n",
       " 0.9918631609401608,\n",
       " 0.9919146242431697,\n",
       " 0.9919660523785991,\n",
       " 0.9920173908872653,\n",
       " 0.992068713442172,\n",
       " 0.9921199850313805,\n",
       " 0.9921711570299524,\n",
       " 0.992222009307683,\n",
       " 0.9922728369939953,\n",
       " 0.9923235213415224,\n",
       " 0.9923739873447236,\n",
       " 0.9924241519336395,\n",
       " 0.9924740850472853,\n",
       " 0.9925236779127369,\n",
       " 0.9925732195333654,\n",
       " 0.9926227330614452,\n",
       " 0.9926721698171243,\n",
       " 0.9927211805447971,\n",
       " 0.992770151475549,\n",
       " 0.9928190577014597,\n",
       " 0.9928679287219517,\n",
       " 0.9929167627113681,\n",
       " 0.99296544561511,\n",
       " 0.993013936235756,\n",
       " 0.9930621832247146,\n",
       " 0.9931103920393327,\n",
       " 0.9931583588789251,\n",
       " 0.9932062687123245,\n",
       " 0.9932539305079073,\n",
       " 0.9933015534303166,\n",
       " 0.9933490905623396,\n",
       " 0.9933964995753626,\n",
       " 0.9934435215052159,\n",
       " 0.993490411044841,\n",
       " 0.9935371751814546,\n",
       " 0.9935838561288292,\n",
       " 0.9936303548702115,\n",
       " 0.9936766573597722,\n",
       " 0.9937228913059147,\n",
       " 0.9937690247244582,\n",
       " 0.9938151213516536,\n",
       " 0.9938611835889066,\n",
       " 0.9939072133675514,\n",
       " 0.9939531431837083,\n",
       " 0.9939989589478927,\n",
       " 0.994044676269716,\n",
       " 0.9940903156128961,\n",
       " 0.9941359089677954,\n",
       " 0.99418128102381,\n",
       " 0.9942266316538022,\n",
       " 0.9942718855564024,\n",
       " 0.9943171227070504,\n",
       " 0.9943622720282081,\n",
       " 0.9944071666316802,\n",
       " 0.9944519393987761,\n",
       " 0.9944966569358745,\n",
       " 0.9945411800909026,\n",
       " 0.994585556628833,\n",
       " 0.9946297777000315,\n",
       " 0.9946739759288419,\n",
       " 0.9947180854201422,\n",
       " 0.9947621657785336,\n",
       " 0.9948060070578195,\n",
       " 0.9948497601264492,\n",
       " 0.9948932876998414,\n",
       " 0.9949367850096582,\n",
       " 0.9949802582689053,\n",
       " 0.9950234969183107,\n",
       " 0.9950660950391427,\n",
       " 0.9951086394541284,\n",
       " 0.9951509432015253,\n",
       " 0.9951928918789872,\n",
       " 0.9952347201402274,\n",
       " 0.9952764199628469,\n",
       " 0.9953180077108875,\n",
       " 0.9953594520866131,\n",
       " 0.9954006393451171,\n",
       " 0.9954417832075658,\n",
       " 0.9954827888488365,\n",
       " 0.9955236166217952,\n",
       " 0.9955641855591465,\n",
       " 0.9956046478922173,\n",
       " 0.9956450674463194,\n",
       " 0.9956854486238463,\n",
       " 0.9957257652847082,\n",
       " 0.9957659491474519,\n",
       " 0.995806047563319,\n",
       " 0.9958460046785433,\n",
       " 0.9958859582455794,\n",
       " 0.9959255956245432,\n",
       " 0.9959651995109914,\n",
       " 0.9960046529744312,\n",
       " 0.9960435846178544,\n",
       " 0.9960822712878031,\n",
       " 0.9961209571012583,\n",
       " 0.9961595426106608,\n",
       " 0.9961979688117009,\n",
       " 0.9962362395029905,\n",
       " 0.9962742420939484,\n",
       " 0.9963121540503669,\n",
       " 0.9963499683309328,\n",
       " 0.9963876025259255,\n",
       " 0.9964251668418785,\n",
       " 0.996462689230443,\n",
       " 0.9964998911297166,\n",
       " 0.9965370759031793,\n",
       " 0.9965740887196652,\n",
       " 0.9966110686787902,\n",
       " 0.9966477500403859,\n",
       " 0.9966843489323883,\n",
       " 0.9967206419960787,\n",
       " 0.9967567649389044,\n",
       " 0.9967925556050505,\n",
       " 0.9968282276685958,\n",
       " 0.996863320071949,\n",
       " 0.9968983478950374,\n",
       " 0.9969330887180902,\n",
       " 0.9969676869853343,\n",
       " 0.9970022352072127,\n",
       " 0.99703624334277,\n",
       " 0.997070176631554,\n",
       " 0.9971038628328095,\n",
       " 0.9971375165004258,\n",
       " 0.9971710688540859,\n",
       " 0.9972043591668905,\n",
       " 0.9972373583392549,\n",
       " 0.9972700704646551,\n",
       " 0.9973027570656193,\n",
       " 0.9973354300754729,\n",
       " 0.9973680313950617,\n",
       " 0.9974001651584637,\n",
       " 0.9974322412210108,\n",
       " 0.9974642288175285,\n",
       " 0.9974957917672925,\n",
       " 0.9975273376118502,\n",
       " 0.9975588405412387,\n",
       " 0.9975901096428428,\n",
       " 0.9976212939429909,\n",
       " 0.9976523514732326,\n",
       " 0.997683378941555,\n",
       " 0.9977142565667977,\n",
       " 0.9977449246943247,\n",
       " 0.9977751475726028,\n",
       " 0.9978051525638407,\n",
       " 0.9978349431252317,\n",
       " 0.9978644171990949,\n",
       " 0.9978938178249755,\n",
       " 0.997922838654005,\n",
       " 0.9979517158857515,\n",
       " 0.9979805793236001,\n",
       " 0.9980092510834286,\n",
       " 0.9980379043903773,\n",
       " 0.9980664380639268,\n",
       " 0.9980948861522804,\n",
       " 0.9981231637884294,\n",
       " 0.9981514242618366,\n",
       " 0.9981796071476925,\n",
       " 0.9982076133587003,\n",
       " 0.9982355126190313,\n",
       " 0.9982632772691524,\n",
       " 0.998290491974111,\n",
       " 0.9983175585511999,\n",
       " 0.9983444702457118,\n",
       " 0.9983706231754872,\n",
       " 0.9983963647805382,\n",
       " 0.9984217959368042,\n",
       " 0.9984471577478291,\n",
       " 0.998472449845456,\n",
       " 0.9984975292708351,\n",
       " 0.99852203468571,\n",
       " 0.9985465303695643,\n",
       " 0.9985709666595389,\n",
       " 0.9985950219156448,\n",
       " 0.9986189378194404,\n",
       " 0.9986428219722207,\n",
       " 0.9986664642308186,\n",
       " 0.9986900306295723,\n",
       " 0.9987127186083778,\n",
       " 0.9987351106313255,\n",
       " 0.9987572018848225,\n",
       " 0.9987784337273916,\n",
       " 0.9987995735303283,\n",
       " 0.9988204815237297,\n",
       " 0.9988412991806701,\n",
       " 0.9988619155212317,\n",
       " 0.9988824325201879,\n",
       " 0.998902897455468,\n",
       " 0.9989229776191365,\n",
       " 0.9989429637672567,\n",
       " 0.9989627696140067,\n",
       " 0.9989814455541642,\n",
       " 0.9989996264120813,\n",
       " 0.9990174308251477,\n",
       " 0.9990348968752822,\n",
       " 0.9990523469115363,\n",
       " 0.9990697192461434,\n",
       " 0.9990869415837601,\n",
       " 0.9991040369755562,\n",
       " 0.9991211231487658,\n",
       " 0.9991381952311422,\n",
       " 0.9991545306728408,\n",
       " 0.9991707215597453,\n",
       " 0.9991865215611404,\n",
       " 0.9992018218103753,\n",
       " 0.9992167674383283,\n",
       " 0.9992313732983856,\n",
       " 0.9992454320411738,\n",
       " 0.9992592879622263,\n",
       " 0.9992730658072505,\n",
       " 0.9992868179100238,\n",
       " 0.9993003710754021,\n",
       " 0.9993138191448845,\n",
       " 0.9993271166374946,\n",
       " 0.9993396982207114,\n",
       " 0.9993515482136023,\n",
       " 0.9993621024811374,\n",
       " 0.9993726530102841,\n",
       " 0.9993831885726258,\n",
       " 0.9993937172561465,\n",
       " 0.9994042453708188,\n",
       " 0.9994147557891935,\n",
       " 0.9994252469523918,\n",
       " 0.9994357362768386,\n",
       " 0.9994462017608736,\n",
       " 0.9994566328364137,\n",
       " 0.9994670279817045,\n",
       " 0.9994773216960072,\n",
       " 0.999487525940902,\n",
       " 0.9994976423168441,\n",
       " 0.9995077184433551,\n",
       " 0.9995177862706957,\n",
       " 0.9995277802016845,\n",
       " 0.9995377595775924,\n",
       " 0.9995474602814988,\n",
       " 0.9995565594569107,\n",
       " 0.9995651376376392,\n",
       " 0.9995731353921271,\n",
       " 0.999580173205955,\n",
       " 0.9995872101326838,\n",
       " 0.9995942461373433,\n",
       " 0.9996012793055901,\n",
       " 0.9996083079256977,\n",
       " 0.9996153337855169,\n",
       " 0.9996223588180719,\n",
       " 0.9996293830620792,\n",
       " 0.9996364036510629,\n",
       " 0.9996434172988298,\n",
       " 0.9996504206409765,\n",
       " 0.9996574190430519,\n",
       " 0.9996644071196835,\n",
       " 0.9996713611711096,\n",
       " 0.9996783120600412,\n",
       " 0.9996852615117904,\n",
       " 0.9996922077960408,\n",
       " 0.9996991425547305,\n",
       " 0.9997060596758495,\n",
       " 0.9997129696679273,\n",
       " 0.999719814697166,\n",
       " 0.9997266452836834,\n",
       " 0.9997334382949397,\n",
       " 0.9997402203755592,\n",
       " 0.9997469972310166,\n",
       " 0.9997536698791833,\n",
       " 0.9997603361707059,\n",
       " 0.9997669922910374,\n",
       " ...]"
      ]
     },
     "execution_count": 12,
     "metadata": {},
     "output_type": "execute_result"
    }
   ],
   "source": [
    "cum_sum_variance2"
   ]
  },
  {
   "cell_type": "code",
   "execution_count": 13,
   "metadata": {},
   "outputs": [
    {
     "data": {
      "text/plain": [
       "0.9999072029765089"
      ]
     },
     "execution_count": 13,
     "metadata": {},
     "output_type": "execute_result"
    }
   ],
   "source": [
    "value_95"
   ]
  },
  {
   "cell_type": "code",
   "execution_count": 14,
   "metadata": {},
   "outputs": [
    {
     "data": {
      "text/plain": [
       "list"
      ]
     },
     "execution_count": 14,
     "metadata": {},
     "output_type": "execute_result"
    }
   ],
   "source": [
    "type(cum_sum_variance2)"
   ]
  },
  {
   "cell_type": "code",
   "execution_count": 15,
   "metadata": {},
   "outputs": [
    {
     "data": {
      "text/plain": [
       "652"
      ]
     },
     "execution_count": 15,
     "metadata": {},
     "output_type": "execute_result"
    }
   ],
   "source": [
    "index_99 = cum_sum_variance2.index(0.9871489491270147)\n",
    "index_99"
   ]
  },
  {
   "cell_type": "code",
   "execution_count": null,
   "metadata": {},
   "outputs": [],
   "source": [
    "#np.where(cum_sum_variance == value_95)"
   ]
  },
  {
   "cell_type": "code",
   "execution_count": null,
   "metadata": {},
   "outputs": [],
   "source": [
    "#cum_sum_variance2.index(value_95)"
   ]
  },
  {
   "cell_type": "code",
   "execution_count": null,
   "metadata": {},
   "outputs": [],
   "source": [
    "#len(a)\n",
    "\n",
    "#output\n",
    "#1088"
   ]
  },
  {
   "cell_type": "code",
   "execution_count": null,
   "metadata": {},
   "outputs": [],
   "source": [
    "#print(pca1.components_)\n",
    "#print(pca1.n_features_)\n",
    "#print(pca1.n_samples_)"
   ]
  },
  {
   "cell_type": "code",
   "execution_count": 73,
   "metadata": {},
   "outputs": [],
   "source": [
    "pca_transformed_train = pca1_train[:, 0:1000]\n",
    "pca_transformed_test = pca1_test[:, 0:1000]"
   ]
  },
  {
   "cell_type": "markdown",
   "metadata": {},
   "source": [
    "### Ordinary Linear Regression"
   ]
  },
  {
   "cell_type": "code",
   "execution_count": 74,
   "metadata": {},
   "outputs": [],
   "source": [
    "lr = LinearRegression()\n",
    "lr.fit(pca_transformed_train, y_train)\n",
    "y_train_predict = lr.predict(pca_transformed_train)\n",
    "y_test_predict = lr.predict(pca_transformed_test)"
   ]
  },
  {
   "cell_type": "code",
   "execution_count": 75,
   "metadata": {},
   "outputs": [
    {
     "data": {
      "text/plain": [
       "(9.596983144005105, 9.254089780362467)"
      ]
     },
     "execution_count": 75,
     "metadata": {},
     "output_type": "execute_result"
    }
   ],
   "source": [
    "np.max(y_train_predict), np.max(y_test_predict) \n",
    "# With default PCA, if all components are kept, y_test_predict = 1832664504770.253"
   ]
  },
  {
   "cell_type": "code",
   "execution_count": 76,
   "metadata": {},
   "outputs": [
    {
     "data": {
      "text/plain": [
       "(5.914574249280131,\n",
       " [-1.9109655899929572,\n",
       "  -1.5069918429435172,\n",
       "  -1.503409545197361,\n",
       "  -1.3383273264911106,\n",
       "  -1.2863383880863142,\n",
       "  -1.2438431172508635,\n",
       "  -1.203491559934318,\n",
       "  -1.1914066568868185,\n",
       "  -1.1072607849936844,\n",
       "  -1.002361595115322])"
      ]
     },
     "execution_count": 76,
     "metadata": {},
     "output_type": "execute_result"
    }
   ],
   "source": [
    "lr.intercept_, sorted(lr.coef_)[:10]"
   ]
  },
  {
   "cell_type": "code",
   "execution_count": 77,
   "metadata": {},
   "outputs": [
    {
     "data": {
      "text/plain": [
       "(0.43032786009086554, 0.42158088617178713)"
      ]
     },
     "execution_count": 77,
     "metadata": {},
     "output_type": "execute_result"
    }
   ],
   "source": [
    "r2_score(y_train, y_train_predict), r2_score(y_test, y_test_predict)\n",
    "# With n_components = 10, r2(train) = 0.282, r2(test) = 0.297\n"
   ]
  },
  {
   "cell_type": "code",
   "execution_count": 71,
   "metadata": {},
   "outputs": [],
   "source": [
    "#With default PCA, taking 651 features out of it, give r2(train) = 0.4202602597726296, r2(test) = 0.41524460001015207 \n",
    "#With default PCA, taking 300 features out of it, give r2(train) = 0.40069324204273205, r2(test) = 0.40332469399338367 \n",
    "#With default PCA, taking 500 features out of it, give r2(train) = 0.41206037587239575, r2(test) = 0.40868072906102304 \n",
    "#With default PCA, taking 700 features out of it, give r2(train) = 0.42215258292459845, r2(test) = 0.4159146133560834 \n",
    "#With default PCA, taking 750 features out of it, give r2(train) = 0.42423581513519304, r2(test) = 0.41732864600822994 \n",
    "#With default PCA, taking 800 features out of it, give r2(train) = 0.4263313726644138, r2(test) = 0.41905434499205096\n",
    "#With default PCA, taking 900 features out of it, give r2(train) = 0.42897799913686985, r2(test) = 0.42144591773069895\n",
    "#With default PCA, taking 1000 features out of it, give r2(train) = 0.43032786009086554, r2(test) = 0.42158088617178713\n",
    "#With default PCA, taking 1088 features out of it, give r2(train) = 0.4289203631442904, r2(test) = -7.683747921219262e+20"
   ]
  },
  {
   "cell_type": "code",
   "execution_count": 78,
   "metadata": {},
   "outputs": [
    {
     "data": {
      "image/png": "[encoded data removed]",
      "text/plain": [
       "<Figure size 432x288 with 1 Axes>"
      ]
     },
     "metadata": {
      "needs_background": "light"
     },
     "output_type": "display_data"
    }
   ],
   "source": [
    "#plot the y_test and y_predict\n",
    "plt.scatter(y_train,y_train_predict,  color = 'b')\n",
    "plt.show()"
   ]
  },
  {
   "cell_type": "code",
   "execution_count": 79,
   "metadata": {},
   "outputs": [
    {
     "data": {
      "image/png": "[encoded data removed]",
      "text/plain": [
       "<Figure size 432x288 with 1 Axes>"
      ]
     },
     "metadata": {
      "needs_background": "light"
     },
     "output_type": "display_data"
    }
   ],
   "source": [
    "#plot the y_test and y_predict\n",
    "plt.scatter(y_test,y_test_predict,  color = 'b')\n",
    "plt.show()"
   ]
  },
  {
   "cell_type": "code",
   "execution_count": 80,
   "metadata": {},
   "outputs": [
    {
     "name": "stdout",
     "output_type": "stream",
     "text": [
      "The mean squared error: 0.8474023878168839\n",
      "The root mean squared error: 0.9205446147889216\n",
      "The mean absolute error: 0.7024798589509904\n"
     ]
    }
   ],
   "source": [
    "from sklearn.metrics import mean_squared_error\n",
    "print(\"The mean squared error:\", mean_squared_error(y_test, y_test_predict))\n",
    "\n",
    "from sklearn.metrics import mean_squared_error\n",
    "print(\"The root mean squared error:\", mean_squared_error(y_test, y_test_predict, squared = False))\n",
    "\n",
    "from sklearn.metrics import mean_absolute_error\n",
    "print(\"The mean absolute error:\", mean_absolute_error(y_test, y_test_predict))"
   ]
  },
  {
   "cell_type": "markdown",
   "metadata": {},
   "source": [
    "### Lasso Linear Regression"
   ]
  },
  {
   "cell_type": "code",
   "execution_count": 81,
   "metadata": {},
   "outputs": [
    {
     "name": "stdout",
     "output_type": "stream",
     "text": [
      "0.01\n",
      "0.31286170993203344\n",
      "0.3257262774935512\n",
      "0.1\n",
      "0.20527182235787633\n",
      "0.214858489924854\n",
      "1\n",
      "0.0\n",
      "-0.00026864922856795204\n",
      "10\n",
      "0.0\n",
      "-0.00026864922856795204\n"
     ]
    }
   ],
   "source": [
    "alpha = [0.01, 0.1, 1, 10]\n",
    "for alp in alpha:\n",
    "    lasso1 = Lasso(alpha=alp)\n",
    "    lasso1.fit(pca_transformed_train, y_train)\n",
    "    y_train_predict1 = lasso1.predict(pca_transformed_train)\n",
    "    y_test_predict1 = lasso1.predict(pca_transformed_test)\n",
    "    print(alp)\n",
    "    print(r2_score(y_train, y_train_predict1))\n",
    "    print(r2_score(y_test, y_test_predict1))"
   ]
  },
  {
   "cell_type": "code",
   "execution_count": 85,
   "metadata": {},
   "outputs": [
    {
     "name": "stdout",
     "output_type": "stream",
     "text": [
      "0.01\n",
      "0.4303278366100687\n",
      "0.42159209842653944\n",
      "9.25365650621656\n",
      "0.1\n",
      "0.4303256189123478\n",
      "0.421689044211334\n",
      "9.249776638560745\n",
      "1\n",
      "0.4301711736915196\n",
      "0.42237757278631693\n",
      "9.212774403098827\n",
      "10\n",
      "0.4258804864252209\n",
      "0.4221244384959606\n",
      "8.965800223588243\n",
      "20\n",
      "0.4207576939006771\n",
      "0.41916544149541346\n",
      "8.839271719123609\n",
      "30\n",
      "0.4162858657354268\n",
      "0.41611407072760065\n",
      "8.84034841644275\n",
      "50\n",
      "0.4090704831413676\n",
      "0.41076092252903085\n",
      "8.83804021287187\n"
     ]
    }
   ],
   "source": [
    "alpha2 = [0.01, 0.1, 1, 10, 20, 30, 50]\n",
    "for alp2 in alpha2:\n",
    "    Rge = Ridge(alpha=alp2)\n",
    "    Rge.fit(pca_transformed_train, y_train)\n",
    "    y_train_predict2 = Rge.predict(pca_transformed_train)\n",
    "    y_test_predict2 = Rge.predict(pca_transformed_test)\n",
    "    print(alp2)\n",
    "    print(r2_score(y_train, y_train_predict2))\n",
    "    print(r2_score(y_test, y_test_predict2))\n",
    "    print(np.max(y_test_predict2))"
   ]
  },
  {
   "cell_type": "code",
   "execution_count": 87,
   "metadata": {},
   "outputs": [
    {
     "name": "stdout",
     "output_type": "stream",
     "text": [
      "0.41014544114783813\n",
      "{'alpha': 1}\n"
     ]
    }
   ],
   "source": [
    "# Applying GridSearchCV\n",
    "Rge3 = Ridge()\n",
    "alpha = [0.01, 0.1, 1, 0, 20, 30]\n",
    "parameters = {'alpha': alpha}\n",
    "rge3_grid = GridSearchCV(Rge3, param_grid = parameters, scoring = 'r2', cv = 5)\n",
    "rge3_grid.fit(pca_transformed_train, y_train)\n",
    "\n",
    "print(rge3_grid.best_score_)\n",
    "print(rge3_grid.best_params_)"
   ]
  },
  {
   "cell_type": "code",
   "execution_count": 89,
   "metadata": {},
   "outputs": [
    {
     "data": {
      "text/plain": [
       "RandomizedSearchCV(cv=5, error_score=nan,\n",
       "                   estimator=Ridge(alpha=1.0, copy_X=True, fit_intercept=True,\n",
       "                                   max_iter=None, normalize=False,\n",
       "                                   random_state=None, solver='auto',\n",
       "                                   tol=0.001),\n",
       "                   iid='deprecated', n_iter=10, n_jobs=None,\n",
       "                   param_distributions={'alpha': array([1.00000000e-02, 2.15214286e+00, 4.29428571e+00, 6.43642857e+00,\n",
       "       8.57857143e+00, 1.07207143e+01, 1.28628571e+01, 1.50050000e+01,\n",
       "       1.71471429e+01, 1.92892857e+01, 2.14314286e+01, 2.35735714e+01,\n",
       "       2.57157143e+01, 2.78578571e+01, 3.00000000e+01])},\n",
       "                   pre_dispatch='2*n_jobs', random_state=None, refit=True,\n",
       "                   return_train_score=False, scoring=None, verbose=0)"
      ]
     },
     "execution_count": 89,
     "metadata": {},
     "output_type": "execute_result"
    }
   ],
   "source": [
    "# Applying RandomizedSearchCV\n",
    "Rge4 = Ridge()\n",
    "alpha4 = {'alpha': np.linspace(0.01, 30, 15)} \n",
    "Rge4_random = RandomizedSearchCV(Rge4, param_distributions = alpha4, cv = 5)\n",
    "Rge4_random.fit(pca_transformed_train, y_train)"
   ]
  },
  {
   "cell_type": "code",
   "execution_count": 90,
   "metadata": {},
   "outputs": [
    {
     "name": "stdout",
     "output_type": "stream",
     "text": [
      "0.4115251356564557\n",
      "{'alpha': 8.578571428571427}\n"
     ]
    }
   ],
   "source": [
    "print(Rge4_random.best_score_)\n",
    "print(Rge4_random.best_params_)"
   ]
  },
  {
   "cell_type": "markdown",
   "metadata": {},
   "source": [
    " **<font color = 'teal'> Note: Among the three regression models (Simple linear Regression, Lasso, Ridge), applying PCA, with PCA features= 1000, the maximum value obtained is 0.42 in both Simple Linear Regression and Ridge regression.**"
   ]
  },
  {
   "cell_type": "markdown",
   "metadata": {},
   "source": [
    "# Model optimization"
   ]
  },
  {
   "cell_type": "markdown",
   "metadata": {},
   "source": [
    "# Random Forest Model"
   ]
  },
  {
   "cell_type": "code",
   "execution_count": 107,
   "metadata": {},
   "outputs": [],
   "source": [
    "pca_transformed_train = pca1_train[:, 0:650]\n",
    "pca_transformed_test = pca1_test[:, 0:650]\n",
    "# With 1000 pCA features, the computation time in the order of hours, hence I prefer to take few "
   ]
  },
  {
   "cell_type": "code",
   "execution_count": 109,
   "metadata": {},
   "outputs": [
    {
     "data": {
      "text/plain": [
       "RandomForestRegressor(bootstrap=True, ccp_alpha=0.0, criterion='mse',\n",
       "                      max_depth=None, max_features='auto', max_leaf_nodes=None,\n",
       "                      max_samples=None, min_impurity_decrease=0.0,\n",
       "                      min_impurity_split=None, min_samples_leaf=1,\n",
       "                      min_samples_split=2, min_weight_fraction_leaf=0.0,\n",
       "                      n_estimators=10, n_jobs=None, oob_score=False,\n",
       "                      random_state=42, verbose=0, warm_start=False)"
      ]
     },
     "execution_count": 109,
     "metadata": {},
     "output_type": "execute_result"
    }
   ],
   "source": [
    "from sklearn.ensemble import RandomForestRegressor\n",
    "regr = RandomForestRegressor(n_estimators = 10, random_state = 42)\n",
    "regr.fit(pca_transformed_train, y_train)"
   ]
  },
  {
   "cell_type": "code",
   "execution_count": 111,
   "metadata": {},
   "outputs": [],
   "source": [
    "y_predict3 = regr.predict(pca_transformed_test)"
   ]
  },
  {
   "cell_type": "code",
   "execution_count": 112,
   "metadata": {},
   "outputs": [
    {
     "data": {
      "text/plain": [
       "0.38480717510492335"
      ]
     },
     "execution_count": 112,
     "metadata": {},
     "output_type": "execute_result"
    }
   ],
   "source": [
    "r2_score(y_test, y_predict3)"
   ]
  },
  {
   "cell_type": "code",
   "execution_count": 103,
   "metadata": {},
   "outputs": [
    {
     "data": {
      "image/png": "[encoded data removed]",
      "text/plain": [
       "<Figure size 432x288 with 1 Axes>"
      ]
     },
     "metadata": {
      "needs_background": "light"
     },
     "output_type": "display_data"
    }
   ],
   "source": [
    "plt.scatter(y_test, y_predict3, color = 'b')\n",
    "plt.xlim([0, 10])\n",
    "plt.ylim([0, 10])\n",
    "plt.show()"
   ]
  },
  {
   "cell_type": "code",
   "execution_count": 113,
   "metadata": {},
   "outputs": [
    {
     "data": {
      "text/plain": [
       "0.38480717510492335"
      ]
     },
     "execution_count": 113,
     "metadata": {},
     "output_type": "execute_result"
    }
   ],
   "source": [
    "regr2 = RandomForestRegressor(n_estimators=10, random_state = 42)\n",
    "regr2.fit(pca_transformed_train, y_train)\n",
    "y_predict4 = regr2.predict(pca_transformed_test)\n",
    "r2_score(y_test, y_predict4)"
   ]
  },
  {
   "cell_type": "code",
   "execution_count": 114,
   "metadata": {},
   "outputs": [
    {
     "data": {
      "text/plain": [
       "0.41582072536328607"
      ]
     },
     "execution_count": 114,
     "metadata": {},
     "output_type": "execute_result"
    }
   ],
   "source": [
    "regr2 = RandomForestRegressor(n_estimators=20, random_state = 42)\n",
    "regr2.fit(pca_transformed_train, y_train)\n",
    "y_predict4 = regr2.predict(pca_transformed_test)\n",
    "r2_score(y_test, y_predict4)"
   ]
  },
  {
   "cell_type": "code",
   "execution_count": 115,
   "metadata": {},
   "outputs": [],
   "source": [
    "# RandomForestRegressor without PCA"
   ]
  },
  {
   "cell_type": "code",
   "execution_count": 116,
   "metadata": {},
   "outputs": [
    {
     "data": {
      "text/plain": [
       "0.397126256565034"
      ]
     },
     "execution_count": 116,
     "metadata": {},
     "output_type": "execute_result"
    }
   ],
   "source": [
    "regr = RandomForestRegressor(n_estimators = 10, random_state = 42)\n",
    "regr.fit(X_train, y_train)\n",
    "y_predict = regr.predict(X_test)\n",
    "r2_score(y_test, y_predict)"
   ]
  },
  {
   "cell_type": "code",
   "execution_count": 117,
   "metadata": {},
   "outputs": [
    {
     "data": {
      "text/plain": [
       "0.42227060494607327"
      ]
     },
     "execution_count": 117,
     "metadata": {},
     "output_type": "execute_result"
    }
   ],
   "source": [
    "regr = RandomForestRegressor(n_estimators = 20, random_state = 42)\n",
    "regr.fit(X_train, y_train)\n",
    "y_predict = regr.predict(X_test)\n",
    "r2_score(y_test, y_predict)"
   ]
  },
  {
   "cell_type": "code",
   "execution_count": 118,
   "metadata": {},
   "outputs": [
    {
     "name": "stdout",
     "output_type": "stream",
     "text": [
      "2021-09-05 17:06:33.549431 2021-09-05 17:09:25.923681\n"
     ]
    }
   ],
   "source": [
    "import datetime\n",
    "start = datetime.datetime.now() \n",
    "regr = RandomForestRegressor(n_estimators = 50, random_state = 42)\n",
    "regr.fit(X_train, y_train)\n",
    "y_predict = regr.predict(X_test)\n",
    "r2_score(y_test, y_predict)\n",
    "end = datetime.datetime.now()\n",
    "print(start, end)"
   ]
  },
  {
   "cell_type": "code",
   "execution_count": 119,
   "metadata": {},
   "outputs": [
    {
     "data": {
      "text/plain": [
       "0.43607401813220004"
      ]
     },
     "execution_count": 119,
     "metadata": {},
     "output_type": "execute_result"
    }
   ],
   "source": [
    "r2_score(y_test, y_predict)"
   ]
  },
  {
   "cell_type": "code",
   "execution_count": 120,
   "metadata": {},
   "outputs": [
    {
     "name": "stdout",
     "output_type": "stream",
     "text": [
      "0.44038770614893497\n",
      "2021-09-05 17:11:48.535859 2021-09-05 17:18:51.747604\n"
     ]
    }
   ],
   "source": [
    "import datetime\n",
    "start = datetime.datetime.now() \n",
    "regr = RandomForestRegressor(n_estimators = 100, random_state = 42)\n",
    "regr.fit(X_train, y_train)\n",
    "y_predict = regr.predict(X_test)\n",
    "print(r2_score(y_test, y_predict))\n",
    "end = datetime.datetime.now()\n",
    "print(start, end)\n"
   ]
  },
  {
   "cell_type": "code",
   "execution_count": 121,
   "metadata": {},
   "outputs": [
    {
     "name": "stdout",
     "output_type": "stream",
     "text": [
      "0.44187214015384024\n",
      "2021-09-05 17:19:45.719898 2021-09-05 17:28:14.144452\n"
     ]
    }
   ],
   "source": [
    "import datetime\n",
    "start = datetime.datetime.now() \n",
    "regr = RandomForestRegressor(n_estimators = 150, random_state = 42)\n",
    "regr.fit(X_train, y_train)\n",
    "y_predict = regr.predict(X_test)\n",
    "print(r2_score(y_test, y_predict))\n",
    "end = datetime.datetime.now()\n",
    "print(start, end)"
   ]
  },
  {
   "cell_type": "code",
   "execution_count": 122,
   "metadata": {},
   "outputs": [
    {
     "name": "stdout",
     "output_type": "stream",
     "text": [
      "0.4433342712209878\n",
      "2021-09-05 18:02:03.100051 2021-09-05 18:14:51.675804\n"
     ]
    }
   ],
   "source": [
    "import datetime\n",
    "start = datetime.datetime.now() \n",
    "regr = RandomForestRegressor(n_estimators = 200, random_state = 42)\n",
    "regr.fit(X_train, y_train)\n",
    "y_predict = regr.predict(X_test)\n",
    "print(r2_score(y_test, y_predict))\n",
    "end = datetime.datetime.now()\n",
    "print(start, end)"
   ]
  },
  {
   "cell_type": "code",
   "execution_count": null,
   "metadata": {},
   "outputs": [],
   "source": [
    "# While 10 PCA were used, RandomForestRegressor (n_estimators = 0) performance was better with r2 value 0.44"
   ]
  },
  {
   "cell_type": "markdown",
   "metadata": {},
   "source": [
    "**<font color = 'teal'> Note: From above, it can be concluded that the Random Forest Regressor model performance is better than Linear Regresson model, though one can not rely on the model performance as the r2 score very low. We need to improve this.** "
   ]
  },
  {
   "cell_type": "markdown",
   "metadata": {},
   "source": [
    "# Gradient boosting "
   ]
  },
  {
   "cell_type": "code",
   "execution_count": 123,
   "metadata": {},
   "outputs": [],
   "source": [
    "def opt_gradientboosting(learning_rate, n_estimator, max_features, max_depth):\n",
    "    for rate in learning_rate:\n",
    "        gb = GradientBoostingRegressor(learning_rate = rate, n_estimators = n_estimator,  max_features = max_features, max_depth = max_depth)\n",
    "        gb.fit(pca_transformed_train, y_train)\n",
    "        y_gb_predict = gb.predict(pca_transformed_test)\n",
    "        score_1 = r2_score(y_test,y_gb_predict)\n",
    "        print(rate)\n",
    "        print(score_1)\n",
    "    return print('End')\n",
    "\n",
    "#learning_gb.fitX_train, y_trainrates = [0.05, 0.1, 0.25, 0.5, 0.75, 1]\n",
    "#gb = GradientBoostingRegressor()\n",
    "#n_estimator = 20\n",
    "#max_features = 1027\n",
    "#max_depth = [2, 3]\n",
    "#paramters = {'n_estimators': n_estimator, 'learning_rate': learning_rates, 'max_features':max_features, 'max_depth':max_depth}\n",
    "#gr = GridSearchCV(gb, param_grid = paramters, n_jobs = -1)\n",
    "#gr.fit(X_train, y_train)"
   ]
  },
  {
   "cell_type": "code",
   "execution_count": 124,
   "metadata": {},
   "outputs": [
    {
     "name": "stdout",
     "output_type": "stream",
     "text": [
      "0.1\n",
      "0.17049960670901487\n",
      "1\n",
      "0.2835193156735576\n",
      "1.5\n",
      "0.14518771367368022\n",
      "2\n",
      "-0.0283465274916761\n",
      "End\n"
     ]
    }
   ],
   "source": [
    "learning_rate = [0.1, 1, 1.5, 2]\n",
    "\n",
    "opt_gradientboosting(learning_rate, 10, 3, 3)"
   ]
  },
  {
   "cell_type": "code",
   "execution_count": 125,
   "metadata": {},
   "outputs": [
    {
     "name": "stdout",
     "output_type": "stream",
     "text": [
      "0.45859502850032224\n",
      "{'learning_rate': 0.1, 'max_depth': 5, 'max_features': 5, 'n_estimators': 200}\n"
     ]
    }
   ],
   "source": [
    "gbr2 = GradientBoostingRegressor()\n",
    "learning_rate = [0.1, 1]\n",
    "n_estimators = [10, 50, 100, 200]\n",
    "max_features = [3, 5]\n",
    "max_depth = [3, 5]\n",
    "parameters = {'learning_rate': learning_rate, 'n_estimators': n_estimators, 'max_features': max_features,'max_depth': max_depth}\n",
    "grid_search2 = GridSearchCV(estimator = gbr2, param_grid = parameters, scoring = 'r2', cv = 5 )\n",
    "\n",
    "grid_search2.fit(pca_transformed_train, y_train)\n",
    "\n",
    "print(grid_search2.best_score_)\n",
    "print(grid_search2.best_params_)"
   ]
  },
  {
   "cell_type": "code",
   "execution_count": 129,
   "metadata": {
    "scrolled": true
   },
   "outputs": [
    {
     "ename": "KeyboardInterrupt",
     "evalue": "",
     "output_type": "error",
     "traceback": [
      "\u001b[1;31m---------------------------------------------------------------------------\u001b[0m",
      "\u001b[1;31mKeyboardInterrupt\u001b[0m                         Traceback (most recent call last)",
      "\u001b[1;32m<ipython-input-129-f4af57ed740c>\u001b[0m in \u001b[0;36m<module>\u001b[1;34m\u001b[0m\n\u001b[0;32m      1\u001b[0m \u001b[0mstart\u001b[0m \u001b[1;33m=\u001b[0m \u001b[0mdatetime\u001b[0m\u001b[1;33m.\u001b[0m\u001b[0mdatetime\u001b[0m\u001b[1;33m.\u001b[0m\u001b[0mnow\u001b[0m\u001b[1;33m(\u001b[0m\u001b[1;33m)\u001b[0m\u001b[1;33m\u001b[0m\u001b[1;33m\u001b[0m\u001b[0m\n\u001b[0;32m      2\u001b[0m \u001b[0mgbr4\u001b[0m \u001b[1;33m=\u001b[0m \u001b[0mGradientBoostingRegressor\u001b[0m\u001b[1;33m(\u001b[0m\u001b[0mlearning_rate\u001b[0m \u001b[1;33m=\u001b[0m \u001b[1;36m0.1\u001b[0m\u001b[1;33m,\u001b[0m \u001b[0mn_estimators\u001b[0m \u001b[1;33m=\u001b[0m \u001b[1;36m300\u001b[0m\u001b[1;33m,\u001b[0m \u001b[0mmax_features\u001b[0m\u001b[1;33m=\u001b[0m \u001b[1;36m650\u001b[0m\u001b[1;33m,\u001b[0m \u001b[0mmax_depth\u001b[0m \u001b[1;33m=\u001b[0m \u001b[1;36m5\u001b[0m\u001b[1;33m)\u001b[0m\u001b[1;33m\u001b[0m\u001b[1;33m\u001b[0m\u001b[0m\n\u001b[1;32m----> 3\u001b[1;33m \u001b[0mgbr4\u001b[0m\u001b[1;33m.\u001b[0m\u001b[0mfit\u001b[0m\u001b[1;33m(\u001b[0m\u001b[0mpca_transformed_train\u001b[0m\u001b[1;33m,\u001b[0m \u001b[0my_train\u001b[0m\u001b[1;33m)\u001b[0m\u001b[1;33m\u001b[0m\u001b[1;33m\u001b[0m\u001b[0m\n\u001b[0m\u001b[0;32m      4\u001b[0m \u001b[0my_train_predict4\u001b[0m \u001b[1;33m=\u001b[0m \u001b[0mgbr4\u001b[0m\u001b[1;33m.\u001b[0m\u001b[0mpredict\u001b[0m\u001b[1;33m(\u001b[0m\u001b[0mpca_transformed_train\u001b[0m\u001b[1;33m)\u001b[0m\u001b[1;33m\u001b[0m\u001b[1;33m\u001b[0m\u001b[0m\n\u001b[0;32m      5\u001b[0m \u001b[0my_test_predict4\u001b[0m \u001b[1;33m=\u001b[0m \u001b[0mgbr4\u001b[0m\u001b[1;33m.\u001b[0m\u001b[0mpredict\u001b[0m\u001b[1;33m(\u001b[0m\u001b[0mpca_transformed_test\u001b[0m\u001b[1;33m)\u001b[0m\u001b[1;33m\u001b[0m\u001b[1;33m\u001b[0m\u001b[0m\n",
      "\u001b[1;32m~\\AppData\\Roaming\\Python\\Python37\\site-packages\\sklearn\\ensemble\\_gb.py\u001b[0m in \u001b[0;36mfit\u001b[1;34m(self, X, y, sample_weight, monitor)\u001b[0m\n\u001b[0;32m   1535\u001b[0m         n_stages = self._fit_stages(\n\u001b[0;32m   1536\u001b[0m             \u001b[0mX\u001b[0m\u001b[1;33m,\u001b[0m \u001b[0my\u001b[0m\u001b[1;33m,\u001b[0m \u001b[0mraw_predictions\u001b[0m\u001b[1;33m,\u001b[0m \u001b[0msample_weight\u001b[0m\u001b[1;33m,\u001b[0m \u001b[0mself\u001b[0m\u001b[1;33m.\u001b[0m\u001b[0m_rng\u001b[0m\u001b[1;33m,\u001b[0m \u001b[0mX_val\u001b[0m\u001b[1;33m,\u001b[0m \u001b[0my_val\u001b[0m\u001b[1;33m,\u001b[0m\u001b[1;33m\u001b[0m\u001b[1;33m\u001b[0m\u001b[0m\n\u001b[1;32m-> 1537\u001b[1;33m             sample_weight_val, begin_at_stage, monitor, X_idx_sorted)\n\u001b[0m\u001b[0;32m   1538\u001b[0m \u001b[1;33m\u001b[0m\u001b[0m\n\u001b[0;32m   1539\u001b[0m         \u001b[1;31m# change shape of arrays after fit (early-stopping or additional ests)\u001b[0m\u001b[1;33m\u001b[0m\u001b[1;33m\u001b[0m\u001b[1;33m\u001b[0m\u001b[0m\n",
      "\u001b[1;32m~\\AppData\\Roaming\\Python\\Python37\\site-packages\\sklearn\\ensemble\\_gb.py\u001b[0m in \u001b[0;36m_fit_stages\u001b[1;34m(self, X, y, raw_predictions, sample_weight, random_state, X_val, y_val, sample_weight_val, begin_at_stage, monitor, X_idx_sorted)\u001b[0m\n\u001b[0;32m   1592\u001b[0m             raw_predictions = self._fit_stage(\n\u001b[0;32m   1593\u001b[0m                 \u001b[0mi\u001b[0m\u001b[1;33m,\u001b[0m \u001b[0mX\u001b[0m\u001b[1;33m,\u001b[0m \u001b[0my\u001b[0m\u001b[1;33m,\u001b[0m \u001b[0mraw_predictions\u001b[0m\u001b[1;33m,\u001b[0m \u001b[0msample_weight\u001b[0m\u001b[1;33m,\u001b[0m \u001b[0msample_mask\u001b[0m\u001b[1;33m,\u001b[0m\u001b[1;33m\u001b[0m\u001b[1;33m\u001b[0m\u001b[0m\n\u001b[1;32m-> 1594\u001b[1;33m                 random_state, X_idx_sorted, X_csc, X_csr)\n\u001b[0m\u001b[0;32m   1595\u001b[0m \u001b[1;33m\u001b[0m\u001b[0m\n\u001b[0;32m   1596\u001b[0m             \u001b[1;31m# track deviance (= loss)\u001b[0m\u001b[1;33m\u001b[0m\u001b[1;33m\u001b[0m\u001b[1;33m\u001b[0m\u001b[0m\n",
      "\u001b[1;32m~\\AppData\\Roaming\\Python\\Python37\\site-packages\\sklearn\\ensemble\\_gb.py\u001b[0m in \u001b[0;36m_fit_stage\u001b[1;34m(self, i, X, y, raw_predictions, sample_weight, sample_mask, random_state, X_idx_sorted, X_csc, X_csr)\u001b[0m\n\u001b[0;32m   1243\u001b[0m             \u001b[0mX\u001b[0m \u001b[1;33m=\u001b[0m \u001b[0mX_csr\u001b[0m \u001b[1;32mif\u001b[0m \u001b[0mX_csr\u001b[0m \u001b[1;32mis\u001b[0m \u001b[1;32mnot\u001b[0m \u001b[1;32mNone\u001b[0m \u001b[1;32melse\u001b[0m \u001b[0mX\u001b[0m\u001b[1;33m\u001b[0m\u001b[1;33m\u001b[0m\u001b[0m\n\u001b[0;32m   1244\u001b[0m             tree.fit(X, residual, sample_weight=sample_weight,\n\u001b[1;32m-> 1245\u001b[1;33m                      check_input=False, X_idx_sorted=X_idx_sorted)\n\u001b[0m\u001b[0;32m   1246\u001b[0m \u001b[1;33m\u001b[0m\u001b[0m\n\u001b[0;32m   1247\u001b[0m             \u001b[1;31m# update tree leaves\u001b[0m\u001b[1;33m\u001b[0m\u001b[1;33m\u001b[0m\u001b[1;33m\u001b[0m\u001b[0m\n",
      "\u001b[1;32m~\\AppData\\Roaming\\Python\\Python37\\site-packages\\sklearn\\tree\\_classes.py\u001b[0m in \u001b[0;36mfit\u001b[1;34m(self, X, y, sample_weight, check_input, X_idx_sorted)\u001b[0m\n\u001b[0;32m   1223\u001b[0m             \u001b[0msample_weight\u001b[0m\u001b[1;33m=\u001b[0m\u001b[0msample_weight\u001b[0m\u001b[1;33m,\u001b[0m\u001b[1;33m\u001b[0m\u001b[1;33m\u001b[0m\u001b[0m\n\u001b[0;32m   1224\u001b[0m             \u001b[0mcheck_input\u001b[0m\u001b[1;33m=\u001b[0m\u001b[0mcheck_input\u001b[0m\u001b[1;33m,\u001b[0m\u001b[1;33m\u001b[0m\u001b[1;33m\u001b[0m\u001b[0m\n\u001b[1;32m-> 1225\u001b[1;33m             X_idx_sorted=X_idx_sorted)\n\u001b[0m\u001b[0;32m   1226\u001b[0m         \u001b[1;32mreturn\u001b[0m \u001b[0mself\u001b[0m\u001b[1;33m\u001b[0m\u001b[1;33m\u001b[0m\u001b[0m\n\u001b[0;32m   1227\u001b[0m \u001b[1;33m\u001b[0m\u001b[0m\n",
      "\u001b[1;32m~\\AppData\\Roaming\\Python\\Python37\\site-packages\\sklearn\\tree\\_classes.py\u001b[0m in \u001b[0;36mfit\u001b[1;34m(self, X, y, sample_weight, check_input, X_idx_sorted)\u001b[0m\n\u001b[0;32m    365\u001b[0m                                            min_impurity_split)\n\u001b[0;32m    366\u001b[0m \u001b[1;33m\u001b[0m\u001b[0m\n\u001b[1;32m--> 367\u001b[1;33m         \u001b[0mbuilder\u001b[0m\u001b[1;33m.\u001b[0m\u001b[0mbuild\u001b[0m\u001b[1;33m(\u001b[0m\u001b[0mself\u001b[0m\u001b[1;33m.\u001b[0m\u001b[0mtree_\u001b[0m\u001b[1;33m,\u001b[0m \u001b[0mX\u001b[0m\u001b[1;33m,\u001b[0m \u001b[0my\u001b[0m\u001b[1;33m,\u001b[0m \u001b[0msample_weight\u001b[0m\u001b[1;33m,\u001b[0m \u001b[0mX_idx_sorted\u001b[0m\u001b[1;33m)\u001b[0m\u001b[1;33m\u001b[0m\u001b[1;33m\u001b[0m\u001b[0m\n\u001b[0m\u001b[0;32m    368\u001b[0m \u001b[1;33m\u001b[0m\u001b[0m\n\u001b[0;32m    369\u001b[0m         \u001b[1;32mif\u001b[0m \u001b[0mself\u001b[0m\u001b[1;33m.\u001b[0m\u001b[0mn_outputs_\u001b[0m \u001b[1;33m==\u001b[0m \u001b[1;36m1\u001b[0m \u001b[1;32mand\u001b[0m \u001b[0mis_classifier\u001b[0m\u001b[1;33m(\u001b[0m\u001b[0mself\u001b[0m\u001b[1;33m)\u001b[0m\u001b[1;33m:\u001b[0m\u001b[1;33m\u001b[0m\u001b[1;33m\u001b[0m\u001b[0m\n",
      "\u001b[1;31mKeyboardInterrupt\u001b[0m: "
     ]
    }
   ],
   "source": [
    "start = datetime.datetime.now()\n",
    "gbr4 = GradientBoostingRegressor(learning_rate = 0.1, n_estimators = 300, max_features= 650, max_depth = 5)\n",
    "gbr4.fit(pca_transformed_train, y_train)\n",
    "y_train_predict4 = gbr4.predict(pca_transformed_train)\n",
    "y_test_predict4 = gbr4.predict(pca_transformed_test)\n",
    "score_1 = r2_score(y_test,y_test_predict4)\n",
    "end = datetime.datetime.now()\n",
    "print(score_1)\n",
    "print(start, end)\n",
    "# After 9 hours of run also, there was no output."
   ]
  },
  {
   "cell_type": "markdown",
   "metadata": {},
   "source": [
    "# Summary:"
   ]
  },
  {
   "cell_type": "markdown",
   "metadata": {},
   "source": [
    "The default PCA was applied and around 99% features were taken for model building. Linear Regression model performance improved resonably as compared to without PCA.  \n",
    "\n",
    "However the other models Random Forest Regressor and Gradient Boosting Regressor performance didn't improve, instead found to be less (r2_score: 0.458) as comaped to non-PCA case(r2_score: 0.50)."
   ]
  }
 ],
 "metadata": {
  "kernelspec": {
   "display_name": "Python 3",
   "language": "python",
   "name": "python3"
  },
  "language_info": {
   "codemirror_mode": {
    "name": "ipython",
    "version": 3
   },
   "file_extension": ".py",
   "mimetype": "text/x-python",
   "name": "python",
   "nbconvert_exporter": "python",
   "pygments_lexer": "ipython3",
   "version": "3.7.1"
  }
 },
 "nbformat": 4,
 "nbformat_minor": 2
}
