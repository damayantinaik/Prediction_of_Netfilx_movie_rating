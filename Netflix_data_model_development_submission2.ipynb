{
 "cells": [
  {
   "cell_type": "markdown",
   "metadata": {},
   "source": [
    "# Model developement to predict the rating of a movie"
   ]
  },
  {
   "cell_type": "code",
   "execution_count": 1,
   "metadata": {},
   "outputs": [],
   "source": [
    "# Import necessary libraries\n",
    "import numpy as np\n",
    "import pandas as pd\n",
    "import matplotlib.pyplot as plt\n",
    "from sklearn.linear_model import LinearRegression, Lasso, Ridge\n",
    "from sklearn.model_selection import train_test_split\n",
    "from sklearn.model_selection import GridSearchCV, RandomizedSearchCV\n",
    "from sklearn.ensemble import GradientBoostingRegressor\n",
    "from sklearn.metrics import r2_score\n",
    "from sklearn.inspection import permutation_importance\n",
    "from sklearn.model_selection import KFold\n",
    "from sklearn.model_selection import cross_val_score\n",
    "from sklearn import metrics\n",
    "from sklearn.pipeline import make_pipeline\n",
    "from sklearn.feature_selection import SelectKBest, f_regression"
   ]
  },
  {
   "cell_type": "code",
   "execution_count": 2,
   "metadata": {},
   "outputs": [],
   "source": [
    "# Import the datasets\n",
    "IMDB_only = pd.read_csv('pre-processed_dataset/IMDB_only.csv', index_col = 0)\n",
    "IMDB_Kaggle_common = pd.read_csv('pre-processed_dataset/IMDB_Kaggle_common.csv', index_col = 0)"
   ]
  },
  {
   "cell_type": "code",
   "execution_count": 3,
   "metadata": {},
   "outputs": [
    {
     "data": {
      "text/plain": [
       "(69405, 1028)"
      ]
     },
     "execution_count": 3,
     "metadata": {},
     "output_type": "execute_result"
    }
   ],
   "source": [
    "IMDB_only.shape"
   ]
  },
  {
   "cell_type": "code",
   "execution_count": 4,
   "metadata": {},
   "outputs": [],
   "source": [
    "#IMDB_only.head(3)"
   ]
  },
  {
   "cell_type": "code",
   "execution_count": 5,
   "metadata": {},
   "outputs": [],
   "source": [
    "#IMDB_Kaggle_common.shape"
   ]
  },
  {
   "cell_type": "code",
   "execution_count": 6,
   "metadata": {},
   "outputs": [
    {
     "data": {
      "text/plain": [
       "Index(['duration_min', 'avg_vote', 'votes', 'reviews_from_users', 'News',\n",
       "       'Mystery', 'Adventure', 'Western', 'Crime', 'Music'],\n",
       "      dtype='object')"
      ]
     },
     "execution_count": 6,
     "metadata": {},
     "output_type": "execute_result"
    }
   ],
   "source": [
    "IMDB_only.columns[:10]"
   ]
  },
  {
   "cell_type": "code",
   "execution_count": 7,
   "metadata": {},
   "outputs": [],
   "source": [
    "y = IMDB_only['avg_vote']\n",
    "X = IMDB_only.drop(columns = 'avg_vote')\n"
   ]
  },
  {
   "cell_type": "code",
   "execution_count": 8,
   "metadata": {},
   "outputs": [
    {
     "name": "stdout",
     "output_type": "stream",
     "text": [
      "(69405, 1027)\n",
      "(69405,)\n"
     ]
    }
   ],
   "source": [
    "print(X.shape)\n",
    "print(y.shape)"
   ]
  },
  {
   "cell_type": "code",
   "execution_count": 9,
   "metadata": {},
   "outputs": [
    {
     "data": {
      "text/plain": [
       "count    69405.000000\n",
       "mean        -0.018507\n",
       "std          0.992714\n",
       "min         -3.260875\n",
       "25%         -0.622606\n",
       "50%         -0.173539\n",
       "75%          0.500062\n",
       "max          2.296330\n",
       "Name: duration_min, dtype: float64"
      ]
     },
     "execution_count": 9,
     "metadata": {},
     "output_type": "execute_result"
    }
   ],
   "source": [
    "X.duration_min.describe()"
   ]
  },
  {
   "cell_type": "code",
   "execution_count": 10,
   "metadata": {},
   "outputs": [
    {
     "data": {
      "text/plain": [
       "count    69405.000000\n",
       "mean        -0.038108\n",
       "std          0.945104\n",
       "min         -0.431199\n",
       "25%         -0.418282\n",
       "50%         -0.385334\n",
       "75%         -0.233885\n",
       "max          3.661702\n",
       "Name: votes, dtype: float64"
      ]
     },
     "execution_count": 10,
     "metadata": {},
     "output_type": "execute_result"
    }
   ],
   "source": [
    "X.votes.describe()"
   ]
  },
  {
   "cell_type": "code",
   "execution_count": 11,
   "metadata": {},
   "outputs": [
    {
     "data": {
      "text/plain": [
       "count    69405.000000\n",
       "mean        -0.039353\n",
       "std          0.950349\n",
       "min         -0.592384\n",
       "25%         -0.533162\n",
       "50%         -0.414716\n",
       "75%         -0.079120\n",
       "max          3.355803\n",
       "Name: reviews_from_users, dtype: float64"
      ]
     },
     "execution_count": 11,
     "metadata": {},
     "output_type": "execute_result"
    }
   ],
   "source": [
    "X.reviews_from_users.describe()"
   ]
  },
  {
   "cell_type": "code",
   "execution_count": 12,
   "metadata": {},
   "outputs": [
    {
     "data": {
      "text/plain": [
       "9.8"
      ]
     },
     "execution_count": 12,
     "metadata": {},
     "output_type": "execute_result"
    }
   ],
   "source": [
    "np.max(y)"
   ]
  },
  {
   "cell_type": "markdown",
   "metadata": {},
   "source": [
    "## train test split"
   ]
  },
  {
   "cell_type": "code",
   "execution_count": 13,
   "metadata": {},
   "outputs": [],
   "source": [
    "X_train, X_test, y_train, y_test = train_test_split(X, y, test_size = 0.3, random_state = 42)"
   ]
  },
  {
   "cell_type": "code",
   "execution_count": 14,
   "metadata": {},
   "outputs": [
    {
     "name": "stdout",
     "output_type": "stream",
     "text": [
      "(48583, 1027)\n",
      "(20822, 1027)\n"
     ]
    }
   ],
   "source": [
    "print(X_train.shape)\n",
    "print(X_test.shape)"
   ]
  },
  {
   "cell_type": "code",
   "execution_count": 15,
   "metadata": {},
   "outputs": [
    {
     "data": {
      "text/plain": [
       "count    69405.000000\n",
       "mean         5.920125\n",
       "std          1.218230\n",
       "min          1.000000\n",
       "25%          5.300000\n",
       "50%          6.100000\n",
       "75%          6.800000\n",
       "max          9.800000\n",
       "Name: avg_vote, dtype: float64"
      ]
     },
     "execution_count": 15,
     "metadata": {},
     "output_type": "execute_result"
    }
   ],
   "source": [
    "IMDB_only.avg_vote.describe()"
   ]
  },
  {
   "cell_type": "code",
   "execution_count": 16,
   "metadata": {},
   "outputs": [
    {
     "data": {
      "text/html": [
       "<div>\n",
       "<style scoped>\n",
       "    .dataframe tbody tr th:only-of-type {\n",
       "        vertical-align: middle;\n",
       "    }\n",
       "\n",
       "    .dataframe tbody tr th {\n",
       "        vertical-align: top;\n",
       "    }\n",
       "\n",
       "    .dataframe thead th {\n",
       "        text-align: right;\n",
       "    }\n",
       "</style>\n",
       "<table border=\"1\" class=\"dataframe\">\n",
       "  <thead>\n",
       "    <tr style=\"text-align: right;\">\n",
       "      <th></th>\n",
       "      <th>duration_min</th>\n",
       "      <th>votes</th>\n",
       "      <th>reviews_from_users</th>\n",
       "      <th>News</th>\n",
       "      <th>Mystery</th>\n",
       "      <th>Adventure</th>\n",
       "      <th>Western</th>\n",
       "      <th>Crime</th>\n",
       "      <th>Music</th>\n",
       "      <th>Documentary</th>\n",
       "      <th>...</th>\n",
       "      <th>Wallis-Hazen</th>\n",
       "      <th>Filmirage</th>\n",
       "      <th>Embrafilme</th>\n",
       "      <th>Duea Film</th>\n",
       "      <th>Hrvatska Radiotelevizija (HRT)</th>\n",
       "      <th>Centre du Cinéma et de l'Audiovisuel de la Fédération Wallonie-Bruxelles</th>\n",
       "      <th>Art Theatre Guild (ATG)</th>\n",
       "      <th>Lakeshore Entertainment</th>\n",
       "      <th>Alliance Atlantis Communications</th>\n",
       "      <th>Merchant Ivory Productions</th>\n",
       "    </tr>\n",
       "  </thead>\n",
       "  <tbody>\n",
       "    <tr>\n",
       "      <th>3</th>\n",
       "      <td>0.050995</td>\n",
       "      <td>-0.398719</td>\n",
       "      <td>-0.118602</td>\n",
       "      <td>0</td>\n",
       "      <td>0</td>\n",
       "      <td>0</td>\n",
       "      <td>0</td>\n",
       "      <td>0</td>\n",
       "      <td>0</td>\n",
       "      <td>0</td>\n",
       "      <td>...</td>\n",
       "      <td>0</td>\n",
       "      <td>0</td>\n",
       "      <td>0</td>\n",
       "      <td>0</td>\n",
       "      <td>0</td>\n",
       "      <td>0</td>\n",
       "      <td>0</td>\n",
       "      <td>0</td>\n",
       "      <td>0</td>\n",
       "      <td>0</td>\n",
       "    </tr>\n",
       "    <tr>\n",
       "      <th>4</th>\n",
       "      <td>-1.745274</td>\n",
       "      <td>-0.231077</td>\n",
       "      <td>-0.000156</td>\n",
       "      <td>0</td>\n",
       "      <td>0</td>\n",
       "      <td>1</td>\n",
       "      <td>0</td>\n",
       "      <td>0</td>\n",
       "      <td>0</td>\n",
       "      <td>0</td>\n",
       "      <td>...</td>\n",
       "      <td>0</td>\n",
       "      <td>0</td>\n",
       "      <td>0</td>\n",
       "      <td>0</td>\n",
       "      <td>0</td>\n",
       "      <td>0</td>\n",
       "      <td>0</td>\n",
       "      <td>0</td>\n",
       "      <td>0</td>\n",
       "      <td>0</td>\n",
       "    </tr>\n",
       "  </tbody>\n",
       "</table>\n",
       "<p>2 rows × 1027 columns</p>\n",
       "</div>"
      ],
      "text/plain": [
       "   duration_min     votes  reviews_from_users  News  Mystery  Adventure  \\\n",
       "3      0.050995 -0.398719           -0.118602     0        0          0   \n",
       "4     -1.745274 -0.231077           -0.000156     0        0          1   \n",
       "\n",
       "   Western  Crime  Music  Documentary  ...  Wallis-Hazen  Filmirage  \\\n",
       "3        0      0      0            0  ...             0          0   \n",
       "4        0      0      0            0  ...             0          0   \n",
       "\n",
       "   Embrafilme  Duea Film  Hrvatska Radiotelevizija (HRT)  \\\n",
       "3           0          0                               0   \n",
       "4           0          0                               0   \n",
       "\n",
       "   Centre du Cinéma et de l'Audiovisuel de la Fédération Wallonie-Bruxelles  \\\n",
       "3                                                  0                          \n",
       "4                                                  0                          \n",
       "\n",
       "   Art Theatre Guild (ATG)  Lakeshore Entertainment  \\\n",
       "3                        0                        0   \n",
       "4                        0                        0   \n",
       "\n",
       "   Alliance Atlantis Communications  Merchant Ivory Productions  \n",
       "3                                 0                           0  \n",
       "4                                 0                           0  \n",
       "\n",
       "[2 rows x 1027 columns]"
      ]
     },
     "execution_count": 16,
     "metadata": {},
     "output_type": "execute_result"
    }
   ],
   "source": [
    "X.head(2)"
   ]
  },
  {
   "cell_type": "markdown",
   "metadata": {},
   "source": [
    "### Ordinary Linear Regression"
   ]
  },
  {
   "cell_type": "code",
   "execution_count": 17,
   "metadata": {},
   "outputs": [],
   "source": [
    "lr = LinearRegression()\n",
    "lr.fit(X_train, y_train)\n",
    "y_train_predict = lr.predict(X_train)\n",
    "y_test_predict = lr.predict(X_test)"
   ]
  },
  {
   "cell_type": "code",
   "execution_count": 18,
   "metadata": {},
   "outputs": [
    {
     "data": {
      "text/plain": [
       "9.191993064943755"
      ]
     },
     "execution_count": 18,
     "metadata": {},
     "output_type": "execute_result"
    }
   ],
   "source": [
    "np.max(y_train_predict)"
   ]
  },
  {
   "cell_type": "code",
   "execution_count": 19,
   "metadata": {},
   "outputs": [
    {
     "data": {
      "text/plain": [
       "6.363162574929101"
      ]
     },
     "execution_count": 19,
     "metadata": {},
     "output_type": "execute_result"
    }
   ],
   "source": [
    "lr.intercept_"
   ]
  },
  {
   "cell_type": "code",
   "execution_count": 20,
   "metadata": {},
   "outputs": [
    {
     "data": {
      "text/plain": [
       "[-1055696390276.3325,\n",
       " -2.850835218714515,\n",
       " -1.9004834592342377,\n",
       " -1.7649666219949722,\n",
       " -1.3444380015134811,\n",
       " -1.3395141586661339,\n",
       " -1.268185779452324,\n",
       " -1.2502575544640422,\n",
       " -1.2064049541950226,\n",
       " -1.1963471733033657]"
      ]
     },
     "execution_count": 20,
     "metadata": {},
     "output_type": "execute_result"
    }
   ],
   "source": [
    "sorted(lr.coef_)[:10]"
   ]
  },
  {
   "cell_type": "code",
   "execution_count": 21,
   "metadata": {},
   "outputs": [
    {
     "data": {
      "text/plain": [
       "0.44438539075149"
      ]
     },
     "execution_count": 21,
     "metadata": {},
     "output_type": "execute_result"
    }
   ],
   "source": [
    "r2_score(y_train, y_train_predict)"
   ]
  },
  {
   "cell_type": "code",
   "execution_count": 22,
   "metadata": {},
   "outputs": [
    {
     "data": {
      "text/plain": [
       "9.191993064943755"
      ]
     },
     "execution_count": 22,
     "metadata": {},
     "output_type": "execute_result"
    }
   ],
   "source": [
    "np.max(y_train_predict)"
   ]
  },
  {
   "cell_type": "code",
   "execution_count": 23,
   "metadata": {},
   "outputs": [
    {
     "data": {
      "text/plain": [
       "-3.5996195109918347e+19"
      ]
     },
     "execution_count": 23,
     "metadata": {},
     "output_type": "execute_result"
    }
   ],
   "source": [
    "r2_score(y_test, y_test_predict)"
   ]
  },
  {
   "cell_type": "code",
   "execution_count": 24,
   "metadata": {},
   "outputs": [
    {
     "data": {
      "text/plain": [
       "9.7"
      ]
     },
     "execution_count": 24,
     "metadata": {},
     "output_type": "execute_result"
    }
   ],
   "source": [
    "np.max(y_test)"
   ]
  },
  {
   "cell_type": "code",
   "execution_count": 25,
   "metadata": {},
   "outputs": [],
   "source": [
    "#language and production_company are giving the problem.\n",
    "# With 200 languages y_test_predict = 9.08, r2_score = -4.5023 * 10+19\n",
    "# production company is creating problem. while including this y_max = 292905286886.47784"
   ]
  },
  {
   "cell_type": "code",
   "execution_count": 26,
   "metadata": {},
   "outputs": [
    {
     "data": {
      "text/plain": [
       "4042835236.2761936"
      ]
     },
     "execution_count": 26,
     "metadata": {},
     "output_type": "execute_result"
    }
   ],
   "source": [
    "np.max(y_test_predict)"
   ]
  },
  {
   "cell_type": "code",
   "execution_count": 27,
   "metadata": {},
   "outputs": [],
   "source": [
    "#len(y>10)"
   ]
  },
  {
   "cell_type": "code",
   "execution_count": 28,
   "metadata": {},
   "outputs": [],
   "source": [
    "#type(y_test_predict)"
   ]
  },
  {
   "cell_type": "code",
   "execution_count": null,
   "metadata": {},
   "outputs": [],
   "source": []
  },
  {
   "cell_type": "code",
   "execution_count": 29,
   "metadata": {},
   "outputs": [
    {
     "data": {
      "text/plain": [
       "<function matplotlib.pyplot.show(close=None, block=None)>"
      ]
     },
     "execution_count": 29,
     "metadata": {},
     "output_type": "execute_result"
    },
    {
     "data": {
      "image/png": "[encoded data removed]",
      "text/plain": [
       "<Figure size 432x288 with 1 Axes>"
      ]
     },
     "metadata": {
      "needs_background": "light"
     },
     "output_type": "display_data"
    }
   ],
   "source": [
    "plt.scatter(y_train,y_train_predict,  color = 'b')\n",
    "plt.show"
   ]
  },
  {
   "cell_type": "code",
   "execution_count": 30,
   "metadata": {},
   "outputs": [
    {
     "data": {
      "text/plain": [
       "<function matplotlib.pyplot.show(close=None, block=None)>"
      ]
     },
     "execution_count": 30,
     "metadata": {},
     "output_type": "execute_result"
    },
    {
     "data": {
      "image/png": "[encoded data removed]",
      "text/plain": [
       "<Figure size 432x288 with 1 Axes>"
      ]
     },
     "metadata": {
      "needs_background": "light"
     },
     "output_type": "display_data"
    }
   ],
   "source": [
    "# plot the y_test and y_predict\n",
    "plt.scatter(y_test,y_test_predict,  color = 'b')\n",
    "plt.show"
   ]
  },
  {
   "cell_type": "code",
   "execution_count": 31,
   "metadata": {},
   "outputs": [
    {
     "name": "stdout",
     "output_type": "stream",
     "text": [
      "The mean squared error: 5.352565617906925e+19\n",
      "The root mean squared error: 7316123029.246382\n",
      "The mean absolute error: 50895170.49911692\n"
     ]
    }
   ],
   "source": [
    "from sklearn.metrics import mean_squared_error\n",
    "print(\"The mean squared error:\", mean_squared_error(y_test, y_test_predict))\n",
    "\n",
    "from sklearn.metrics import mean_squared_error\n",
    "print(\"The root mean squared error:\", mean_squared_error(y_test, y_test_predict, squared = False))\n",
    "\n",
    "from sklearn.metrics import mean_absolute_error\n",
    "print(\"The mean absolute error:\", mean_absolute_error(y_test, y_test_predict))"
   ]
  },
  {
   "cell_type": "markdown",
   "metadata": {},
   "source": [
    "### Lasso Linear Regression"
   ]
  },
  {
   "cell_type": "code",
   "execution_count": 32,
   "metadata": {},
   "outputs": [
    {
     "name": "stdout",
     "output_type": "stream",
     "text": [
      "0.1\n",
      "0.1831194386116668\n",
      "0.19113166123051628\n",
      "1\n",
      "0.0\n",
      "-0.0001435547625374678\n",
      "10\n",
      "0.0\n",
      "-0.0001435547625374678\n",
      "100\n",
      "0.0\n",
      "-0.0001435547625374678\n",
      "1000\n",
      "0.0\n",
      "-0.0001435547625374678\n"
     ]
    }
   ],
   "source": [
    "alpha = [0.1, 1, 10, 100, 1000]\n",
    "for alp in alpha:\n",
    "    lasso1 = Lasso(alpha=alp)\n",
    "    lasso1.fit(X_train, y_train)\n",
    "    y_train_predict1 = lasso1.predict(X_train)\n",
    "    y_test_predict1 = lasso1.predict(X_test)\n",
    "    print(alp)\n",
    "    print(r2_score(y_train, y_train_predict1))\n",
    "    print(r2_score(y_test, y_test_predict1))"
   ]
  },
  {
   "cell_type": "code",
   "execution_count": 33,
   "metadata": {},
   "outputs": [
    {
     "name": "stdout",
     "output_type": "stream",
     "text": [
      "0.01\n",
      "0.44438536368402826\n",
      "0.4264149618655648\n",
      "9.085787432665647\n",
      "0.1\n",
      "0.444382754028419\n",
      "0.42652232459567996\n",
      "9.070298472059282\n",
      "1\n",
      "0.44424475129066177\n",
      "0.4272252558423708\n",
      "8.938035086581024\n",
      "10\n",
      "0.44026678256230334\n",
      "0.42767751125437037\n",
      "8.786087233403844\n",
      "100\n",
      "0.4120486051580955\n",
      "0.4085459595828542\n",
      "8.62341831123646\n",
      "1000\n",
      "0.36418273905839804\n",
      "0.3667556594488717\n",
      "8.411264111032299\n"
     ]
    }
   ],
   "source": [
    "alpha2 = [0.01, 0.1, 1, 10, 100, 1000]\n",
    "for alp2 in alpha2:\n",
    "    Rge = Ridge(alpha=alp2)\n",
    "    Rge.fit(X_train, y_train)\n",
    "    y_train_predict2 = Rge.predict(X_train)\n",
    "    y_test_predict2 = Rge.predict(X_test)\n",
    "    print(alp2)\n",
    "    print(r2_score(y_train, y_train_predict2))\n",
    "    print(r2_score(y_test, y_test_predict2))\n",
    "    print(np.max(y_test_predict2))"
   ]
  },
  {
   "cell_type": "code",
   "execution_count": 34,
   "metadata": {},
   "outputs": [
    {
     "data": {
      "text/plain": [
       "GridSearchCV(cv=5, error_score=nan,\n",
       "             estimator=Ridge(alpha=1.0, copy_X=True, fit_intercept=True,\n",
       "                             max_iter=None, normalize=False, random_state=None,\n",
       "                             solver='auto', tol=0.001),\n",
       "             iid='deprecated', n_jobs=None,\n",
       "             param_grid={'alpha': [0.01, 0.1, 1, 10, 100, 1000]},\n",
       "             pre_dispatch='2*n_jobs', refit=True, return_train_score=False,\n",
       "             scoring='r2', verbose=0)"
      ]
     },
     "execution_count": 34,
     "metadata": {},
     "output_type": "execute_result"
    }
   ],
   "source": [
    "Rge3 = Ridge()\n",
    "alpha = [0.01, 0.1, 1, 10, 100, 1000]\n",
    "parameters = {'alpha': alpha}\n",
    "rge3_grid = GridSearchCV(Rge3, param_grid = parameters, scoring = 'r2', cv = 5)\n",
    "rge3_grid.fit(X, y)"
   ]
  },
  {
   "cell_type": "code",
   "execution_count": 35,
   "metadata": {},
   "outputs": [
    {
     "name": "stdout",
     "output_type": "stream",
     "text": [
      "0.2067423790830239\n",
      "{'alpha': 1}\n"
     ]
    }
   ],
   "source": [
    "print(rge3_grid.best_score_)\n",
    "print(rge3_grid.best_params_)"
   ]
  },
  {
   "cell_type": "code",
   "execution_count": 36,
   "metadata": {},
   "outputs": [
    {
     "data": {
      "text/plain": [
       "RandomizedSearchCV(cv=5, error_score=nan,\n",
       "                   estimator=Ridge(alpha=1.0, copy_X=True, fit_intercept=True,\n",
       "                                   max_iter=None, normalize=False,\n",
       "                                   random_state=None, solver='auto',\n",
       "                                   tol=0.001),\n",
       "                   iid='deprecated', n_iter=10, n_jobs=None,\n",
       "                   param_distributions={'alpha': array([1.00000000e-02, 2.04179592e+01, 4.08259184e+01, 6.12338776e+01,\n",
       "       8.16418367e+01, 1.02049796e+02, 1.22457755e+02,...\n",
       "       6.53064694e+02, 6.73472653e+02, 6.93880612e+02, 7.14288571e+02,\n",
       "       7.34696531e+02, 7.55104490e+02, 7.75512449e+02, 7.95920408e+02,\n",
       "       8.16328367e+02, 8.36736327e+02, 8.57144286e+02, 8.77552245e+02,\n",
       "       8.97960204e+02, 9.18368163e+02, 9.38776122e+02, 9.59184082e+02,\n",
       "       9.79592041e+02, 1.00000000e+03])},\n",
       "                   pre_dispatch='2*n_jobs', random_state=None, refit=True,\n",
       "                   return_train_score=False, scoring=None, verbose=0)"
      ]
     },
     "execution_count": 36,
     "metadata": {},
     "output_type": "execute_result"
    }
   ],
   "source": [
    "Rge4 = Ridge()\n",
    "alpha4 = {'alpha': np.linspace(0.01, 1000, 50)} \n",
    "Rge4_random = RandomizedSearchCV(Rge4, param_distributions = alpha4, cv = 5)\n",
    "Rge4_random.fit(X_train, y_train)"
   ]
  },
  {
   "cell_type": "code",
   "execution_count": 37,
   "metadata": {},
   "outputs": [
    {
     "name": "stdout",
     "output_type": "stream",
     "text": [
      "0.42320565300866236\n",
      "{'alpha': 0.01}\n"
     ]
    }
   ],
   "source": [
    "print(Rge4_random.best_score_)\n",
    "print(Rge4_random.best_params_)"
   ]
  },
  {
   "cell_type": "markdown",
   "metadata": {},
   "source": [
    "# Model optimization"
   ]
  },
  {
   "cell_type": "markdown",
   "metadata": {},
   "source": [
    "# Random Forest Model"
   ]
  },
  {
   "cell_type": "code",
   "execution_count": 38,
   "metadata": {},
   "outputs": [
    {
     "data": {
      "text/plain": [
       "RandomForestRegressor(bootstrap=True, ccp_alpha=0.0, criterion='mse',\n",
       "                      max_depth=None, max_features='auto', max_leaf_nodes=None,\n",
       "                      max_samples=None, min_impurity_decrease=0.0,\n",
       "                      min_impurity_split=None, min_samples_leaf=1,\n",
       "                      min_samples_split=2, min_weight_fraction_leaf=0.0,\n",
       "                      n_estimators=100, n_jobs=None, oob_score=False,\n",
       "                      random_state=42, verbose=0, warm_start=False)"
      ]
     },
     "execution_count": 38,
     "metadata": {},
     "output_type": "execute_result"
    }
   ],
   "source": [
    "from sklearn.ensemble import RandomForestRegressor\n",
    "regr = RandomForestRegressor(random_state = 42)\n",
    "regr.fit(X_train, y_train)"
   ]
  },
  {
   "cell_type": "code",
   "execution_count": 39,
   "metadata": {},
   "outputs": [],
   "source": [
    "y_predict3 = regr.predict(X_test)"
   ]
  },
  {
   "cell_type": "code",
   "execution_count": 40,
   "metadata": {},
   "outputs": [
    {
     "data": {
      "text/plain": [
       "0.4470212232046752"
      ]
     },
     "execution_count": 40,
     "metadata": {},
     "output_type": "execute_result"
    }
   ],
   "source": [
    "r2_score(y_test, y_predict3)"
   ]
  },
  {
   "cell_type": "code",
   "execution_count": 41,
   "metadata": {},
   "outputs": [
    {
     "data": {
      "image/png": "[encoded data removed]",
      "text/plain": [
       "<Figure size 432x288 with 1 Axes>"
      ]
     },
     "metadata": {
      "needs_background": "light"
     },
     "output_type": "display_data"
    }
   ],
   "source": [
    "plt.scatter(y_test, y_predict3, color = 'b')\n",
    "plt.xlim([0, 10])\n",
    "plt.ylim([0, 10])\n",
    "plt.show()"
   ]
  },
  {
   "cell_type": "code",
   "execution_count": 69,
   "metadata": {},
   "outputs": [
    {
     "data": {
      "text/plain": [
       "0.4470212232046752"
      ]
     },
     "execution_count": 69,
     "metadata": {},
     "output_type": "execute_result"
    }
   ],
   "source": [
    "regr2 = RandomForestRegressor(n_estimators=150, random_state = 42)\n",
    "regr.fit(X_train, y_train)\n",
    "y_predict4 = regr.predict(X_test)\n",
    "r2_score(y_test, y_predict4)"
   ]
  },
  {
   "cell_type": "markdown",
   "metadata": {},
   "source": [
    "**<font color = 'teal'> Note: From above, it can be concluded that the Random Forest Regressor model performance is better than Linear Regresson model.**"
   ]
  },
  {
   "cell_type": "markdown",
   "metadata": {},
   "source": [
    "# Gradient boosting "
   ]
  },
  {
   "cell_type": "code",
   "execution_count": 42,
   "metadata": {},
   "outputs": [],
   "source": [
    "def opt_gradientboosting(learning_rate, n_estimator, max_features, max_depth):\n",
    "    for rate in learning_rate:\n",
    "        gb = GradientBoostingRegressor(learning_rate = rate, n_estimators = n_estimator,  max_features = max_features, max_depth = max_depth)\n",
    "        gb.fit(X_train, y_train)\n",
    "        y_gb_predict = gb.predict(X_test)\n",
    "        score_1 = r2_score(y_test,y_gb_predict)\n",
    "        print(rate)\n",
    "        print(score_1)\n",
    "    return print('End')\n",
    "\n",
    "#learning_gb.fitX_train, y_trainrates = [0.05, 0.1, 0.25, 0.5, 0.75, 1]\n",
    "#gb = GradientBoostingRegressor()\n",
    "#n_estimator = 20\n",
    "#max_features = 1027\n",
    "#max_depth = [2, 3]\n",
    "#paramters = {'n_estimators': n_estimator, 'learning_rate': learning_rates, 'max_features':max_features, 'max_depth':max_depth}\n",
    "#gr = GridSearchCV(gb, param_grid = paramters, n_jobs = -1)\n",
    "#gr.fit(X_train, y_train)"
   ]
  },
  {
   "cell_type": "code",
   "execution_count": 43,
   "metadata": {},
   "outputs": [
    {
     "name": "stdout",
     "output_type": "stream",
     "text": [
      "0.1\n",
      "0.2661707507509651\n",
      "1\n",
      "0.39065051181065114\n",
      "10\n",
      "-3.23227581740827e+18\n",
      "100\n",
      "-2.174513539774419e+39\n",
      "1000\n",
      "-2.6059614610539425e+59\n",
      "End\n"
     ]
    }
   ],
   "source": [
    "learning_rate = [0.1, 1, 10, 100, 1000]\n",
    "opt_gradientboosting(learning_rate, 10, 1027, 3)"
   ]
  },
  {
   "cell_type": "code",
   "execution_count": 45,
   "metadata": {},
   "outputs": [
    {
     "name": "stdout",
     "output_type": "stream",
     "text": [
      "0.1\n",
      "0.34427684652378165\n",
      "1\n",
      "0.4166251716211067\n",
      "10\n",
      "-3.929692805933381e+37\n",
      "100\n",
      "-1.7785497100809835e+79\n",
      "1000\n",
      "-2.554334406299189e+119\n",
      "End\n"
     ]
    }
   ],
   "source": [
    "opt_gradientboosting(learning_rate, 20, 1027, 3)"
   ]
  },
  {
   "cell_type": "code",
   "execution_count": 46,
   "metadata": {},
   "outputs": [
    {
     "name": "stdout",
     "output_type": "stream",
     "text": [
      "0.1\n",
      "0.40587492741054154\n",
      "1\n",
      "0.4453242905674415\n",
      "10\n",
      "-7.061698447757481e+94\n",
      "100\n",
      "-9.731452876924814e+198\n",
      "1000\n",
      "-2.950116412610234e+298\n",
      "End\n"
     ]
    }
   ],
   "source": [
    "opt_gradientboosting(learning_rate, 50, 1027, 3)"
   ]
  },
  {
   "cell_type": "code",
   "execution_count": 47,
   "metadata": {},
   "outputs": [
    {
     "name": "stdout",
     "output_type": "stream",
     "text": [
      "0.1\n",
      "0.4226925597372858\n",
      "1\n",
      "0.45493882117887563\n",
      "10\n",
      "-3.639440638159388e+142\n",
      "100\n",
      "-3.5292969708242305e+296\n"
     ]
    },
    {
     "name": "stderr",
     "output_type": "stream",
     "text": [
      "C:\\Users\\user\\Anaconda3\\lib\\site-packages\\numpy\\core\\fromnumeric.py:87: RuntimeWarning: overflow encountered in reduce\n",
      "  return ufunc.reduce(obj, axis, dtype, out, **passkwargs)\n",
      "C:\\Users\\user\\Anaconda3\\lib\\site-packages\\numpy\\core\\fromnumeric.py:87: RuntimeWarning: overflow encountered in reduce\n",
      "  return ufunc.reduce(obj, axis, dtype, out, **passkwargs)\n",
      "C:\\Users\\user\\AppData\\Roaming\\Python\\Python37\\site-packages\\sklearn\\ensemble\\_gb_losses.py:212: RuntimeWarning: overflow encountered in square\n",
      "  sample_weight * ((y - raw_predictions.ravel()) ** 2)))\n",
      "C:\\Users\\user\\Anaconda3\\lib\\site-packages\\numpy\\core\\fromnumeric.py:87: RuntimeWarning: overflow encountered in reduce\n",
      "  return ufunc.reduce(obj, axis, dtype, out, **passkwargs)\n",
      "C:\\Users\\user\\AppData\\Roaming\\Python\\Python37\\site-packages\\sklearn\\ensemble\\_gb_losses.py:212: RuntimeWarning: overflow encountered in square\n",
      "  sample_weight * ((y - raw_predictions.ravel()) ** 2)))\n",
      "C:\\Users\\user\\Anaconda3\\lib\\site-packages\\numpy\\core\\fromnumeric.py:87: RuntimeWarning: overflow encountered in reduce\n",
      "  return ufunc.reduce(obj, axis, dtype, out, **passkwargs)\n",
      "C:\\Users\\user\\AppData\\Roaming\\Python\\Python37\\site-packages\\sklearn\\ensemble\\_gb_losses.py:212: RuntimeWarning: overflow encountered in square\n",
      "  sample_weight * ((y - raw_predictions.ravel()) ** 2)))\n",
      "C:\\Users\\user\\AppData\\Roaming\\Python\\Python37\\site-packages\\sklearn\\ensemble\\_gb_losses.py:212: RuntimeWarning: overflow encountered in square\n",
      "  sample_weight * ((y - raw_predictions.ravel()) ** 2)))\n",
      "C:\\Users\\user\\AppData\\Roaming\\Python\\Python37\\site-packages\\sklearn\\ensemble\\_gb_losses.py:212: RuntimeWarning: overflow encountered in square\n",
      "  sample_weight * ((y - raw_predictions.ravel()) ** 2)))\n",
      "C:\\Users\\user\\AppData\\Roaming\\Python\\Python37\\site-packages\\sklearn\\ensemble\\_gb_losses.py:212: RuntimeWarning: overflow encountered in square\n",
      "  sample_weight * ((y - raw_predictions.ravel()) ** 2)))\n",
      "C:\\Users\\user\\AppData\\Roaming\\Python\\Python37\\site-packages\\sklearn\\ensemble\\_gb_losses.py:212: RuntimeWarning: overflow encountered in square\n",
      "  sample_weight * ((y - raw_predictions.ravel()) ** 2)))\n",
      "C:\\Users\\user\\AppData\\Roaming\\Python\\Python37\\site-packages\\sklearn\\ensemble\\_gb_losses.py:212: RuntimeWarning: overflow encountered in square\n",
      "  sample_weight * ((y - raw_predictions.ravel()) ** 2)))\n",
      "C:\\Users\\user\\AppData\\Roaming\\Python\\Python37\\site-packages\\sklearn\\ensemble\\_gb_losses.py:212: RuntimeWarning: overflow encountered in square\n",
      "  sample_weight * ((y - raw_predictions.ravel()) ** 2)))\n",
      "C:\\Users\\user\\AppData\\Roaming\\Python\\Python37\\site-packages\\sklearn\\ensemble\\_gb_losses.py:212: RuntimeWarning: overflow encountered in square\n",
      "  sample_weight * ((y - raw_predictions.ravel()) ** 2)))\n",
      "C:\\Users\\user\\AppData\\Roaming\\Python\\Python37\\site-packages\\sklearn\\ensemble\\_gb_losses.py:212: RuntimeWarning: overflow encountered in square\n",
      "  sample_weight * ((y - raw_predictions.ravel()) ** 2)))\n",
      "C:\\Users\\user\\AppData\\Roaming\\Python\\Python37\\site-packages\\sklearn\\ensemble\\_gb_losses.py:212: RuntimeWarning: overflow encountered in square\n",
      "  sample_weight * ((y - raw_predictions.ravel()) ** 2)))\n",
      "C:\\Users\\user\\AppData\\Roaming\\Python\\Python37\\site-packages\\sklearn\\ensemble\\_gb_losses.py:212: RuntimeWarning: overflow encountered in square\n",
      "  sample_weight * ((y - raw_predictions.ravel()) ** 2)))\n",
      "C:\\Users\\user\\AppData\\Roaming\\Python\\Python37\\site-packages\\sklearn\\ensemble\\_gb_losses.py:212: RuntimeWarning: overflow encountered in square\n",
      "  sample_weight * ((y - raw_predictions.ravel()) ** 2)))\n",
      "C:\\Users\\user\\AppData\\Roaming\\Python\\Python37\\site-packages\\sklearn\\ensemble\\_gb_losses.py:212: RuntimeWarning: overflow encountered in square\n",
      "  sample_weight * ((y - raw_predictions.ravel()) ** 2)))\n",
      "C:\\Users\\user\\AppData\\Roaming\\Python\\Python37\\site-packages\\sklearn\\ensemble\\_gb_losses.py:212: RuntimeWarning: overflow encountered in square\n",
      "  sample_weight * ((y - raw_predictions.ravel()) ** 2)))\n",
      "C:\\Users\\user\\AppData\\Roaming\\Python\\Python37\\site-packages\\sklearn\\ensemble\\_gb_losses.py:212: RuntimeWarning: overflow encountered in square\n",
      "  sample_weight * ((y - raw_predictions.ravel()) ** 2)))\n",
      "C:\\Users\\user\\AppData\\Roaming\\Python\\Python37\\site-packages\\sklearn\\ensemble\\_gb_losses.py:212: RuntimeWarning: overflow encountered in square\n",
      "  sample_weight * ((y - raw_predictions.ravel()) ** 2)))\n",
      "C:\\Users\\user\\AppData\\Roaming\\Python\\Python37\\site-packages\\sklearn\\ensemble\\_gb_losses.py:212: RuntimeWarning: overflow encountered in square\n",
      "  sample_weight * ((y - raw_predictions.ravel()) ** 2)))\n",
      "C:\\Users\\user\\AppData\\Roaming\\Python\\Python37\\site-packages\\sklearn\\ensemble\\_gb_losses.py:212: RuntimeWarning: overflow encountered in square\n",
      "  sample_weight * ((y - raw_predictions.ravel()) ** 2)))\n",
      "C:\\Users\\user\\AppData\\Roaming\\Python\\Python37\\site-packages\\sklearn\\ensemble\\_gb_losses.py:212: RuntimeWarning: overflow encountered in square\n",
      "  sample_weight * ((y - raw_predictions.ravel()) ** 2)))\n",
      "C:\\Users\\user\\AppData\\Roaming\\Python\\Python37\\site-packages\\sklearn\\ensemble\\_gb_losses.py:212: RuntimeWarning: overflow encountered in square\n",
      "  sample_weight * ((y - raw_predictions.ravel()) ** 2)))\n"
     ]
    },
    {
     "name": "stdout",
     "output_type": "stream",
     "text": [
      "1000\n",
      "-inf\n",
      "End\n"
     ]
    },
    {
     "name": "stderr",
     "output_type": "stream",
     "text": [
      "C:\\Users\\user\\AppData\\Roaming\\Python\\Python37\\site-packages\\sklearn\\metrics\\_regression.py:591: RuntimeWarning: overflow encountered in square\n",
      "  numerator = (weight * (y_true - y_pred) ** 2).sum(axis=0,\n"
     ]
    }
   ],
   "source": [
    "opt_gradientboosting(learning_rate, 75, 1027, 3)"
   ]
  },
  {
   "cell_type": "code",
   "execution_count": 48,
   "metadata": {},
   "outputs": [
    {
     "name": "stdout",
     "output_type": "stream",
     "text": [
      "0.1\n",
      "0.43286886313591244\n",
      "1\n",
      "0.45889560048923905\n",
      "End\n"
     ]
    }
   ],
   "source": [
    "learning_rate = [0.1, 1]\n",
    "opt_gradientboosting(learning_rate, 100, 1027, 3)"
   ]
  },
  {
   "cell_type": "code",
   "execution_count": 49,
   "metadata": {},
   "outputs": [
    {
     "name": "stdout",
     "output_type": "stream",
     "text": [
      "0.1\n",
      "0.4393029669878036\n",
      "1\n",
      "0.45923115130484715\n",
      "End\n"
     ]
    }
   ],
   "source": [
    "learning_rate = [0.1, 1]\n",
    "opt_gradientboosting(learning_rate, 120, 1027, 3)"
   ]
  },
  {
   "cell_type": "code",
   "execution_count": 50,
   "metadata": {},
   "outputs": [
    {
     "name": "stdout",
     "output_type": "stream",
     "text": [
      "0.1\n",
      "0.4450106035027547\n",
      "1\n",
      "0.4579638797795418\n",
      "End\n"
     ]
    }
   ],
   "source": [
    "learning_rate = [0.1, 1]\n",
    "opt_gradientboosting(learning_rate, 140, 1027, 3)"
   ]
  },
  {
   "cell_type": "code",
   "execution_count": 51,
   "metadata": {},
   "outputs": [
    {
     "name": "stdout",
     "output_type": "stream",
     "text": [
      "0.1\n",
      "0.446714104772609\n",
      "1\n",
      "0.4555805488215873\n",
      "End\n"
     ]
    }
   ],
   "source": [
    "learning_rate = [0.1, 1]\n",
    "opt_gradientboosting(learning_rate, 150, 1027, 3)"
   ]
  },
  {
   "cell_type": "code",
   "execution_count": 54,
   "metadata": {},
   "outputs": [
    {
     "name": "stdout",
     "output_type": "stream",
     "text": [
      "0.1\n",
      "0.4506605226048078\n",
      "1\n",
      "0.45977265264552136\n",
      "End\n"
     ]
    }
   ],
   "source": [
    "learning_rate = [0.1, 1]\n",
    "opt_gradientboosting(learning_rate, 170, 1027, 3)"
   ]
  },
  {
   "cell_type": "code",
   "execution_count": 55,
   "metadata": {},
   "outputs": [
    {
     "name": "stdout",
     "output_type": "stream",
     "text": [
      "0.1\n",
      "0.45544195038940904\n",
      "1\n",
      "0.45787480499378164\n",
      "End\n"
     ]
    }
   ],
   "source": [
    "learning_rate = [0.1, 1]\n",
    "opt_gradientboosting(learning_rate, 200, 1027, 3)"
   ]
  },
  {
   "cell_type": "code",
   "execution_count": 56,
   "metadata": {},
   "outputs": [
    {
     "name": "stdout",
     "output_type": "stream",
     "text": [
      "0.1\n",
      "0.4592504214944393\n",
      "1\n",
      "0.4572100969789028\n",
      "End\n"
     ]
    }
   ],
   "source": [
    "learning_rate = [0.1, 1]\n",
    "opt_gradientboosting(learning_rate, 225, 1027, 3)"
   ]
  },
  {
   "cell_type": "code",
   "execution_count": 57,
   "metadata": {},
   "outputs": [
    {
     "name": "stdout",
     "output_type": "stream",
     "text": [
      "0.1\n",
      "0.46181724226401877\n",
      "1\n",
      "0.4581589292304382\n",
      "End\n"
     ]
    }
   ],
   "source": [
    "learning_rate = [0.1, 1]\n",
    "opt_gradientboosting(learning_rate, 250, 1027, 3)"
   ]
  },
  {
   "cell_type": "code",
   "execution_count": 58,
   "metadata": {},
   "outputs": [
    {
     "name": "stdout",
     "output_type": "stream",
     "text": [
      "0.1\n",
      "0.46406341092521486\n",
      "1\n",
      "0.45361864890868486\n",
      "End\n"
     ]
    }
   ],
   "source": [
    "learning_rate = [0.1, 1]\n",
    "opt_gradientboosting(learning_rate, 275, 1027, 3)"
   ]
  },
  {
   "cell_type": "code",
   "execution_count": 60,
   "metadata": {},
   "outputs": [
    {
     "name": "stdout",
     "output_type": "stream",
     "text": [
      "0.1\n",
      "0.4662849658625744\n",
      "End\n"
     ]
    }
   ],
   "source": [
    "learning_rate = [0.1]\n",
    "opt_gradientboosting(learning_rate, 300, 1027, 3)"
   ]
  },
  {
   "cell_type": "code",
   "execution_count": 61,
   "metadata": {},
   "outputs": [
    {
     "name": "stdout",
     "output_type": "stream",
     "text": [
      "0.1\n",
      "0.46819489150383453\n",
      "End\n"
     ]
    }
   ],
   "source": [
    "learning_rate = [0.1]\n",
    "opt_gradientboosting(learning_rate, 325, 1027, 3)"
   ]
  },
  {
   "cell_type": "code",
   "execution_count": 62,
   "metadata": {},
   "outputs": [
    {
     "name": "stdout",
     "output_type": "stream",
     "text": [
      "0.1\n",
      "0.4700930132821026\n",
      "End\n"
     ]
    }
   ],
   "source": [
    "learning_rate = [0.1]\n",
    "opt_gradientboosting(learning_rate, 350, 1027, 3)"
   ]
  },
  {
   "cell_type": "code",
   "execution_count": 63,
   "metadata": {},
   "outputs": [
    {
     "name": "stdout",
     "output_type": "stream",
     "text": [
      "0.1\n",
      "0.4734320440604374\n",
      "End\n"
     ]
    }
   ],
   "source": [
    "learning_rate = [0.1]\n",
    "opt_gradientboosting(learning_rate, 400, 1027, 3)"
   ]
  },
  {
   "cell_type": "code",
   "execution_count": 64,
   "metadata": {},
   "outputs": [
    {
     "name": "stdout",
     "output_type": "stream",
     "text": [
      "0.1\n",
      "0.4767236738584849\n",
      "End\n"
     ]
    }
   ],
   "source": [
    "learning_rate = [0.1]\n",
    "opt_gradientboosting(learning_rate, 450, 1027, 3)"
   ]
  },
  {
   "cell_type": "code",
   "execution_count": 65,
   "metadata": {},
   "outputs": [
    {
     "name": "stdout",
     "output_type": "stream",
     "text": [
      "0.1\n",
      "0.4788066919497518\n",
      "End\n"
     ]
    }
   ],
   "source": [
    "learning_rate = [0.1]\n",
    "opt_gradientboosting(learning_rate, 500, 1027, 3)"
   ]
  },
  {
   "cell_type": "code",
   "execution_count": 66,
   "metadata": {},
   "outputs": [
    {
     "name": "stdout",
     "output_type": "stream",
     "text": [
      "0.1\n",
      "0.48102852104296423\n",
      "End\n"
     ]
    }
   ],
   "source": [
    "learning_rate = [0.1]\n",
    "opt_gradientboosting(learning_rate, 550, 1027, 3)"
   ]
  },
  {
   "cell_type": "code",
   "execution_count": 67,
   "metadata": {},
   "outputs": [
    {
     "name": "stdout",
     "output_type": "stream",
     "text": [
      "0.1\n",
      "0.48531646822394703\n",
      "End\n"
     ]
    }
   ],
   "source": [
    "learning_rate = [0.1]\n",
    "opt_gradientboosting(learning_rate, 700, 1027, 3)"
   ]
  },
  {
   "cell_type": "code",
   "execution_count": 68,
   "metadata": {},
   "outputs": [
    {
     "name": "stdout",
     "output_type": "stream",
     "text": [
      "0.1\n",
      "0.4877544861834895\n",
      "End\n"
     ]
    }
   ],
   "source": [
    "learning_rate = [0.1]\n",
    "opt_gradientboosting(learning_rate, 800, 1027, 3)"
   ]
  },
  {
   "cell_type": "markdown",
   "metadata": {},
   "source": [
    "### With best n_estimator = 700, increase the max_depth from 3 to 5"
   ]
  },
  {
   "cell_type": "code",
   "execution_count": 70,
   "metadata": {},
   "outputs": [
    {
     "name": "stdout",
     "output_type": "stream",
     "text": [
      "0.1\n",
      "0.5029195974259342\n",
      "End\n"
     ]
    }
   ],
   "source": [
    "learning_rate = [0.1]\n",
    "opt_gradientboosting(learning_rate, 700, 1027, 5)"
   ]
  },
  {
   "cell_type": "code",
   "execution_count": 71,
   "metadata": {},
   "outputs": [
    {
     "name": "stdout",
     "output_type": "stream",
     "text": [
      "0.1\n",
      "0.5088503632361199\n",
      "End\n"
     ]
    }
   ],
   "source": [
    "learning_rate = [0.1]\n",
    "opt_gradientboosting(learning_rate, 700, 1027, 7)"
   ]
  },
  {
   "cell_type": "markdown",
   "metadata": {},
   "source": [
    "### Got best n_estimator = 700, max_depth = 7"
   ]
  },
  {
   "cell_type": "code",
   "execution_count": 72,
   "metadata": {},
   "outputs": [
    {
     "name": "stdout",
     "output_type": "stream",
     "text": [
      "0.1\n",
      "0.5038913587705087\n",
      "End\n"
     ]
    }
   ],
   "source": [
    "learning_rate = [0.1]\n",
    "opt_gradientboosting(learning_rate, 700, 1027, 10)"
   ]
  },
  {
   "cell_type": "code",
   "execution_count": 73,
   "metadata": {},
   "outputs": [
    {
     "name": "stdout",
     "output_type": "stream",
     "text": [
      "0.1\n",
      "0.5089865123584758\n",
      "End\n"
     ]
    }
   ],
   "source": [
    "learning_rate = [0.1]\n",
    "opt_gradientboosting(learning_rate, 700, 900, 7)"
   ]
  },
  {
   "cell_type": "code",
   "execution_count": 74,
   "metadata": {},
   "outputs": [
    {
     "name": "stdout",
     "output_type": "stream",
     "text": [
      "0.1\n",
      "0.5117170075319708\n",
      "End\n"
     ]
    }
   ],
   "source": [
    "learning_rate = [0.1]\n",
    "opt_gradientboosting(learning_rate, 700, 500, 7)"
   ]
  },
  {
   "cell_type": "code",
   "execution_count": 75,
   "metadata": {},
   "outputs": [
    {
     "name": "stdout",
     "output_type": "stream",
     "text": [
      "0.1\n",
      "0.5121897655975621\n",
      "End\n"
     ]
    }
   ],
   "source": [
    "learning_rate = [0.1]\n",
    "opt_gradientboosting(learning_rate, 700, 400, 7)"
   ]
  },
  {
   "cell_type": "code",
   "execution_count": 76,
   "metadata": {},
   "outputs": [
    {
     "name": "stdout",
     "output_type": "stream",
     "text": [
      "0.1\n",
      "0.5127843354771702\n",
      "End\n"
     ]
    }
   ],
   "source": [
    "learning_rate = [0.1]\n",
    "opt_gradientboosting(learning_rate, 700, 300, 7)"
   ]
  },
  {
   "cell_type": "markdown",
   "metadata": {},
   "source": [
    "#### Among all models, Gradient boosting with learning_rate = 0.1, n_estimator = 700, max_features = 300, Max_depth = 7 is good upto this point, however, more optimization is needed to obtain the best model."
   ]
  },
  {
   "cell_type": "code",
   "execution_count": null,
   "metadata": {},
   "outputs": [],
   "source": [
    "gb = "
   ]
  },
  {
   "cell_type": "code",
   "execution_count": null,
   "metadata": {},
   "outputs": [],
   "source": [
    "#a = opt_gradientboosting(0.1, 10, 1027, 3)\n",
    "#print(a)\n",
    "#b = opt_gradientboosting(0.1, 10, 1027, 5)\n",
    "#print(b)\n",
    "#c = opt_gradientboosting(0.1, 10, 1027, 7)\n",
    "#print(c)\n",
    "#d = opt_gradientboosting(0.1, 10, 1027, 10)\n",
    "#print(d)"
   ]
  },
  {
   "cell_type": "code",
   "execution_count": null,
   "metadata": {},
   "outputs": [],
   "source": [
    "#a2 = opt_gradientboosting(1, 10, 1027, 3)\n",
    "#print(a2)\n",
    "#b2 = opt_gradientboosting(1, 10, 1027, 5)\n",
    "#print(b2)\n",
    "#c2 = opt_gradientboosting(1, 10, 1027, 7)\n",
    "#print(c2)\n",
    "#d2 = opt_gradientboosting(1, 10, 1027, 10)\n",
    "#print(d2)"
   ]
  },
  {
   "cell_type": "code",
   "execution_count": null,
   "metadata": {},
   "outputs": [],
   "source": [
    "#learning_rates = [0.05, 0.1, 0.25, 0.5, 0.75, 1]\n",
    "#n_estimator = [100, 150, 200]\n",
    "#max_features = [800, 900, 1000, 1087]\n",
    "#max_depth = [2, 3, 4, 5, 6, 7, 8, 9, 10]\n",
    "#gb = GradientBoostingRegressor()"
   ]
  },
  {
   "cell_type": "markdown",
   "metadata": {},
   "source": [
    "# Save the best model parameter for further use"
   ]
  },
  {
   "cell_type": "code",
   "execution_count": null,
   "metadata": {},
   "outputs": [],
   "source": [
    "#This may not be \"production grade ML deployment\" practice, but adding some basic\n",
    "#information to your saved models can save your bacon in development.\n",
    "#Just what version model have you just loaded to reuse? What version of `sklearn`\n",
    "#created it? When did you make it?\n",
    "#Assign the pandas version number (`pd.__version__`) to the `pandas_version` attribute,\n",
    "#the numpy version (`np.__version__`) to the `numpy_version` attribute,\n",
    "#the sklearn version (`sklearn_version`) to the `sklearn_version` attribute,\n",
    "#and the current datetime (`datetime.datetime.now()`) to the `build_datetime` attribute\n",
    "#Let's call this model version '1.0'\n",
    "best_model = gb6\n",
    "best_model.version = '1.0'\n",
    "best_model.pandas_version = pd.__version__\n",
    "best_model.numpy_version = np.__version__\n",
    "#best_model.sklearn_version = sklearn_version\n",
    "best_model.X_columns = [col for col in X_train.columns]\n",
    "#best_model.build_datetime = datetime.datetime.now()"
   ]
  },
  {
   "cell_type": "code",
   "execution_count": null,
   "metadata": {},
   "outputs": [],
   "source": [
    "# save the best model to disk\n",
    "import os\n",
    "import pickle\n",
    "pickle.dump(best_model, open('Best_model.sav', 'wb'))"
   ]
  }
 ],
 "metadata": {
  "kernelspec": {
   "display_name": "Python 3",
   "language": "python",
   "name": "python3"
  },
  "language_info": {
   "codemirror_mode": {
    "name": "ipython",
    "version": 3
   },
   "file_extension": ".py",
   "mimetype": "text/x-python",
   "name": "python",
   "nbconvert_exporter": "python",
   "pygments_lexer": "ipython3",
   "version": "3.7.1"
  }
 },
 "nbformat": 4,
 "nbformat_minor": 2
}
