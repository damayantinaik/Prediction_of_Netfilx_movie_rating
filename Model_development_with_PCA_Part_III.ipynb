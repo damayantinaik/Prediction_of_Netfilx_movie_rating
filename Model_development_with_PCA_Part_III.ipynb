{
 "cells": [
  {
   "cell_type": "markdown",
   "metadata": {},
   "source": [
    "# Model developement to predict the rating (user review) of a movie: Part-III  (applying PCA and selecting 95% features)"
   ]
  },
  {
   "cell_type": "code",
   "execution_count": 1,
   "metadata": {},
   "outputs": [],
   "source": [
    "# Import necessary libraries\n",
    "import numpy as np\n",
    "import pandas as pd\n",
    "import matplotlib.pyplot as plt\n",
    "from sklearn.linear_model import LinearRegression, Lasso, Ridge\n",
    "from sklearn.model_selection import train_test_split\n",
    "from sklearn.model_selection import GridSearchCV, RandomizedSearchCV\n",
    "from sklearn.ensemble import GradientBoostingRegressor\n",
    "from sklearn.metrics import r2_score\n",
    "from sklearn.inspection import permutation_importance\n",
    "from sklearn.model_selection import KFold\n",
    "from sklearn.model_selection import cross_val_score\n",
    "from sklearn import metrics\n",
    "from sklearn.pipeline import make_pipeline\n",
    "from sklearn.feature_selection import SelectKBest, f_regression\n",
    "from sklearn.decomposition import PCA"
   ]
  },
  {
   "cell_type": "code",
   "execution_count": 2,
   "metadata": {},
   "outputs": [],
   "source": [
    "# Import the datasets\n",
    "IMDB_only = pd.read_csv('pre-processed_dataset/IMDB_only.csv', index_col = 0)\n",
    "IMDB_Kaggle_common = pd.read_csv('pre-processed_dataset/IMDB_Kaggle_common.csv', index_col = 0)"
   ]
  },
  {
   "cell_type": "code",
   "execution_count": null,
   "metadata": {},
   "outputs": [],
   "source": [
    "#IMDB_only.shape, IMDB_Kaggle_common.shape"
   ]
  },
  {
   "cell_type": "code",
   "execution_count": 3,
   "metadata": {},
   "outputs": [],
   "source": [
    "y = IMDB_only['avg_vote']\n",
    "X = IMDB_only.drop(columns = 'avg_vote')"
   ]
  },
  {
   "cell_type": "code",
   "execution_count": 4,
   "metadata": {},
   "outputs": [
    {
     "name": "stdout",
     "output_type": "stream",
     "text": [
      "(69458, 1088)\n",
      "(69458,)\n"
     ]
    }
   ],
   "source": [
    "print(X.shape)\n",
    "print(y.shape)"
   ]
  },
  {
   "cell_type": "markdown",
   "metadata": {},
   "source": [
    "## Train test split"
   ]
  },
  {
   "cell_type": "code",
   "execution_count": 5,
   "metadata": {},
   "outputs": [
    {
     "name": "stdout",
     "output_type": "stream",
     "text": [
      "(48620, 1088)\n",
      "(20838, 1088)\n"
     ]
    }
   ],
   "source": [
    "X_train, X_test, y_train, y_test = train_test_split(X, y, test_size = 0.3, random_state = 42)\n",
    "print(X_train.shape)\n",
    "print(X_test.shape)"
   ]
  },
  {
   "cell_type": "code",
   "execution_count": 6,
   "metadata": {},
   "outputs": [
    {
     "data": {
      "text/plain": [
       "array([0.30476809, 0.16820868, 0.05150449, 0.04209438, 0.0350429 ,\n",
       "       0.02627028, 0.0226602 , 0.02032903, 0.01607263, 0.01553961,\n",
       "       0.01414742, 0.01269597, 0.01074852, 0.00992601, 0.00939499])"
      ]
     },
     "execution_count": 6,
     "metadata": {},
     "output_type": "execute_result"
    }
   ],
   "source": [
    "# PCA with all default arguments\n",
    "pca = PCA()\n",
    "pca1 = pca.fit(X_train)\n",
    "pca1_train = pca1.transform(X_train)\n",
    "pca1_test = pca1.transform(X_test)\n",
    "variance = pca1.explained_variance_ratio_\n",
    "variance[:15]"
   ]
  },
  {
   "cell_type": "markdown",
   "metadata": {},
   "source": [
    "**To decide the number of PCA components for model development, propotion of PCA variance and cumsum PCA variance were plotted below:**"
   ]
  },
  {
   "cell_type": "code",
   "execution_count": 7,
   "metadata": {},
   "outputs": [
    {
     "data": {
      "image/png": "[encoded data removed]",
      "text/plain": [
       "<Figure size 432x288 with 1 Axes>"
      ]
     },
     "metadata": {
      "needs_background": "light"
     },
     "output_type": "display_data"
    }
   ],
   "source": [
    "# Plot the variance\n",
    "plt.plot(range(len(variance)), variance)\n",
    "plt.xlabel('Number of components')\n",
    "plt.ylabel('Propotion of variance explained')\n",
    "plt.show()"
   ]
  },
  {
   "cell_type": "code",
   "execution_count": 8,
   "metadata": {},
   "outputs": [
    {
     "data": {
      "image/png": "[encoded data removed]",
      "text/plain": [
       "<Figure size 432x288 with 1 Axes>"
      ]
     },
     "metadata": {
      "needs_background": "light"
     },
     "output_type": "display_data"
    }
   ],
   "source": [
    "# Plot the variance\n",
    "cum_sum_variance = np.cumsum(variance)\n",
    "plt.plot(range(len(variance)), cum_sum_variance)\n",
    "plt.xlabel('Number of components')\n",
    "plt.ylabel('Propotion of variance explained')\n",
    "plt.show()"
   ]
  },
  {
   "cell_type": "code",
   "execution_count": 9,
   "metadata": {},
   "outputs": [],
   "source": [
    "value_95 = sum(cum_sum_variance < .95) + 1"
   ]
  },
  {
   "cell_type": "code",
   "execution_count": 10,
   "metadata": {},
   "outputs": [
    {
     "data": {
      "text/plain": [
       "283"
      ]
     },
     "execution_count": 10,
     "metadata": {},
     "output_type": "execute_result"
    }
   ],
   "source": [
    "value_95"
   ]
  },
  {
   "cell_type": "code",
   "execution_count": 11,
   "metadata": {},
   "outputs": [],
   "source": [
    "pca_transformed_train = pca1_train[:, 0:283]\n",
    "pca_transformed_test = pca1_test[:, 0:283]"
   ]
  },
  {
   "cell_type": "markdown",
   "metadata": {},
   "source": [
    "### Simple Linear Regression"
   ]
  },
  {
   "cell_type": "code",
   "execution_count": 12,
   "metadata": {},
   "outputs": [],
   "source": [
    "lr = LinearRegression()\n",
    "lr.fit(pca_transformed_train, y_train)\n",
    "y_train_predict = lr.predict(pca_transformed_train)\n",
    "y_test_predict = lr.predict(pca_transformed_test)"
   ]
  },
  {
   "cell_type": "code",
   "execution_count": 13,
   "metadata": {},
   "outputs": [
    {
     "data": {
      "text/plain": [
       "(9.410929909586567, 8.891105234202907)"
      ]
     },
     "execution_count": 13,
     "metadata": {},
     "output_type": "execute_result"
    }
   ],
   "source": [
    "np.max(y_train_predict), np.max(y_test_predict) \n"
   ]
  },
  {
   "cell_type": "code",
   "execution_count": 14,
   "metadata": {},
   "outputs": [
    {
     "data": {
      "text/plain": [
       "(5.914574249280131,\n",
       " [-1.506991842943516,\n",
       "  -1.1914066568868202,\n",
       "  -1.0023615951153206,\n",
       "  -0.9042285402127718,\n",
       "  -0.7624483575096344,\n",
       "  -0.6552767858951075,\n",
       "  -0.6355618515189914,\n",
       "  -0.6161091786699772,\n",
       "  -0.5843402229012397,\n",
       "  -0.5592339912742011])"
      ]
     },
     "execution_count": 14,
     "metadata": {},
     "output_type": "execute_result"
    }
   ],
   "source": [
    "lr.intercept_, sorted(lr.coef_)[:10]"
   ]
  },
  {
   "cell_type": "code",
   "execution_count": 15,
   "metadata": {},
   "outputs": [
    {
     "data": {
      "text/plain": [
       "(0.3995590223370583, 0.4028107563413297)"
      ]
     },
     "execution_count": 15,
     "metadata": {},
     "output_type": "execute_result"
    }
   ],
   "source": [
    "r2_score(y_train, y_train_predict), r2_score(y_test, y_test_predict)\n"
   ]
  },
  {
   "cell_type": "code",
   "execution_count": null,
   "metadata": {},
   "outputs": [],
   "source": [
    "#With default PCA, taking 10 features out of it, give r2(train) = 0.282, r2(test) = 0.297\n",
    "#With default PCA, taking 300 features out of it, give r2(train) = 0.40069324204273205, r2(test) = 0.40332469399338367 \n",
    "#With default PCA, taking 500 features out of it, give r2(train) = 0.41206037587239575, r2(test) = 0.40868072906102304 \n",
    "#With default PCA, taking 700 features out of it, give r2(train) = 0.42215258292459845, r2(test) = 0.4159146133560834 \n",
    "#With default PCA, taking 750 features out of it, give r2(train) = 0.42423581513519304, r2(test) = 0.41732864600822994 \n",
    "#With default PCA, taking 800 features out of it, give r2(train) = 0.4263313726644138, r2(test) = 0.41905434499205096\n",
    "#With default PCA, taking 900 features out of it, give r2(train) = 0.42897799913686985, r2(test) = 0.42144591773069895\n",
    "#With default PCA, taking 1000 features out of it, give r2(train) = 0.43032786009086554, r2(test) = 0.42158088617178713\n",
    "#With default PCA, taking 1088 features out of it, give r2(train) = 0.4289203631442904, r2(test) = -7.683747921219262e+20"
   ]
  },
  {
   "cell_type": "code",
   "execution_count": 16,
   "metadata": {},
   "outputs": [
    {
     "data": {
      "image/png": "[encoded data removed]",
      "text/plain": [
       "<Figure size 432x288 with 1 Axes>"
      ]
     },
     "metadata": {
      "needs_background": "light"
     },
     "output_type": "display_data"
    }
   ],
   "source": [
    "#plot the y_test and y_predict\n",
    "plt.scatter(y_train,y_train_predict,  color = 'b')\n",
    "plt.show()"
   ]
  },
  {
   "cell_type": "code",
   "execution_count": 17,
   "metadata": {},
   "outputs": [
    {
     "data": {
      "image/png": "[encoded data removed]",
      "text/plain": [
       "<Figure size 432x288 with 1 Axes>"
      ]
     },
     "metadata": {
      "needs_background": "light"
     },
     "output_type": "display_data"
    }
   ],
   "source": [
    "#plot the y_test and y_predict\n",
    "plt.scatter(y_test,y_test_predict,  color = 'b')\n",
    "plt.show()"
   ]
  },
  {
   "cell_type": "code",
   "execution_count": 18,
   "metadata": {},
   "outputs": [
    {
     "name": "stdout",
     "output_type": "stream",
     "text": [
      "The mean squared error: 0.8749012246597593\n",
      "The root mean squared error: 0.9353615475631651\n",
      "The mean absolute error: 0.7151024696927785\n"
     ]
    }
   ],
   "source": [
    "from sklearn.metrics import mean_squared_error\n",
    "print(\"The mean squared error:\", mean_squared_error(y_test, y_test_predict))\n",
    "\n",
    "from sklearn.metrics import mean_squared_error\n",
    "print(\"The root mean squared error:\", mean_squared_error(y_test, y_test_predict, squared = False))\n",
    "\n",
    "from sklearn.metrics import mean_absolute_error\n",
    "print(\"The mean absolute error:\", mean_absolute_error(y_test, y_test_predict))"
   ]
  },
  {
   "cell_type": "markdown",
   "metadata": {},
   "source": [
    "### Lasso Linear Regression"
   ]
  },
  {
   "cell_type": "code",
   "execution_count": 19,
   "metadata": {},
   "outputs": [
    {
     "name": "stdout",
     "output_type": "stream",
     "text": [
      "0.01\n",
      "0.31286170993203344\n",
      "0.3257262774935512\n",
      "0.1\n",
      "0.20527182235787633\n",
      "0.214858489924854\n",
      "1\n",
      "0.0\n",
      "-0.00026864922856795204\n",
      "10\n",
      "0.0\n",
      "-0.00026864922856795204\n"
     ]
    }
   ],
   "source": [
    "alpha = [0.01, 0.1, 1, 10]\n",
    "for alp in alpha:\n",
    "    lasso1 = Lasso(alpha=alp)\n",
    "    lasso1.fit(pca_transformed_train, y_train)\n",
    "    y_train_predict1 = lasso1.predict(pca_transformed_train)\n",
    "    y_test_predict1 = lasso1.predict(pca_transformed_test)\n",
    "    print(alp)\n",
    "    print(r2_score(y_train, y_train_predict1))\n",
    "    print(r2_score(y_test, y_test_predict1))"
   ]
  },
  {
   "cell_type": "code",
   "execution_count": 20,
   "metadata": {},
   "outputs": [
    {
     "name": "stdout",
     "output_type": "stream",
     "text": [
      "0.01\n",
      "0.3995590215940683\n",
      "0.4028113630844593\n",
      "8.890982119642919\n",
      "0.1\n",
      "0.39955894825254756\n",
      "0.40281675094960545\n",
      "8.889875548230886\n",
      "1\n",
      "0.3995518228800504\n",
      "0.4028636340125846\n",
      "8.87895221186604\n",
      "10\n",
      "0.39900416280239814\n",
      "0.4028022383427061\n",
      "8.856102320289844\n",
      "20\n",
      "0.3978242906780377\n",
      "0.4020711460270372\n",
      "8.855297966922777\n",
      "30\n",
      "0.3964060634623989\n",
      "0.40103178453029487\n",
      "8.853352018388074\n",
      "50\n",
      "0.39343368377801424\n",
      "0.39867394849548365\n",
      "8.847480213164035\n"
     ]
    }
   ],
   "source": [
    "alpha2 = [0.01, 0.1, 1, 10, 20, 30, 50]\n",
    "for alp2 in alpha2:\n",
    "    Rge = Ridge(alpha=alp2)\n",
    "    Rge.fit(pca_transformed_train, y_train)\n",
    "    y_train_predict2 = Rge.predict(pca_transformed_train)\n",
    "    y_test_predict2 = Rge.predict(pca_transformed_test)\n",
    "    print(alp2)\n",
    "    print(r2_score(y_train, y_train_predict2))\n",
    "    print(r2_score(y_test, y_test_predict2))\n",
    "    print(np.max(y_test_predict2))"
   ]
  },
  {
   "cell_type": "code",
   "execution_count": 21,
   "metadata": {},
   "outputs": [
    {
     "name": "stdout",
     "output_type": "stream",
     "text": [
      "0.392917712221834\n",
      "{'alpha': 1}\n"
     ]
    }
   ],
   "source": [
    "# Applying GridSearchCV\n",
    "Rge3 = Ridge()\n",
    "alpha = [0.01, 0.1, 1, 0, 20, 30]\n",
    "parameters = {'alpha': alpha}\n",
    "rge3_grid = GridSearchCV(Rge3, param_grid = parameters, scoring = 'r2', cv = 5)\n",
    "rge3_grid.fit(pca_transformed_train, y_train)\n",
    "\n",
    "print(rge3_grid.best_score_)\n",
    "print(rge3_grid.best_params_)"
   ]
  },
  {
   "cell_type": "code",
   "execution_count": 22,
   "metadata": {},
   "outputs": [
    {
     "data": {
      "text/plain": [
       "RandomizedSearchCV(cv=5, error_score=nan,\n",
       "                   estimator=Ridge(alpha=1.0, copy_X=True, fit_intercept=True,\n",
       "                                   max_iter=None, normalize=False,\n",
       "                                   random_state=None, solver='auto',\n",
       "                                   tol=0.001),\n",
       "                   iid='deprecated', n_iter=10, n_jobs=None,\n",
       "                   param_distributions={'alpha': array([1.00000000e-02, 2.15214286e+00, 4.29428571e+00, 6.43642857e+00,\n",
       "       8.57857143e+00, 1.07207143e+01, 1.28628571e+01, 1.50050000e+01,\n",
       "       1.71471429e+01, 1.92892857e+01, 2.14314286e+01, 2.35735714e+01,\n",
       "       2.57157143e+01, 2.78578571e+01, 3.00000000e+01])},\n",
       "                   pre_dispatch='2*n_jobs', random_state=None, refit=True,\n",
       "                   return_train_score=False, scoring=None, verbose=0)"
      ]
     },
     "execution_count": 22,
     "metadata": {},
     "output_type": "execute_result"
    }
   ],
   "source": [
    "# Applying RandomizedSearchCV\n",
    "Rge4 = Ridge()\n",
    "alpha4 = {'alpha': np.linspace(0.01, 30, 15)} \n",
    "Rge4_random = RandomizedSearchCV(Rge4, param_distributions = alpha4, cv = 5)\n",
    "Rge4_random.fit(pca_transformed_train, y_train)"
   ]
  },
  {
   "cell_type": "code",
   "execution_count": 23,
   "metadata": {},
   "outputs": [
    {
     "name": "stdout",
     "output_type": "stream",
     "text": [
      "0.3930945297786772\n",
      "{'alpha': 4.294285714285714}\n"
     ]
    }
   ],
   "source": [
    "print(Rge4_random.best_score_)\n",
    "print(Rge4_random.best_params_)"
   ]
  },
  {
   "cell_type": "markdown",
   "metadata": {},
   "source": [
    " **Note: Among the three regression models (Simple linear Regression, Lasso, Ridge), applying PCA, with PCA features= 1000, the maximum value obtained is 0.42 in both Simple Linear Regression and Ridge regression.**"
   ]
  },
  {
   "cell_type": "markdown",
   "metadata": {},
   "source": [
    "# Model optimization"
   ]
  },
  {
   "cell_type": "markdown",
   "metadata": {},
   "source": [
    "# Random Forest Model"
   ]
  },
  {
   "cell_type": "code",
   "execution_count": 24,
   "metadata": {},
   "outputs": [
    {
     "data": {
      "text/plain": [
       "RandomForestRegressor(bootstrap=True, ccp_alpha=0.0, criterion='mse',\n",
       "                      max_depth=None, max_features='auto', max_leaf_nodes=None,\n",
       "                      max_samples=None, min_impurity_decrease=0.0,\n",
       "                      min_impurity_split=None, min_samples_leaf=1,\n",
       "                      min_samples_split=2, min_weight_fraction_leaf=0.0,\n",
       "                      n_estimators=10, n_jobs=None, oob_score=False,\n",
       "                      random_state=42, verbose=0, warm_start=False)"
      ]
     },
     "execution_count": 24,
     "metadata": {},
     "output_type": "execute_result"
    }
   ],
   "source": [
    "from sklearn.ensemble import RandomForestRegressor\n",
    "regr = RandomForestRegressor(n_estimators = 10, random_state = 42)\n",
    "regr.fit(pca_transformed_train, y_train)"
   ]
  },
  {
   "cell_type": "code",
   "execution_count": 25,
   "metadata": {},
   "outputs": [],
   "source": [
    "y_predict3 = regr.predict(pca_transformed_test)"
   ]
  },
  {
   "cell_type": "code",
   "execution_count": 26,
   "metadata": {},
   "outputs": [
    {
     "data": {
      "text/plain": [
       "0.3869940020832441"
      ]
     },
     "execution_count": 26,
     "metadata": {},
     "output_type": "execute_result"
    }
   ],
   "source": [
    "r2_score(y_test, y_predict3)"
   ]
  },
  {
   "cell_type": "code",
   "execution_count": 27,
   "metadata": {},
   "outputs": [
    {
     "data": {
      "image/png": "[encoded data removed]",
      "text/plain": [
       "<Figure size 432x288 with 1 Axes>"
      ]
     },
     "metadata": {
      "needs_background": "light"
     },
     "output_type": "display_data"
    }
   ],
   "source": [
    "plt.scatter(y_test, y_predict3, color = 'b')\n",
    "plt.xlim([0, 10])\n",
    "plt.ylim([0, 10])\n",
    "plt.show()"
   ]
  },
  {
   "cell_type": "code",
   "execution_count": 28,
   "metadata": {},
   "outputs": [
    {
     "data": {
      "text/plain": [
       "0.41544946137788996"
      ]
     },
     "execution_count": 28,
     "metadata": {},
     "output_type": "execute_result"
    }
   ],
   "source": [
    "regr2 = RandomForestRegressor(n_estimators=20, random_state = 42)\n",
    "regr2.fit(pca_transformed_train, y_train)\n",
    "y_predict4 = regr2.predict(pca_transformed_test)\n",
    "r2_score(y_test, y_predict4)"
   ]
  },
  {
   "cell_type": "code",
   "execution_count": 29,
   "metadata": {},
   "outputs": [
    {
     "name": "stdout",
     "output_type": "stream",
     "text": [
      "2021-09-12 14:01:35.103560 2021-09-12 14:20:06.596631\n"
     ]
    }
   ],
   "source": [
    "import datetime\n",
    "start = datetime.datetime.now()\n",
    "regr5 = RandomForestRegressor(n_estimators=50, random_state = 42)\n",
    "regr5.fit(pca_transformed_train, y_train)\n",
    "y_predict5 = regr5.predict(pca_transformed_test)\n",
    "r2_score(y_test, y_predict5)\n",
    "end = datetime.datetime.now()\n",
    "print(start, end)"
   ]
  },
  {
   "cell_type": "code",
   "execution_count": 30,
   "metadata": {},
   "outputs": [
    {
     "data": {
      "text/plain": [
       "0.4336829141720374"
      ]
     },
     "execution_count": 30,
     "metadata": {},
     "output_type": "execute_result"
    }
   ],
   "source": [
    "r2_score(y_test, y_predict5)"
   ]
  },
  {
   "cell_type": "code",
   "execution_count": 31,
   "metadata": {},
   "outputs": [
    {
     "name": "stdout",
     "output_type": "stream",
     "text": [
      "0.4400680975327974\n",
      "2021-09-12 14:31:32.373955 2021-09-12 15:15:37.233901\n"
     ]
    }
   ],
   "source": [
    "import datetime\n",
    "start = datetime.datetime.now()\n",
    "regr6 = RandomForestRegressor(n_estimators=100, random_state = 42)\n",
    "regr6.fit(pca_transformed_train, y_train)\n",
    "y_predict6 = regr6.predict(pca_transformed_test)\n",
    "print(r2_score(y_test, y_predict6))\n",
    "end = datetime.datetime.now()\n",
    "print(start, end)"
   ]
  },
  {
   "cell_type": "markdown",
   "metadata": {},
   "source": [
    "**Note: From above, it can be concluded that the Random Forest Regressor model performance is better than Linear Regresson model, though one can not rely on the model performance as the r2 score very low. We need to improve this.** "
   ]
  },
  {
   "cell_type": "markdown",
   "metadata": {},
   "source": [
    "# Gradient boosting "
   ]
  },
  {
   "cell_type": "code",
   "execution_count": 32,
   "metadata": {},
   "outputs": [],
   "source": [
    "def opt_gradientboosting(learning_rate, n_estimator, max_features, max_depth):\n",
    "    for rate in learning_rate:\n",
    "        gb = GradientBoostingRegressor(learning_rate = rate, n_estimators = n_estimator,  max_features = max_features, max_depth = max_depth)\n",
    "        gb.fit(pca_transformed_train, y_train)\n",
    "        y_gb_predict = gb.predict(pca_transformed_test)\n",
    "        score_1 = r2_score(y_test,y_gb_predict)\n",
    "        print(rate)\n",
    "        print(score_1)\n",
    "    return print('End')\n"
   ]
  },
  {
   "cell_type": "code",
   "execution_count": 33,
   "metadata": {},
   "outputs": [
    {
     "name": "stdout",
     "output_type": "stream",
     "text": [
      "0.1\n",
      "0.17007034476247018\n",
      "1\n",
      "0.2715551621235459\n",
      "1.5\n",
      "0.17958358397457697\n",
      "2\n",
      "-0.029063274049654586\n",
      "End\n"
     ]
    }
   ],
   "source": [
    "learning_rate = [0.1, 1, 1.5, 2]\n",
    "opt_gradientboosting(learning_rate, 10, 3, 3)"
   ]
  },
  {
   "cell_type": "code",
   "execution_count": 35,
   "metadata": {},
   "outputs": [],
   "source": [
    "# As the run time was very long with GridSearchCV, hence run was abrupted and hyperparameter search was carried in steps tuning one parameter at a time.\n",
    "\n",
    "\n",
    "#gbr2 = GradientBoostingRegressor()\n",
    "#learning_rate = [0.1, 1]\n",
    "#n_estimators = [10, 50, 100, 200]\n",
    "#max_features = [3, 5]\n",
    "#max_depth = [3, 5]\n",
    "#parameters = {'learning_rate': learning_rate, 'n_estimators': n_estimators, 'max_features': max_features,'max_depth': max_depth}\n",
    "#grid_search2 = GridSearchCV(estimator = gbr2, param_grid = parameters, scoring = 'r2', cv = 5 )\n",
    "#grid_search2.fit(pca_transformed_train, y_train)\n",
    "#print(grid_search2.best_score_)\n",
    "#print(grid_search2.best_params_)"
   ]
  },
  {
   "cell_type": "code",
   "execution_count": 36,
   "metadata": {
    "scrolled": true
   },
   "outputs": [
    {
     "name": "stdout",
     "output_type": "stream",
     "text": [
      "0.47868483587718125\n",
      "2021-09-12 15:58:19.017190 2021-09-12 16:24:31.654532\n"
     ]
    }
   ],
   "source": [
    "start = datetime.datetime.now()\n",
    "gbr4 = GradientBoostingRegressor(learning_rate = 0.1, n_estimators = 100, max_features= 283 , max_depth = 5)\n",
    "gbr4.fit(pca_transformed_train, y_train)\n",
    "y_train_predict4 = gbr4.predict(pca_transformed_train)\n",
    "y_test_predict4 = gbr4.predict(pca_transformed_test)\n",
    "score_1 = r2_score(y_test,y_test_predict4)\n",
    "end = datetime.datetime.now()\n",
    "print(score_1)\n",
    "print(start, end)"
   ]
  },
  {
   "cell_type": "code",
   "execution_count": 37,
   "metadata": {},
   "outputs": [
    {
     "name": "stdout",
     "output_type": "stream",
     "text": [
      "0.4847577214278799\n",
      "2021-09-12 16:39:02.803331 2021-09-12 17:05:29.561079\n"
     ]
    }
   ],
   "source": [
    "start = datetime.datetime.now()\n",
    "gbr4 = GradientBoostingRegressor(learning_rate = 0.1, n_estimators = 100, max_features= 283 , max_depth = 7)\n",
    "gbr4.fit(pca_transformed_train, y_train)\n",
    "y_train_predict4 = gbr4.predict(pca_transformed_train)\n",
    "y_test_predict4 = gbr4.predict(pca_transformed_test)\n",
    "score_1 = r2_score(y_test,y_test_predict4)\n",
    "end = datetime.datetime.now()\n",
    "print(score_1)\n",
    "print(start, end)"
   ]
  },
  {
   "cell_type": "code",
   "execution_count": 39,
   "metadata": {},
   "outputs": [
    {
     "name": "stdout",
     "output_type": "stream",
     "text": [
      "0.47779204783692053\n",
      "2021-09-13 00:26:00.661775 2021-09-13 02:03:34.331854\n"
     ]
    }
   ],
   "source": [
    "start = datetime.datetime.now()\n",
    "gbr4 = GradientBoostingRegressor(learning_rate = 0.1, n_estimators = 500, max_features= 283 , max_depth = 7)\n",
    "gbr4.fit(pca_transformed_train, y_train)\n",
    "y_train_predict4 = gbr4.predict(pca_transformed_train)\n",
    "y_test_predict4 = gbr4.predict(pca_transformed_test)\n",
    "score_1 = r2_score(y_test,y_test_predict4)\n",
    "end = datetime.datetime.now()\n",
    "print(score_1)\n",
    "print(start, end)"
   ]
  },
  {
   "cell_type": "markdown",
   "metadata": {},
   "source": [
    "**Model performance is decreasing and run time is increasing with increase in n_estimators, hence no further optimization was carried out and stopped here.** "
   ]
  },
  {
   "cell_type": "markdown",
   "metadata": {},
   "source": [
    "# Summary:"
   ]
  },
  {
   "cell_type": "markdown",
   "metadata": {},
   "source": [
    "The default PCA was applied and 95% features were taken for model building. Linear Regression model performance improved resonably as compared to without PCA.  \n",
    "\n",
    "However the other models Random Forest Regressor and Gradient Boosting Regressor performance didn't improve and run-time increased significantly. The r2_score: 0.477 was less as comaped to non-PCA case where r2_score: 0.50."
   ]
  }
 ],
 "metadata": {
  "kernelspec": {
   "display_name": "Python 3",
   "language": "python",
   "name": "python3"
  },
  "language_info": {
   "codemirror_mode": {
    "name": "ipython",
    "version": 3
   },
   "file_extension": ".py",
   "mimetype": "text/x-python",
   "name": "python",
   "nbconvert_exporter": "python",
   "pygments_lexer": "ipython3",
   "version": "3.7.1"
  }
 },
 "nbformat": 4,
 "nbformat_minor": 2
}
