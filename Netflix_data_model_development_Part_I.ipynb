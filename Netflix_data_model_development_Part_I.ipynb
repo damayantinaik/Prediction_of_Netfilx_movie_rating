{
 "cells": [
  {
   "cell_type": "markdown",
   "metadata": {},
   "source": [
    "# Model developement to predict the rating of a movie: Part-I\n",
    "***\n",
    "After pre-processing and feature engineering, models were developed. As it is to predict the rating, it is a regression problem with a limitation that the target variable 0-10 instead of -inf to +inf. Different aspects of model development and optimization were adopted to obtain a most reliable model. The model development was separated into different parts taking into account the run-time. <br><br>In this Part models were developed as follows:\n",
    "\n",
    "1. **Without PCA**\n",
    "\n",
    "2. **ML models:**\n",
    "    * **Simple Linear Regression, Lasso Regression, Ridge    Regression**\n",
    "    * **Random Forest Regressor**\n",
    "    * **Gradient Boosting Regressor**"
   ]
  },
  {
   "cell_type": "markdown",
   "metadata": {},
   "source": [
    "## Import Libraries"
   ]
  },
  {
   "cell_type": "code",
   "execution_count": 1,
   "metadata": {},
   "outputs": [],
   "source": [
    "import numpy as np\n",
    "import pandas as pd\n",
    "import matplotlib.pyplot as plt\n",
    "from sklearn.linear_model import LinearRegression, Lasso, Ridge\n",
    "from sklearn.model_selection import train_test_split\n",
    "from sklearn.model_selection import GridSearchCV, RandomizedSearchCV\n",
    "from sklearn.ensemble import GradientBoostingRegressor\n",
    "from sklearn.metrics import r2_score\n",
    "from sklearn.inspection import permutation_importance\n",
    "from sklearn.model_selection import KFold\n",
    "from sklearn.model_selection import cross_val_score\n",
    "from sklearn import metrics\n",
    "from sklearn.pipeline import make_pipeline\n",
    "from sklearn.feature_selection import SelectKBest, f_regression"
   ]
  },
  {
   "cell_type": "code",
   "execution_count": 2,
   "metadata": {},
   "outputs": [],
   "source": [
    "# Import the datasets\n",
    "IMDB_only = pd.read_csv('pre-processed_dataset/IMDB_only.csv', index_col = 0)\n",
    "IMDB_Kaggle_common = pd.read_csv('pre-processed_dataset/IMDB_Kaggle_common.csv', index_col = 0)"
   ]
  },
  {
   "cell_type": "code",
   "execution_count": 3,
   "metadata": {},
   "outputs": [
    {
     "data": {
      "text/plain": [
       "(69458, 1089)"
      ]
     },
     "execution_count": 3,
     "metadata": {},
     "output_type": "execute_result"
    }
   ],
   "source": [
    "IMDB_only.shape"
   ]
  },
  {
   "cell_type": "code",
   "execution_count": 4,
   "metadata": {},
   "outputs": [
    {
     "data": {
      "text/plain": [
       "(2585, 1089)"
      ]
     },
     "execution_count": 4,
     "metadata": {},
     "output_type": "execute_result"
    }
   ],
   "source": [
    "IMDB_Kaggle_common.shape"
   ]
  },
  {
   "cell_type": "code",
   "execution_count": 5,
   "metadata": {},
   "outputs": [
    {
     "data": {
      "text/plain": [
       "Index(['duration_min', 'avg_vote', 'votes', 'reviews_from_users', 'Comedy',\n",
       "       'Family', 'Sci-Fi', 'Adventure', 'Crime', 'Reality-TV'],\n",
       "      dtype='object')"
      ]
     },
     "execution_count": 5,
     "metadata": {},
     "output_type": "execute_result"
    }
   ],
   "source": [
    "IMDB_only.columns[:10]"
   ]
  },
  {
   "cell_type": "code",
   "execution_count": 6,
   "metadata": {},
   "outputs": [],
   "source": [
    "# Split the IMDB_only dataset into X and y for model development \n",
    "y = IMDB_only['avg_vote']\n",
    "X = IMDB_only.drop(columns = 'avg_vote')"
   ]
  },
  {
   "cell_type": "code",
   "execution_count": 7,
   "metadata": {},
   "outputs": [
    {
     "name": "stdout",
     "output_type": "stream",
     "text": [
      "(69458, 1088)\n",
      "(69458,)\n"
     ]
    }
   ],
   "source": [
    "print(X.shape)\n",
    "print(y.shape)"
   ]
  },
  {
   "cell_type": "markdown",
   "metadata": {},
   "source": [
    "## train test split"
   ]
  },
  {
   "cell_type": "code",
   "execution_count": 8,
   "metadata": {},
   "outputs": [],
   "source": [
    "X_train, X_test, y_train, y_test = train_test_split(X, y, test_size = 0.3, random_state = 42)"
   ]
  },
  {
   "cell_type": "code",
   "execution_count": 9,
   "metadata": {},
   "outputs": [
    {
     "name": "stdout",
     "output_type": "stream",
     "text": [
      "(48620, 1088)\n",
      "(20838, 1088)\n"
     ]
    }
   ],
   "source": [
    "print(X_train.shape)\n",
    "print(X_test.shape)"
   ]
  },
  {
   "cell_type": "markdown",
   "metadata": {},
   "source": [
    "### Ordinary Linear Regression"
   ]
  },
  {
   "cell_type": "code",
   "execution_count": 10,
   "metadata": {},
   "outputs": [],
   "source": [
    "lr = LinearRegression()\n",
    "lr.fit(X_train, y_train)\n",
    "y_train_predict = lr.predict(X_train)\n",
    "y_test_predict = lr.predict(X_test)"
   ]
  },
  {
   "cell_type": "code",
   "execution_count": 11,
   "metadata": {},
   "outputs": [
    {
     "data": {
      "text/plain": [
       "5.930399089262735"
      ]
     },
     "execution_count": 11,
     "metadata": {},
     "output_type": "execute_result"
    }
   ],
   "source": [
    "lr.intercept_"
   ]
  },
  {
   "cell_type": "code",
   "execution_count": 12,
   "metadata": {},
   "outputs": [
    {
     "data": {
      "text/plain": [
       "[-1060426574239.8799,\n",
       " -558557858610.9672,\n",
       " -532960910080.86115,\n",
       " -416180880899.1734,\n",
       " -407295445212.3002,\n",
       " -360066668900.0519,\n",
       " -338545712619.7192,\n",
       " -222797988918.94394,\n",
       " -216654642395.95847,\n",
       " -197912596632.8925]"
      ]
     },
     "execution_count": 12,
     "metadata": {},
     "output_type": "execute_result"
    }
   ],
   "source": [
    "sorted(lr.coef_)[:10]"
   ]
  },
  {
   "cell_type": "code",
   "execution_count": 13,
   "metadata": {},
   "outputs": [
    {
     "data": {
      "text/plain": [
       "(0.43115359380742047, -9.53224537183682e+19)"
      ]
     },
     "execution_count": 13,
     "metadata": {},
     "output_type": "execute_result"
    }
   ],
   "source": [
    "r2_score(y_train, y_train_predict), r2_score(y_test, y_test_predict)"
   ]
  },
  {
   "cell_type": "code",
   "execution_count": 14,
   "metadata": {},
   "outputs": [
    {
     "name": "stdout",
     "output_type": "stream",
     "text": [
      "The mean squared error: 1.3965042468755584e+20\n",
      "The root mean squared error: 11817378080.080025\n",
      "The mean absolute error: 256123314.63291165\n"
     ]
    }
   ],
   "source": [
    "from sklearn.metrics import mean_squared_error\n",
    "print(\"The mean squared error:\", mean_squared_error(y_test, y_test_predict))\n",
    "\n",
    "from sklearn.metrics import mean_squared_error\n",
    "print(\"The root mean squared error:\", mean_squared_error(y_test, y_test_predict, squared = False))\n",
    "\n",
    "from sklearn.metrics import mean_absolute_error\n",
    "print(\"The mean absolute error:\", mean_absolute_error(y_test, y_test_predict))"
   ]
  },
  {
   "cell_type": "markdown",
   "metadata": {},
   "source": [
    "**<font color = 'teal'>The r2_score for the \"test set\" is very high. So let us do some investigation to locate any abnormality.**"
   ]
  },
  {
   "cell_type": "code",
   "execution_count": 15,
   "metadata": {},
   "outputs": [
    {
     "data": {
      "text/plain": [
       "(9.3, 660691682279.8333)"
      ]
     },
     "execution_count": 15,
     "metadata": {},
     "output_type": "execute_result"
    }
   ],
   "source": [
    "np.max(y_test), np.max(y_test_predict)"
   ]
  },
  {
   "cell_type": "markdown",
   "metadata": {},
   "source": [
    "**<font color='teal'> The 'predicted y' value is extremely high, hence this model is seems not to be a good model.**\n",
    "**<font color = 'teal'> Hence we should try different models.**"
   ]
  },
  {
   "cell_type": "markdown",
   "metadata": {},
   "source": [
    "### Lasso Linear Regression"
   ]
  },
  {
   "cell_type": "code",
   "execution_count": 16,
   "metadata": {},
   "outputs": [
    {
     "name": "stdout",
     "output_type": "stream",
     "text": [
      "0.1\n",
      "0.1709802805998618\n",
      "0.1811941573674245\n",
      "7.11848962207759\n",
      "1\n",
      "0.0\n",
      "-0.00026864922856795204\n",
      "5.914574249280131\n",
      "10\n",
      "0.0\n",
      "-0.00026864922856795204\n",
      "5.914574249280131\n",
      "100\n",
      "0.0\n",
      "-0.00026864922856795204\n",
      "5.914574249280131\n",
      "1000\n",
      "0.0\n",
      "-0.00026864922856795204\n",
      "5.914574249280131\n"
     ]
    }
   ],
   "source": [
    "alpha = [0.1, 1, 10, 100, 1000]\n",
    "for alp in alpha:\n",
    "    lasso1 = Lasso(alpha=alp)\n",
    "    lasso1.fit(X_train, y_train)\n",
    "    y_train_predict1 = lasso1.predict(X_train)\n",
    "    y_test_predict1 = lasso1.predict(X_test)\n",
    "    print(alp)\n",
    "    print(r2_score(y_train, y_train_predict1))\n",
    "    print(r2_score(y_test, y_test_predict1))\n",
    "    print( np.max(y_test_predict1))"
   ]
  },
  {
   "cell_type": "markdown",
   "metadata": {},
   "source": [
    "**<font color = 'teal'>Note: Maximum r2_score (for test):0.181, with alpha:0.1**"
   ]
  },
  {
   "cell_type": "markdown",
   "metadata": {},
   "source": [
    "### Ridge Regression"
   ]
  },
  {
   "cell_type": "code",
   "execution_count": 17,
   "metadata": {},
   "outputs": [
    {
     "name": "stdout",
     "output_type": "stream",
     "text": [
      "0.01\n",
      "0.431153883369334\n",
      "0.4212936064712376\n",
      "9.242014734399113\n",
      "0.1\n",
      "0.4311448875698495\n",
      "0.42154448742246176\n",
      "9.239206302388212\n",
      "1\n",
      "0.4307998883455012\n",
      "0.42265587746466904\n",
      "9.20735588365735\n",
      "10\n",
      "0.42603681861733556\n",
      "0.42224526230026893\n",
      "8.964918098354392\n",
      "100\n",
      "0.397013389527722\n",
      "0.401169871320032\n",
      "8.822360110328923\n",
      "1000\n",
      "0.3505292755430103\n",
      "0.36110482692167534\n",
      "8.513199678593685\n"
     ]
    }
   ],
   "source": [
    "alpha2 = [0.01, 0.1, 1, 10, 100, 1000]\n",
    "for alp2 in alpha2:\n",
    "    Rge = Ridge(alpha=alp2)\n",
    "    Rge.fit(X_train, y_train)\n",
    "    y_train_predict2 = Rge.predict(X_train)\n",
    "    y_test_predict2 = Rge.predict(X_test)\n",
    "    print(alp2)\n",
    "    print(r2_score(y_train, y_train_predict2))\n",
    "    print(r2_score(y_test, y_test_predict2))\n",
    "    print(np.max(y_test_predict2))"
   ]
  },
  {
   "cell_type": "markdown",
   "metadata": {},
   "source": [
    "**<font color = 'teal'> Note: Maximum r2_score(for train): 0.430, r2_score(for test):0.442, with alpha:0.1, 10**"
   ]
  },
  {
   "cell_type": "markdown",
   "metadata": {},
   "source": [
    "### GridSearchCV"
   ]
  },
  {
   "cell_type": "code",
   "execution_count": 31,
   "metadata": {},
   "outputs": [
    {
     "data": {
      "text/plain": [
       "GridSearchCV(cv=5, error_score=nan,\n",
       "             estimator=Ridge(alpha=1.0, copy_X=True, fit_intercept=True,\n",
       "                             max_iter=None, normalize=False, random_state=None,\n",
       "                             solver='auto', tol=0.001),\n",
       "             iid='deprecated', n_jobs=None,\n",
       "             param_grid={'alpha': [0.01, 0.1, 1, 10]}, pre_dispatch='2*n_jobs',\n",
       "             refit=True, return_train_score=False, scoring='r2', verbose=0)"
      ]
     },
     "execution_count": 31,
     "metadata": {},
     "output_type": "execute_result"
    }
   ],
   "source": [
    "Rge3 = Ridge()\n",
    "alpha = [0.01, 0.1, 1, 10]\n",
    "parameters = {'alpha': alpha}\n",
    "rge3_grid = GridSearchCV(Rge3, param_grid = parameters, scoring = 'r2', cv = 5)\n",
    "rge3_grid.fit(X_train, y_train)"
   ]
  },
  {
   "cell_type": "code",
   "execution_count": 32,
   "metadata": {},
   "outputs": [
    {
     "name": "stdout",
     "output_type": "stream",
     "text": [
      "0.4111781305702505\n",
      "{'alpha': 10}\n"
     ]
    }
   ],
   "source": [
    "print(rge3_grid.best_score_)\n",
    "print(rge3_grid.best_params_)"
   ]
  },
  {
   "cell_type": "code",
   "execution_count": 33,
   "metadata": {},
   "outputs": [
    {
     "data": {
      "text/plain": [
       "RandomizedSearchCV(cv=5, error_score=nan,\n",
       "                   estimator=Ridge(alpha=1.0, copy_X=True, fit_intercept=True,\n",
       "                                   max_iter=None, normalize=False,\n",
       "                                   random_state=None, solver='auto',\n",
       "                                   tol=0.001),\n",
       "                   iid='deprecated', n_iter=10, n_jobs=None,\n",
       "                   param_distributions={'alpha': array([1.00000000e-02, 5.27263158e+00, 1.05352632e+01, 1.57978947e+01,\n",
       "       2.10605263e+01, 2.63231579e+01, 3.15857895e+01, 3.68484211e+01,\n",
       "       4.21110526e+01, 4.73736842e+01, 5.26363158e+01, 5.78989474e+01,\n",
       "       6.31615789e+01, 6.84242105e+01, 7.36868421e+01, 7.89494737e+01,\n",
       "       8.42121053e+01, 8.94747368e+01, 9.47373684e+01, 1.00000000e+02])},\n",
       "                   pre_dispatch='2*n_jobs', random_state=None, refit=True,\n",
       "                   return_train_score=False, scoring='r2', verbose=0)"
      ]
     },
     "execution_count": 33,
     "metadata": {},
     "output_type": "execute_result"
    }
   ],
   "source": [
    "Rge4 = Ridge()\n",
    "alpha4 = {'alpha': np.linspace(0.01, 100, 20)} \n",
    "Rge4_random = RandomizedSearchCV(Rge4, param_distributions = alpha4, scoring = 'r2', cv = 5)\n",
    "Rge4_random.fit(X_train, y_train)"
   ]
  },
  {
   "cell_type": "code",
   "execution_count": 34,
   "metadata": {},
   "outputs": [
    {
     "name": "stdout",
     "output_type": "stream",
     "text": [
      "0.4119995376297078\n",
      "{'alpha': 5.272631578947368}\n"
     ]
    }
   ],
   "source": [
    "print(Rge4_random.best_score_)\n",
    "print(Rge4_random.best_params_)"
   ]
  },
  {
   "cell_type": "markdown",
   "metadata": {},
   "source": [
    " #### Among all the Linear Regression models the Ridge Regression found to be most reliable with r2_score of 0.43. This score is very low. So we need to apply other regression models like Random Forest and Gradient Boosting to see other models performance. "
   ]
  },
  {
   "cell_type": "markdown",
   "metadata": {},
   "source": [
    "# Random Forest Model"
   ]
  },
  {
   "cell_type": "code",
   "execution_count": 35,
   "metadata": {},
   "outputs": [
    {
     "data": {
      "text/plain": [
       "RandomForestRegressor(bootstrap=True, ccp_alpha=0.0, criterion='mse',\n",
       "                      max_depth=None, max_features='auto', max_leaf_nodes=None,\n",
       "                      max_samples=None, min_impurity_decrease=0.0,\n",
       "                      min_impurity_split=None, min_samples_leaf=1,\n",
       "                      min_samples_split=2, min_weight_fraction_leaf=0.0,\n",
       "                      n_estimators=100, n_jobs=None, oob_score=False,\n",
       "                      random_state=42, verbose=0, warm_start=False)"
      ]
     },
     "execution_count": 35,
     "metadata": {},
     "output_type": "execute_result"
    }
   ],
   "source": [
    "from sklearn.ensemble import RandomForestRegressor\n",
    "regr = RandomForestRegressor(random_state = 42)\n",
    "regr.fit(X_train, y_train)"
   ]
  },
  {
   "cell_type": "code",
   "execution_count": 36,
   "metadata": {},
   "outputs": [],
   "source": [
    "y_predict3 = regr.predict(X_test)"
   ]
  },
  {
   "cell_type": "code",
   "execution_count": 37,
   "metadata": {},
   "outputs": [
    {
     "data": {
      "text/plain": [
       "0.44038770614893497"
      ]
     },
     "execution_count": 37,
     "metadata": {},
     "output_type": "execute_result"
    }
   ],
   "source": [
    "r2_score(y_test, y_predict3)"
   ]
  },
  {
   "cell_type": "code",
   "execution_count": 38,
   "metadata": {},
   "outputs": [
    {
     "data": {
      "image/png": "[encoded data removed]",
      "text/plain": [
       "<Figure size 432x288 with 1 Axes>"
      ]
     },
     "metadata": {
      "needs_background": "light"
     },
     "output_type": "display_data"
    }
   ],
   "source": [
    "plt.scatter(y_test, y_predict3, color = 'b')\n",
    "plt.xlim([0, 10])\n",
    "plt.ylim([0, 10])\n",
    "plt.show()"
   ]
  },
  {
   "cell_type": "code",
   "execution_count": 41,
   "metadata": {},
   "outputs": [
    {
     "name": "stdout",
     "output_type": "stream",
     "text": [
      "0.44038770614893497\n",
      "2021-09-06 13:34:56.160567 2021-09-06 13:45:53.734697\n"
     ]
    }
   ],
   "source": [
    "import datetime\n",
    "start = datetime.datetime.now()\n",
    "regr2 = RandomForestRegressor(n_estimators=150, random_state = 42)\n",
    "regr.fit(X_train, y_train)\n",
    "y_predict4 = regr.predict(X_test)\n",
    "print(r2_score(y_test, y_predict4))\n",
    "end = datetime.datetime.now()\n",
    "print(start, end)"
   ]
  },
  {
   "cell_type": "markdown",
   "metadata": {},
   "source": [
    "**<font color = 'teal'> Note: From above, it can be concluded that the Random Forest Regressor model performance is better than Linear Regresson model.**"
   ]
  },
  {
   "cell_type": "markdown",
   "metadata": {},
   "source": [
    "# Gradient boosting "
   ]
  },
  {
   "cell_type": "code",
   "execution_count": 42,
   "metadata": {},
   "outputs": [],
   "source": [
    "def opt_gradientboosting(learning_rate, n_estimator, max_features, max_depth):\n",
    "    for rate in learning_rate:\n",
    "        gb = GradientBoostingRegressor(learning_rate = rate, n_estimators = n_estimator,  max_features = max_features, max_depth = max_depth)\n",
    "        gb.fit(X_train, y_train)\n",
    "        y_gb_predict = gb.predict(X_test)\n",
    "        score_1 = r2_score(y_test, y_gb_predict)\n",
    "        print(rate)\n",
    "        print(score_1)\n",
    "    return print('End')"
   ]
  },
  {
   "cell_type": "code",
   "execution_count": 43,
   "metadata": {},
   "outputs": [
    {
     "name": "stdout",
     "output_type": "stream",
     "text": [
      "0.1\n",
      "0.26661488650130916\n",
      "1\n",
      "0.38716055959870743\n",
      "10\n",
      "-2.380036098546006e+18\n",
      "End\n",
      "2021-09-06 14:30:47.513626 2021-09-06 14:31:41.846209\n"
     ]
    }
   ],
   "source": [
    "learning_rate = [0.1, 1, 10]\n",
    "start = datetime.datetime.now()\n",
    "opt_gradientboosting(learning_rate, 10, 1027, 3)\n",
    "end = datetime.datetime.now()\n",
    "print(start, end)"
   ]
  },
  {
   "cell_type": "code",
   "execution_count": 44,
   "metadata": {},
   "outputs": [
    {
     "name": "stdout",
     "output_type": "stream",
     "text": [
      "0.1\n",
      "0.3441193034946183\n",
      "1\n",
      "0.4192110927519688\n",
      "10\n",
      "-2.8426996251467216e+37\n",
      "End\n"
     ]
    }
   ],
   "source": [
    "opt_gradientboosting(learning_rate, 20, 1027, 3)"
   ]
  },
  {
   "cell_type": "code",
   "execution_count": 46,
   "metadata": {},
   "outputs": [
    {
     "name": "stdout",
     "output_type": "stream",
     "text": [
      "0.1\n",
      "0.405487314843786\n",
      "1\n",
      "0.430363709839758\n",
      "End\n"
     ]
    }
   ],
   "source": [
    "learning_rate = [0.1, 1]\n",
    "opt_gradientboosting(learning_rate, 50, 1027, 3)"
   ]
  },
  {
   "cell_type": "code",
   "execution_count": 47,
   "metadata": {},
   "outputs": [
    {
     "name": "stdout",
     "output_type": "stream",
     "text": [
      "0.1\n",
      "0.4220354538708946\n",
      "1\n",
      "0.44287293896783\n",
      "End\n"
     ]
    }
   ],
   "source": [
    "opt_gradientboosting(learning_rate, 75, 1027, 3)"
   ]
  },
  {
   "cell_type": "code",
   "execution_count": 48,
   "metadata": {},
   "outputs": [
    {
     "name": "stdout",
     "output_type": "stream",
     "text": [
      "0.1\n",
      "0.4306406063985203\n",
      "1\n",
      "0.4499986579437475\n",
      "End\n"
     ]
    }
   ],
   "source": [
    "opt_gradientboosting(learning_rate, 100, 1027, 3)"
   ]
  },
  {
   "cell_type": "code",
   "execution_count": 49,
   "metadata": {},
   "outputs": [
    {
     "name": "stdout",
     "output_type": "stream",
     "text": [
      "0.1\n",
      "0.4512881418387964\n",
      "1\n",
      "0.4527696843476695\n",
      "End\n",
      "2021-09-06 14:53:48.441762 2021-09-06 15:05:17.090728\n"
     ]
    }
   ],
   "source": [
    "start = datetime.datetime.now()\n",
    "opt_gradientboosting(learning_rate, 200, 1027, 3)\n",
    "end = datetime.datetime.now()\n",
    "print(start, end)"
   ]
  },
  {
   "cell_type": "code",
   "execution_count": 50,
   "metadata": {},
   "outputs": [
    {
     "name": "stdout",
     "output_type": "stream",
     "text": [
      "0.1\n",
      "0.4613471944989056\n",
      "1\n",
      "0.4543756585618456\n",
      "End\n",
      "2021-09-06 15:13:59.297184 2021-09-06 15:31:26.960782\n"
     ]
    }
   ],
   "source": [
    "start = datetime.datetime.now()\n",
    "learning_rate = [0.1, 1]\n",
    "opt_gradientboosting(learning_rate, 300, 1027, 3)\n",
    "end = datetime.datetime.now()\n",
    "print(start, end)"
   ]
  },
  {
   "cell_type": "markdown",
   "metadata": {},
   "source": [
    "start = datetime.datetime.now()\n",
    "learning_rate = [0.1, 1]\n",
    "opt_gradientboosting(learning_rate, 400, 1027, 3)\n",
    "end = datetime.datetime.now()\n",
    "print(start, end)"
   ]
  },
  {
   "cell_type": "code",
   "execution_count": null,
   "metadata": {},
   "outputs": [],
   "source": []
  },
  {
   "cell_type": "code",
   "execution_count": 53,
   "metadata": {},
   "outputs": [
    {
     "name": "stdout",
     "output_type": "stream",
     "text": [
      "0.1\n",
      "0.47423013558800275\n",
      "1\n",
      "0.43158176629618317\n",
      "End\n",
      "2021-09-06 16:01:36.502660 2021-09-06 16:30:31.317804\n"
     ]
    }
   ],
   "source": [
    "start = datetime.datetime.now()\n",
    "learning_rate = [0.1, 1]\n",
    "opt_gradientboosting(learning_rate, 500, 1027, 3)\n",
    "end = datetime.datetime.now()\n",
    "print(start, end)"
   ]
  },
  {
   "cell_type": "markdown",
   "metadata": {},
   "source": [
    "**<font color='teal'> With learning_rate = 1, the r2_score has stated decreasing. Hence only learning_rate = 0.1 was only kept for further model building.** "
   ]
  },
  {
   "cell_type": "code",
   "execution_count": 57,
   "metadata": {},
   "outputs": [
    {
     "name": "stdout",
     "output_type": "stream",
     "text": [
      "0.1\n",
      "0.4769977595041094\n",
      "End\n",
      "2021-09-06 16:58:54.688942 2021-09-06 17:16:53.440884\n"
     ]
    }
   ],
   "source": [
    "start = datetime.datetime.now()\n",
    "learning_rate = [0.1]\n",
    "opt_gradientboosting(learning_rate, 600, 1027, 3)\n",
    "end = datetime.datetime.now()\n",
    "print(start, end)"
   ]
  },
  {
   "cell_type": "code",
   "execution_count": 58,
   "metadata": {},
   "outputs": [
    {
     "name": "stdout",
     "output_type": "stream",
     "text": [
      "0.1\n",
      "0.4796443785326261\n",
      "End\n",
      "2021-09-06 17:35:17.229284 2021-09-06 17:59:41.322687\n"
     ]
    }
   ],
   "source": [
    "start = datetime.datetime.now()\n",
    "opt_gradientboosting(learning_rate, 700, 1027, 3)\n",
    "end = datetime.datetime.now()\n",
    "print(start, end)"
   ]
  },
  {
   "cell_type": "markdown",
   "metadata": {},
   "source": [
    "### With best n_estimator = 700, increase the max_depth from 3 to 5"
   ]
  },
  {
   "cell_type": "code",
   "execution_count": 59,
   "metadata": {},
   "outputs": [
    {
     "name": "stdout",
     "output_type": "stream",
     "text": [
      "0.1\n",
      "0.49736629144537836\n",
      "End\n",
      "2021-09-06 18:06:04.419571 2021-09-06 18:22:26.440966\n"
     ]
    }
   ],
   "source": [
    "start = datetime.datetime.now()\n",
    "opt_gradientboosting(learning_rate, 700, 1027, 5)\n",
    "end = datetime.datetime.now()\n",
    "print(start, end)"
   ]
  },
  {
   "cell_type": "code",
   "execution_count": 60,
   "metadata": {},
   "outputs": [
    {
     "name": "stdout",
     "output_type": "stream",
     "text": [
      "0.1\n",
      "0.5055125785324059\n",
      "End\n",
      "2021-09-06 18:30:01.482743 2021-09-06 18:55:31.624772\n"
     ]
    }
   ],
   "source": [
    "start = datetime.datetime.now()\n",
    "opt_gradientboosting(learning_rate, 700, 1027, 7)\n",
    "end = datetime.datetime.now()\n",
    "print(start, end)"
   ]
  },
  {
   "cell_type": "markdown",
   "metadata": {},
   "source": [
    "### Got best n_estimator = 700, max_depth = 7"
   ]
  },
  {
   "cell_type": "code",
   "execution_count": 61,
   "metadata": {},
   "outputs": [
    {
     "name": "stdout",
     "output_type": "stream",
     "text": [
      "0.1\n",
      "0.50426148134792\n",
      "End\n",
      "2021-09-06 19:15:59.209525 2021-09-06 20:21:57.988447\n"
     ]
    }
   ],
   "source": [
    "start = datetime.datetime.now()\n",
    "learning_rate = [0.1]\n",
    "opt_gradientboosting(learning_rate, 700, 1027, 10)\n",
    "end = datetime.datetime.now()\n",
    "print(start, end)"
   ]
  },
  {
   "cell_type": "markdown",
   "metadata": {},
   "source": [
    "**<font color = 'teal'> Note: The performance decreased with increase in max_depth from 7 to 10.** "
   ]
  },
  {
   "cell_type": "code",
   "execution_count": 62,
   "metadata": {},
   "outputs": [
    {
     "name": "stdout",
     "output_type": "stream",
     "text": [
      "0.1\n",
      "0.5040681217106112\n",
      "End\n",
      "2021-09-06 22:11:14.857542 2021-09-06 23:02:21.195565\n"
     ]
    }
   ],
   "source": [
    "#Let us decrease the features number and see the performance\n",
    "start = datetime.datetime.now()\n",
    "learning_rate = [0.1]\n",
    "opt_gradientboosting(learning_rate, 700, 900, 7)\n",
    "end = datetime.datetime.now()\n",
    "print(start, end)"
   ]
  },
  {
   "cell_type": "code",
   "execution_count": 63,
   "metadata": {},
   "outputs": [
    {
     "name": "stdout",
     "output_type": "stream",
     "text": [
      "0.1\n",
      "0.5048352956416153\n",
      "End\n",
      "2021-09-06 23:13:59.330348 2021-09-06 23:31:38.418384\n"
     ]
    }
   ],
   "source": [
    "# Let us decrease the features number and see the performance\n",
    "start = datetime.datetime.now()\n",
    "learning_rate = [0.1]\n",
    "opt_gradientboosting(learning_rate, 700, 500, 7)\n",
    "end = datetime.datetime.now()\n",
    "print(start, end)"
   ]
  },
  {
   "cell_type": "code",
   "execution_count": 64,
   "metadata": {},
   "outputs": [
    {
     "name": "stdout",
     "output_type": "stream",
     "text": [
      "0.1\n",
      "0.507286908005887\n",
      "End\n",
      "2021-09-06 23:58:59.503800 2021-09-07 00:07:07.683528\n"
     ]
    }
   ],
   "source": [
    "start = datetime.datetime.now()\n",
    "learning_rate = [0.1]\n",
    "opt_gradientboosting(learning_rate, 700, 400, 7)\n",
    "end = datetime.datetime.now()\n",
    "print(start, end)"
   ]
  },
  {
   "cell_type": "code",
   "execution_count": 65,
   "metadata": {},
   "outputs": [
    {
     "name": "stdout",
     "output_type": "stream",
     "text": [
      "0.1\n",
      "0.5071950830068808\n",
      "End\n",
      "2021-09-07 00:09:38.200982 2021-09-07 00:21:14.019333\n"
     ]
    }
   ],
   "source": [
    "start = datetime.datetime.now()\n",
    "learning_rate = [0.1]\n",
    "opt_gradientboosting(learning_rate, 700, 300, 7)\n",
    "end = datetime.datetime.now()\n",
    "print(start, end)"
   ]
  },
  {
   "cell_type": "code",
   "execution_count": 66,
   "metadata": {},
   "outputs": [
    {
     "name": "stdout",
     "output_type": "stream",
     "text": [
      "0.1\n",
      "0.5059793970267614\n",
      "End\n",
      "2021-09-07 00:27:56.265184 2021-09-07 00:38:40.548594\n"
     ]
    }
   ],
   "source": [
    "start = datetime.datetime.now()\n",
    "learning_rate = [0.1]\n",
    "opt_gradientboosting(learning_rate, 700, 200, 7)\n",
    "end = datetime.datetime.now()\n",
    "print(start, end)"
   ]
  },
  {
   "cell_type": "code",
   "execution_count": 67,
   "metadata": {},
   "outputs": [
    {
     "name": "stdout",
     "output_type": "stream",
     "text": [
      "0.1\n",
      "0.5042961247293202\n",
      "End\n",
      "2021-09-07 00:40:23.764514 2021-09-07 00:46:08.133291\n"
     ]
    }
   ],
   "source": [
    "start = datetime.datetime.now()\n",
    "learning_rate = [0.1]\n",
    "opt_gradientboosting(learning_rate, 700, 100, 7)\n",
    "end = datetime.datetime.now()\n",
    "print(start, end)"
   ]
  },
  {
   "cell_type": "markdown",
   "metadata": {},
   "source": [
    "#### Note: Among all models, Gradient boosting with learning_rate = 0.1, n_estimator = 700, max_features = 300, Max_depth = 7 is with highest r2_score value:0.507. Hence this model will be saved for further use."
   ]
  },
  {
   "cell_type": "code",
   "execution_count": 69,
   "metadata": {},
   "outputs": [],
   "source": [
    "gb6 = GradientBoostingRegressor(learning_rate = 0.1, n_estimators = 700,  max_features = 300, max_depth = 7)"
   ]
  },
  {
   "cell_type": "markdown",
   "metadata": {},
   "source": [
    "**<font color = 'teal'>To improve the models performanace, PCA was applied. Though it improved the Linear Regression model performance but it didn't help Random Forest Regeressor or Gradient Boosting Regressor. The PCA application and model optimization has been discussed in model Development Part-II and III**. <br><br>Both have been uploaed in Github in the following links:<br>https://github.com/damayantinaik/Springboard_Week_7_Capstone_Project_Netfilx/blob/main/Netflix_data_model_development_Part_II.ipynb <br> and <br> https://github.com/damayantinaik/Springboard_Week_7_Capstone_Project_Netfilx/blob/main/Netflix_data_model_development_PCAall_Part_III.ipynb"
   ]
  },
  {
   "cell_type": "markdown",
   "metadata": {},
   "source": [
    "# Save the best model parameter for further use"
   ]
  },
  {
   "cell_type": "code",
   "execution_count": 71,
   "metadata": {},
   "outputs": [],
   "source": [
    "best_model = gb6\n",
    "best_model.version = '1.0'\n",
    "best_model.pandas_version = pd.__version__\n",
    "best_model.numpy_version = np.__version__\n",
    "best_model.X_columns = [col for col in X_train.columns]"
   ]
  },
  {
   "cell_type": "code",
   "execution_count": 73,
   "metadata": {},
   "outputs": [],
   "source": [
    "# save the best model to disk\n",
    "import os\n",
    "import pickle\n",
    "pickle.dump(best_model, open('Best_model.pkl', 'wb'))"
   ]
  }
 ],
 "metadata": {
  "kernelspec": {
   "display_name": "Python 3",
   "language": "python",
   "name": "python3"
  },
  "language_info": {
   "codemirror_mode": {
    "name": "ipython",
    "version": 3
   },
   "file_extension": ".py",
   "mimetype": "text/x-python",
   "name": "python",
   "nbconvert_exporter": "python",
   "pygments_lexer": "ipython3",
   "version": "3.7.1"
  }
 },
 "nbformat": 4,
 "nbformat_minor": 2
}
