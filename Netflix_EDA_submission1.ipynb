{
 "cells": [
  {
   "cell_type": "markdown",
   "metadata": {},
   "source": [
    "# Exploratory Data Analysis (Netflix movie recommendation)"
   ]
  },
  {
   "cell_type": "markdown",
   "metadata": {},
   "source": [
    "**<font color = 'teal' > After data wrangling, the exploratory data analysis will be carried out on both Kaggle and IMDB datasets. Both datasets contain only movies.**"
   ]
  },
  {
   "cell_type": "markdown",
   "metadata": {},
   "source": [
    "## Import necessary Python packages"
   ]
  },
  {
   "cell_type": "code",
   "execution_count": 1,
   "metadata": {},
   "outputs": [],
   "source": [
    "import numpy as np\n",
    "import pandas as pd\n",
    "import matplotlib.pyplot as plt\n",
    "import seaborn as sns"
   ]
  },
  {
   "cell_type": "markdown",
   "metadata": {},
   "source": [
    "## Part - I"
   ]
  },
  {
   "cell_type": "markdown",
   "metadata": {},
   "source": [
    "## Import the Kaggle Netflix dataset:"
   ]
  },
  {
   "cell_type": "code",
   "execution_count": 2,
   "metadata": {},
   "outputs": [],
   "source": [
    "Netflix = pd.read_csv('clean_datafiles/mydata_movies_only.csv', index_col = 0)"
   ]
  },
  {
   "cell_type": "code",
   "execution_count": 3,
   "metadata": {},
   "outputs": [
    {
     "data": {
      "text/html": [
       "<div>\n",
       "<style scoped>\n",
       "    .dataframe tbody tr th:only-of-type {\n",
       "        vertical-align: middle;\n",
       "    }\n",
       "\n",
       "    .dataframe tbody tr th {\n",
       "        vertical-align: top;\n",
       "    }\n",
       "\n",
       "    .dataframe thead th {\n",
       "        text-align: right;\n",
       "    }\n",
       "</style>\n",
       "<table border=\"1\" class=\"dataframe\">\n",
       "  <thead>\n",
       "    <tr style=\"text-align: right;\">\n",
       "      <th></th>\n",
       "      <th>show_id</th>\n",
       "      <th>type</th>\n",
       "      <th>title</th>\n",
       "      <th>cast</th>\n",
       "      <th>country</th>\n",
       "      <th>date_added</th>\n",
       "      <th>release_year</th>\n",
       "      <th>rating</th>\n",
       "      <th>duration_min</th>\n",
       "      <th>listed_in</th>\n",
       "      <th>description</th>\n",
       "    </tr>\n",
       "  </thead>\n",
       "  <tbody>\n",
       "    <tr>\n",
       "      <th>1</th>\n",
       "      <td>s2</td>\n",
       "      <td>Movie</td>\n",
       "      <td>7:19</td>\n",
       "      <td>Demián Bichir, Héctor Bonilla, Oscar Serrano, ...</td>\n",
       "      <td>Mexico</td>\n",
       "      <td>2016</td>\n",
       "      <td>2016</td>\n",
       "      <td>TV-MA</td>\n",
       "      <td>93</td>\n",
       "      <td>Dramas, International Movies</td>\n",
       "      <td>After a devastating earthquake hits Mexico Cit...</td>\n",
       "    </tr>\n",
       "    <tr>\n",
       "      <th>2</th>\n",
       "      <td>s3</td>\n",
       "      <td>Movie</td>\n",
       "      <td>23:59</td>\n",
       "      <td>Tedd Chan, Stella Chung, Henley Hii, Lawrence ...</td>\n",
       "      <td>Singapore</td>\n",
       "      <td>2018</td>\n",
       "      <td>2011</td>\n",
       "      <td>R</td>\n",
       "      <td>78</td>\n",
       "      <td>Horror Movies, International Movies</td>\n",
       "      <td>When an army recruit is found dead, his fellow...</td>\n",
       "    </tr>\n",
       "    <tr>\n",
       "      <th>3</th>\n",
       "      <td>s4</td>\n",
       "      <td>Movie</td>\n",
       "      <td>9</td>\n",
       "      <td>Elijah Wood, John C. Reilly, Jennifer Connelly...</td>\n",
       "      <td>United States</td>\n",
       "      <td>2017</td>\n",
       "      <td>2009</td>\n",
       "      <td>PG-13</td>\n",
       "      <td>80</td>\n",
       "      <td>Action &amp; Adventure, Independent Movies, Sci-Fi...</td>\n",
       "      <td>In a postapocalyptic world, rag-doll robots hi...</td>\n",
       "    </tr>\n",
       "    <tr>\n",
       "      <th>4</th>\n",
       "      <td>s5</td>\n",
       "      <td>Movie</td>\n",
       "      <td>21</td>\n",
       "      <td>Jim Sturgess, Kevin Spacey, Kate Bosworth, Aar...</td>\n",
       "      <td>United States</td>\n",
       "      <td>2020</td>\n",
       "      <td>2008</td>\n",
       "      <td>PG-13</td>\n",
       "      <td>123</td>\n",
       "      <td>Dramas</td>\n",
       "      <td>A brilliant group of students become card-coun...</td>\n",
       "    </tr>\n",
       "    <tr>\n",
       "      <th>6</th>\n",
       "      <td>s7</td>\n",
       "      <td>Movie</td>\n",
       "      <td>122</td>\n",
       "      <td>Amina Khalil, Ahmed Dawood, Tarek Lotfy, Ahmed...</td>\n",
       "      <td>Egypt</td>\n",
       "      <td>2020</td>\n",
       "      <td>2019</td>\n",
       "      <td>TV-MA</td>\n",
       "      <td>95</td>\n",
       "      <td>Horror Movies, International Movies</td>\n",
       "      <td>After an awful accident, a couple admitted to ...</td>\n",
       "    </tr>\n",
       "  </tbody>\n",
       "</table>\n",
       "</div>"
      ],
      "text/plain": [
       "  show_id   type  title                                               cast  \\\n",
       "1      s2  Movie   7:19  Demián Bichir, Héctor Bonilla, Oscar Serrano, ...   \n",
       "2      s3  Movie  23:59  Tedd Chan, Stella Chung, Henley Hii, Lawrence ...   \n",
       "3      s4  Movie      9  Elijah Wood, John C. Reilly, Jennifer Connelly...   \n",
       "4      s5  Movie     21  Jim Sturgess, Kevin Spacey, Kate Bosworth, Aar...   \n",
       "6      s7  Movie    122  Amina Khalil, Ahmed Dawood, Tarek Lotfy, Ahmed...   \n",
       "\n",
       "         country  date_added  release_year rating  duration_min  \\\n",
       "1         Mexico        2016          2016  TV-MA            93   \n",
       "2      Singapore        2018          2011      R            78   \n",
       "3  United States        2017          2009  PG-13            80   \n",
       "4  United States        2020          2008  PG-13           123   \n",
       "6          Egypt        2020          2019  TV-MA            95   \n",
       "\n",
       "                                           listed_in  \\\n",
       "1                       Dramas, International Movies   \n",
       "2                Horror Movies, International Movies   \n",
       "3  Action & Adventure, Independent Movies, Sci-Fi...   \n",
       "4                                             Dramas   \n",
       "6                Horror Movies, International Movies   \n",
       "\n",
       "                                         description  \n",
       "1  After a devastating earthquake hits Mexico Cit...  \n",
       "2  When an army recruit is found dead, his fellow...  \n",
       "3  In a postapocalyptic world, rag-doll robots hi...  \n",
       "4  A brilliant group of students become card-coun...  \n",
       "6  After an awful accident, a couple admitted to ...  "
      ]
     },
     "execution_count": 3,
     "metadata": {},
     "output_type": "execute_result"
    }
   ],
   "source": [
    "Netflix.head()"
   ]
  },
  {
   "cell_type": "code",
   "execution_count": 4,
   "metadata": {},
   "outputs": [
    {
     "data": {
      "text/html": [
       "<div>\n",
       "<style scoped>\n",
       "    .dataframe tbody tr th:only-of-type {\n",
       "        vertical-align: middle;\n",
       "    }\n",
       "\n",
       "    .dataframe tbody tr th {\n",
       "        vertical-align: top;\n",
       "    }\n",
       "\n",
       "    .dataframe thead th {\n",
       "        text-align: right;\n",
       "    }\n",
       "</style>\n",
       "<table border=\"1\" class=\"dataframe\">\n",
       "  <thead>\n",
       "    <tr style=\"text-align: right;\">\n",
       "      <th></th>\n",
       "      <th>show_id</th>\n",
       "      <th>type</th>\n",
       "      <th>title</th>\n",
       "      <th>cast</th>\n",
       "      <th>country</th>\n",
       "      <th>date_added</th>\n",
       "      <th>release_year</th>\n",
       "      <th>rating</th>\n",
       "      <th>duration_min</th>\n",
       "      <th>listed_in</th>\n",
       "      <th>description</th>\n",
       "    </tr>\n",
       "  </thead>\n",
       "  <tbody>\n",
       "    <tr>\n",
       "      <th>7781</th>\n",
       "      <td>s7782</td>\n",
       "      <td>Movie</td>\n",
       "      <td>Zoom</td>\n",
       "      <td>Tim Allen, Courteney Cox, Chevy Chase, Kate Ma...</td>\n",
       "      <td>United States</td>\n",
       "      <td>2020</td>\n",
       "      <td>2006</td>\n",
       "      <td>PG</td>\n",
       "      <td>88</td>\n",
       "      <td>Children &amp; Family Movies, Comedies</td>\n",
       "      <td>Dragged from civilian life, a former superhero...</td>\n",
       "    </tr>\n",
       "    <tr>\n",
       "      <th>7782</th>\n",
       "      <td>s7783</td>\n",
       "      <td>Movie</td>\n",
       "      <td>Zozo</td>\n",
       "      <td>Imad Creidi, Antoinette Turk, Elias Gergi, Car...</td>\n",
       "      <td>Sweden, Czech Republic, United Kingdom, Denmar...</td>\n",
       "      <td>2020</td>\n",
       "      <td>2005</td>\n",
       "      <td>TV-MA</td>\n",
       "      <td>99</td>\n",
       "      <td>Dramas, International Movies</td>\n",
       "      <td>When Lebanon's Civil War deprives Zozo of his ...</td>\n",
       "    </tr>\n",
       "    <tr>\n",
       "      <th>7783</th>\n",
       "      <td>s7784</td>\n",
       "      <td>Movie</td>\n",
       "      <td>Zubaan</td>\n",
       "      <td>Vicky Kaushal, Sarah-Jane Dias, Raaghav Chanan...</td>\n",
       "      <td>India</td>\n",
       "      <td>2019</td>\n",
       "      <td>2015</td>\n",
       "      <td>TV-14</td>\n",
       "      <td>111</td>\n",
       "      <td>Dramas, International Movies, Music &amp; Musicals</td>\n",
       "      <td>A scrappy but poor boy worms his way into a ty...</td>\n",
       "    </tr>\n",
       "  </tbody>\n",
       "</table>\n",
       "</div>"
      ],
      "text/plain": [
       "     show_id   type   title  \\\n",
       "7781   s7782  Movie    Zoom   \n",
       "7782   s7783  Movie    Zozo   \n",
       "7783   s7784  Movie  Zubaan   \n",
       "\n",
       "                                                   cast  \\\n",
       "7781  Tim Allen, Courteney Cox, Chevy Chase, Kate Ma...   \n",
       "7782  Imad Creidi, Antoinette Turk, Elias Gergi, Car...   \n",
       "7783  Vicky Kaushal, Sarah-Jane Dias, Raaghav Chanan...   \n",
       "\n",
       "                                                country  date_added  \\\n",
       "7781                                      United States        2020   \n",
       "7782  Sweden, Czech Republic, United Kingdom, Denmar...        2020   \n",
       "7783                                              India        2019   \n",
       "\n",
       "      release_year rating  duration_min  \\\n",
       "7781          2006     PG            88   \n",
       "7782          2005  TV-MA            99   \n",
       "7783          2015  TV-14           111   \n",
       "\n",
       "                                           listed_in  \\\n",
       "7781              Children & Family Movies, Comedies   \n",
       "7782                    Dramas, International Movies   \n",
       "7783  Dramas, International Movies, Music & Musicals   \n",
       "\n",
       "                                            description  \n",
       "7781  Dragged from civilian life, a former superhero...  \n",
       "7782  When Lebanon's Civil War deprives Zozo of his ...  \n",
       "7783  A scrappy but poor boy worms his way into a ty...  "
      ]
     },
     "execution_count": 4,
     "metadata": {},
     "output_type": "execute_result"
    }
   ],
   "source": [
    "Netflix.tail(3)"
   ]
  },
  {
   "cell_type": "code",
   "execution_count": 5,
   "metadata": {},
   "outputs": [
    {
     "data": {
      "text/plain": [
       "(4761, 11)"
      ]
     },
     "execution_count": 5,
     "metadata": {},
     "output_type": "execute_result"
    }
   ],
   "source": [
    "Netflix.shape"
   ]
  },
  {
   "cell_type": "markdown",
   "metadata": {},
   "source": [
    "### Drawing insight from \"country\" column"
   ]
  },
  {
   "cell_type": "markdown",
   "metadata": {},
   "source": [
    "**<font color = 'teal'> There are different countries in the dataset making films, some make in large number while some make very few. This can be represented in a barplot, so let us sort out the countries according to the movie numbers.</font>**"
   ]
  },
  {
   "cell_type": "code",
   "execution_count": 6,
   "metadata": {},
   "outputs": [
    {
     "data": {
      "text/plain": [
       "539"
      ]
     },
     "execution_count": 6,
     "metadata": {},
     "output_type": "execute_result"
    }
   ],
   "source": [
    "Netflix.country.nunique()"
   ]
  },
  {
   "cell_type": "code",
   "execution_count": 7,
   "metadata": {},
   "outputs": [],
   "source": [
    "arr = Netflix.country.value_counts()\n",
    "arr2 = arr.head(20)"
   ]
  },
  {
   "cell_type": "code",
   "execution_count": 8,
   "metadata": {},
   "outputs": [
    {
     "name": "stdout",
     "output_type": "stream",
     "text": [
      "Country with maximum number of movies: United States\n"
     ]
    }
   ],
   "source": [
    "print('Country with maximum number of movies:', arr.idxmax(axis = 1))"
   ]
  },
  {
   "cell_type": "code",
   "execution_count": 9,
   "metadata": {},
   "outputs": [
    {
     "data": {
      "image/png": "[encoded data removed]",
      "text/plain": [
       "<Figure size 576x432 with 1 Axes>"
      ]
     },
     "metadata": {
      "needs_background": "light"
     },
     "output_type": "display_data"
    }
   ],
   "source": [
    "plt.figure(figsize = (8, 6))\n",
    "sns.barplot(x = arr2.index, y = arr2.values)\n",
    "plt.xticks(rotation = 90)\n",
    "plt.xlabel('Country')\n",
    "plt.ylabel('Number of movies')\n",
    "plt.title(\"Country vs. Number of movies\")\n",
    "plt.show()"
   ]
  },
  {
   "cell_type": "markdown",
   "metadata": {},
   "source": [
    "Here, it can be seen that USA produced maximum number of movies, India ranks second while United Kingdom in third place. "
   ]
  },
  {
   "cell_type": "markdown",
   "metadata": {},
   "source": [
    "**<font color = 'teal'> In different years movies have been released. Below, there will a detail investigation:</font>**"
   ]
  },
  {
   "cell_type": "code",
   "execution_count": 10,
   "metadata": {},
   "outputs": [
    {
     "name": "stdout",
     "output_type": "stream",
     "text": [
      "The number of years the movies have been released:  71\n",
      "The maximum number of movies released in the year:  2017\n"
     ]
    }
   ],
   "source": [
    "ReleaseYear = Netflix.release_year.value_counts()\n",
    "ReleaseYear2 = ReleaseYear.head(20)\n",
    "print(\"The number of years the movies have been released: \", Netflix.release_year.nunique())\n",
    "print(\"The maximum number of movies released in the year: \", ReleaseYear.idxmax(axis = 1))"
   ]
  },
  {
   "cell_type": "code",
   "execution_count": 11,
   "metadata": {},
   "outputs": [
    {
     "data": {
      "image/png": "[encoded data removed]",
      "text/plain": [
       "<Figure size 576x432 with 1 Axes>"
      ]
     },
     "metadata": {
      "needs_background": "light"
     },
     "output_type": "display_data"
    }
   ],
   "source": [
    "plt.figure(figsize = (8, 6))\n",
    "sns.barplot(x = ReleaseYear2.index, y = ReleaseYear2.values)\n",
    "plt.xlabel('Release year')\n",
    "plt.ylabel('Number of movie')\n",
    "plt.title(\"Release Year vs. Number of movies\")\n",
    "plt.xticks(rotation = 90)\n",
    "plt.show()"
   ]
  },
  {
   "cell_type": "markdown",
   "metadata": {},
   "source": [
    "**<font color = 'teal'>Let us investigate about the number of movies have been added in different years.</font>**"
   ]
  },
  {
   "cell_type": "code",
   "execution_count": 12,
   "metadata": {},
   "outputs": [
    {
     "name": "stdout",
     "output_type": "stream",
     "text": [
      "Country with maximum number of movies: 2019\n"
     ]
    }
   ],
   "source": [
    "added_year = Netflix.date_added.value_counts()\n",
    "added_year2 = added_year.head(20)\n",
    "print('Country with maximum number of movies:', added_year.idxmax(axis = 1))"
   ]
  },
  {
   "cell_type": "code",
   "execution_count": 13,
   "metadata": {},
   "outputs": [
    {
     "data": {
      "image/png": "[encoded data removed]",
      "text/plain": [
       "<Figure size 576x432 with 1 Axes>"
      ]
     },
     "metadata": {
      "needs_background": "light"
     },
     "output_type": "display_data"
    }
   ],
   "source": [
    "plt.figure(figsize = (8, 6))\n",
    "sns.barplot(x = added_year2.index, y = added_year2.values)\n",
    "plt.xlabel('added year')\n",
    "plt.ylabel('Number of movies')\n",
    "plt.title(\" Added Year vs. Number of movies\")\n",
    "plt.xticks(rotation = 90)\n",
    "plt.show()"
   ]
  },
  {
   "cell_type": "markdown",
   "metadata": {},
   "source": [
    "**<font color = 'teal'> Investigate the movies' duration time in minutes.</font>**"
   ]
  },
  {
   "cell_type": "code",
   "execution_count": 14,
   "metadata": {},
   "outputs": [
    {
     "data": {
      "text/plain": [
       "93     121\n",
       "94     120\n",
       "90     117\n",
       "95     114\n",
       "97     108\n",
       "91     106\n",
       "92     102\n",
       "96     100\n",
       "98      95\n",
       "99      94\n",
       "103     94\n",
       "102     93\n",
       "88      89\n",
       "101     88\n",
       "106     88\n",
       "100     85\n",
       "105     84\n",
       "86      84\n",
       "104     84\n",
       "110     80\n",
       "Name: duration_min, dtype: int64"
      ]
     },
     "execution_count": 14,
     "metadata": {},
     "output_type": "execute_result"
    }
   ],
   "source": [
    "duration = Netflix.duration_min.value_counts()\n",
    "duration2 = Netflix.duration_min.value_counts().head(20)\n",
    "duration2"
   ]
  },
  {
   "cell_type": "code",
   "execution_count": 15,
   "metadata": {},
   "outputs": [
    {
     "data": {
      "image/png": "[encoded data removed]",
      "text/plain": [
       "<Figure size 576x432 with 1 Axes>"
      ]
     },
     "metadata": {
      "needs_background": "light"
     },
     "output_type": "display_data"
    }
   ],
   "source": [
    "plt.figure(figsize = (8, 6))\n",
    "sns.barplot(x = duration2.index, y = duration2.values)\n",
    "plt.xlabel('Duration of movies in minutes')\n",
    "plt.ylabel('Number of movies')\n",
    "plt.title('Duration of movies vs. Number of movies')\n",
    "plt.xticks(rotation = 90)\n",
    "plt.show()"
   ]
  },
  {
   "cell_type": "code",
   "execution_count": 16,
   "metadata": {},
   "outputs": [
    {
     "name": "stdout",
     "output_type": "stream",
     "text": [
      "The maximum number of movies of duration:  93 minutes\n",
      "The minimum number of movies of duration:  191 minutes\n",
      "Maximum duration of the movie: 312 minutes\n",
      "Minimum duration of the movie: 8 minutes\n"
     ]
    }
   ],
   "source": [
    "print(\"The maximum number of movies of duration: \", duration.idxmax(axis = 1), 'minutes')\n",
    "print(\"The minimum number of movies of duration: \", duration.idxmin(axis = 1), 'minutes')\n",
    "print('Maximum duration of the movie:', Netflix.duration_min.max(), 'minutes')\n",
    "print('Minimum duration of the movie:', Netflix.duration_min.min(), 'minutes')"
   ]
  },
  {
   "cell_type": "markdown",
   "metadata": {},
   "source": [
    "**<font color = 'teal'>  Let us investigate into the number of movies of different rated categories.</font>**"
   ]
  },
  {
   "cell_type": "code",
   "execution_count": 17,
   "metadata": {},
   "outputs": [],
   "source": [
    "movie_rating = Netflix.rating.value_counts()"
   ]
  },
  {
   "cell_type": "code",
   "execution_count": 18,
   "metadata": {},
   "outputs": [
    {
     "data": {
      "image/png": "[encoded data removed]",
      "text/plain": [
       "<Figure size 576x432 with 1 Axes>"
      ]
     },
     "metadata": {
      "needs_background": "light"
     },
     "output_type": "display_data"
    }
   ],
   "source": [
    "plt.figure(figsize = (8, 6))\n",
    "sns.barplot(x = movie_rating.index, y = movie_rating.values)\n",
    "plt.xticks(rotation = 90)\n",
    "plt.show()"
   ]
  },
  {
   "cell_type": "markdown",
   "metadata": {},
   "source": [
    "**<font color = 'teal'> Let us investigate how many countries are there who have produced movies. </font>**"
   ]
  },
  {
   "cell_type": "code",
   "execution_count": 19,
   "metadata": {},
   "outputs": [
    {
     "name": "stdout",
     "output_type": "stream",
     "text": [
      "{'', 'New Zealand', ' Nicaragua', ' Serbia', ' Luxembourg', 'Saudi Arabia', 'Singapore', ' Thailand', ' China', ' Netherlands', ' Afghanistan', ' Japan', 'Jamaica', ' Switzerland', 'Bangladesh', 'Turkey', ' Colombia', 'Czech Republic', ' Mexico', ' Montenegro', ' Panama', 'Cambodia', 'Georgia', 'Japan', ' Portugal', 'Pakistan', 'Argentina', ' Indonesia', 'United Kingdom', ' France', ' India', ' West Germany', ' Kenya', ' Soviet Union', ' Czech Republic', ' United Kingdom', ' Belgium', ' Croatia', 'Australia', ' East Germany', 'Kenya', 'Slovenia', ' Liechtenstein', ' Latvia', 'Venezuela', 'Spain', ' Iraq', ' Morocco', ' Iran', ' Finland', 'Egypt', 'Colombia', ' Cambodia', ' Norway', 'Netherlands', 'Indonesia', ' Malawi', ' Lebanon', 'Somalia', ' Israel', ' Hong Kong', 'Paraguay', 'Iceland', 'India', 'Israel', 'Poland', ' Canada', ' Taiwan', ' Australia', 'Namibia', 'Switzerland', ' Ireland', ' Argentina', ' Jordan', ' Nepal', 'Malaysia', ' Germany', 'Portugal', 'Chile', ' Bulgaria', ' Brazil', 'Mexico', 'Lebanon', ' Romania', ' Qatar', 'Russia', 'Austria', 'Denmark', 'Romania', ' Iceland', 'Brazil', ' Hungary', 'France', ' Slovenia', 'Zimbabwe', 'Italy', ' Sri Lanka', ' Lithuania', ' Sudan', ' Singapore', ' Pakistan', 'South Korea', ' United Arab Emirates', ' Spain', 'Kuwait', ' Sweden', 'Iran', ' Uruguay', ' Nigeria', 'Serbia', 'Sweden', 'Hong Kong', ' Russia', 'Guatemala', ' United States', 'Uruguay', ' Turkey', ' South Korea', 'Nigeria', 'United Arab Emirates', ' Albania', 'Vietnam', 'Peru', ' Dominican Republic', 'Finland', ' Austria', 'Bulgaria', ' Bangladesh', ' Vatican City', 'China', ' South Africa', ' Peru', ' Egypt', ' New Zealand', 'United States', ' Ecuador', ' Guatemala', 'Ireland', ' Denmark', ' Poland', ' Greece', 'Croatia', 'Germany', ' Malaysia', ' Malta', ' Slovakia', ' Senegal', 'Belgium', ' Bahamas', 'Taiwan', 'Ghana', ' Algeria', ' Angola', 'Soviet Union', 'Thailand', ' Cayman Islands', ' Bermuda', 'Canada', 'Norway', 'Philippines', ' Philippines', ' Italy', 'Hungary', 'South Africa', ' Chile'}\n",
      "165\n",
      "['', 'Afghanistan', 'Albania', 'Algeria', 'Angola', 'Argentina', 'Australia', 'Austria', 'Bahamas', 'Bangladesh', 'Belgium', 'Bermuda', 'Brazil', 'Bulgaria', 'Cambodia', 'Canada', 'Cayman Islands', 'Chile', 'China', 'Colombia', 'Croatia', 'Czech Republic', 'Denmark', 'Dominican Republic', 'East Germany', 'Ecuador', 'Egypt', 'Finland', 'France', 'Georgia', 'Germany', 'Ghana', 'Greece', 'Guatemala', 'Hong Kong', 'Hungary', 'Iceland', 'India', 'Indonesia', 'Iran', 'Iraq', 'Ireland', 'Israel', 'Italy', 'Jamaica', 'Japan', 'Jordan', 'Kenya', 'Kuwait', 'Latvia', 'Lebanon', 'Liechtenstein', 'Lithuania', 'Luxembourg', 'Malawi', 'Malaysia', 'Malta', 'Mexico', 'Montenegro', 'Morocco', 'Namibia', 'Nepal', 'Netherlands', 'New Zealand', 'Nicaragua', 'Nigeria', 'Norway', 'Pakistan', 'Panama', 'Paraguay', 'Peru', 'Philippines', 'Poland', 'Portugal', 'Qatar', 'Romania', 'Russia', 'Saudi Arabia', 'Senegal', 'Serbia', 'Singapore', 'Slovakia', 'Slovenia', 'Somalia', 'South Africa', 'South Korea', 'Soviet Union', 'Spain', 'Sri Lanka', 'Sudan', 'Sweden', 'Switzerland', 'Taiwan', 'Thailand', 'Turkey', 'United Arab Emirates', 'United Kingdom', 'United States', 'Uruguay', 'Vatican City', 'Venezuela', 'Vietnam', 'West Germany', 'Zimbabwe']\n"
     ]
    }
   ],
   "source": [
    "Netflix_country =  Netflix.country.str.split(',')\n",
    "Netflix_country2 = pd.Series(Netflix_country)\n",
    "Netflix_country2\n",
    "list_country = []\n",
    "for i in Netflix_country2:\n",
    "    list_country.extend(i)\n",
    "list_country2 = set(list_country)\n",
    "print(list_country2)\n",
    "print(len(list_country2))\n",
    "\n",
    "list_country3 = []\n",
    "\n",
    "for j in list_country2:\n",
    "    list_country3.append(j.strip())\n",
    "\n",
    "print(sorted(set(list_country3)))"
   ]
  },
  {
   "cell_type": "markdown",
   "metadata": {},
   "source": [
    "### **<font color = 'teal'> Distribution of duration of the movies in minutes</font>**  "
   ]
  },
  {
   "cell_type": "code",
   "execution_count": 20,
   "metadata": {},
   "outputs": [
    {
     "data": {
      "image/png": "[encoded data removed]",
      "text/plain": [
       "<Figure size 576x432 with 1 Axes>"
      ]
     },
     "metadata": {
      "needs_background": "light"
     },
     "output_type": "display_data"
    }
   ],
   "source": [
    "plt.figure(figsize = (8, 6))\n",
    "sns.histplot(Netflix.duration_min, bins = 10)\n",
    "plt.show()"
   ]
  },
  {
   "cell_type": "markdown",
   "metadata": {},
   "source": [
    "### **<font color = 'teal'> Distribution of the Indian movies duration in minutes </font>**"
   ]
  },
  {
   "cell_type": "code",
   "execution_count": 21,
   "metadata": {},
   "outputs": [],
   "source": [
    "India_movie_duration = Netflix[Netflix.country == 'India']['duration_min']\n"
   ]
  },
  {
   "cell_type": "code",
   "execution_count": 22,
   "metadata": {},
   "outputs": [
    {
     "data": {
      "image/png": "[encoded data removed]",
      "text/plain": [
       "<Figure size 576x432 with 1 Axes>"
      ]
     },
     "metadata": {
      "needs_background": "light"
     },
     "output_type": "display_data"
    }
   ],
   "source": [
    "plt.figure(figsize = (8, 6))\n",
    "sns.histplot(India_movie_duration, bins = 10)\n",
    "plt.show()"
   ]
  },
  {
   "cell_type": "markdown",
   "metadata": {},
   "source": [
    "### **<font color = 'teal'> Distribution of the USA movies duration in minutes </font>**"
   ]
  },
  {
   "cell_type": "code",
   "execution_count": 23,
   "metadata": {},
   "outputs": [
    {
     "data": {
      "image/png": "[encoded data removed]",
      "text/plain": [
       "<Figure size 576x432 with 1 Axes>"
      ]
     },
     "metadata": {
      "needs_background": "light"
     },
     "output_type": "display_data"
    }
   ],
   "source": [
    "USA_movie_duration = Netflix[Netflix.country == 'United States']['duration_min']\n",
    "\n",
    "\n",
    "plt.figure(figsize = (8,6))\n",
    "sns.histplot(USA_movie_duration, bins = 10)\n",
    "plt.show()"
   ]
  },
  {
   "cell_type": "markdown",
   "metadata": {},
   "source": [
    "### **<font color = 'teal'> Distribution of the United Kingdom movies duration in minutes </font>**"
   ]
  },
  {
   "cell_type": "code",
   "execution_count": 24,
   "metadata": {},
   "outputs": [
    {
     "data": {
      "image/png": "[encoded data removed]",
      "text/plain": [
       "<Figure size 576x432 with 1 Axes>"
      ]
     },
     "metadata": {
      "needs_background": "light"
     },
     "output_type": "display_data"
    }
   ],
   "source": [
    "United_Kingdom_movie_duration = Netflix[Netflix.country == 'United Kingdom']['duration_min']\n",
    "\n",
    "\n",
    "plt.figure(figsize = (8, 6))\n",
    "sns.histplot(United_Kingdom_movie_duration, bins = 10)\n",
    "plt.show()"
   ]
  },
  {
   "cell_type": "markdown",
   "metadata": {},
   "source": [
    "### **<font color = 'teal'>  Type of movies </font>**"
   ]
  },
  {
   "cell_type": "code",
   "execution_count": 25,
   "metadata": {},
   "outputs": [
    {
     "name": "stdout",
     "output_type": "stream",
     "text": [
      "20\n",
      "['Action & Adventure', 'Anime Features', 'Children & Family Movies', 'Classic Movies', 'Comedies', 'Cult Movies', 'Documentaries', 'Dramas', 'Faith & Spirituality', 'Horror Movies', 'Independent Movies', 'International Movies', 'LGBTQ Movies', 'Movies', 'Music & Musicals', 'Romantic Movies', 'Sci-Fi & Fantasy', 'Sports Movies', 'Stand-Up Comedy', 'Thrillers']\n"
     ]
    }
   ],
   "source": [
    "Netflix_listed_in =  Netflix.listed_in.str.split(',')\n",
    "Netflix_listed_in2 = pd.Series(Netflix_listed_in)\n",
    "Netflix_listed_in2\n",
    "list_category = []\n",
    "for i in Netflix_listed_in2:\n",
    "    list_category.extend(i)\n",
    "\n",
    "list_category2 = []\n",
    "\n",
    "for j in set(list_category):\n",
    "    list_category2.append(j.strip())\n",
    "\n",
    "list_category3 = sorted(set(list_category2))\n",
    "print(len(list_category3))\n",
    "print(list_category3)"
   ]
  },
  {
   "cell_type": "code",
   "execution_count": 26,
   "metadata": {},
   "outputs": [
    {
     "data": {
      "text/plain": [
       "Index(['show_id', 'type', 'title', 'cast', 'country', 'date_added',\n",
       "       'release_year', 'rating', 'duration_min', 'listed_in', 'description'],\n",
       "      dtype='object')"
      ]
     },
     "execution_count": 26,
     "metadata": {},
     "output_type": "execute_result"
    }
   ],
   "source": [
    "Netflix.columns"
   ]
  },
  {
   "cell_type": "markdown",
   "metadata": {},
   "source": [
    "**<font color = 'teal'>There is no need of the \"show_id\", \"type\" and \"rating\" columns, hence these are dropped from the dataset.</font>**"
   ]
  },
  {
   "cell_type": "code",
   "execution_count": 27,
   "metadata": {},
   "outputs": [],
   "source": [
    "Netflix.drop(columns = ['show_id', 'type', 'rating'], inplace = True)"
   ]
  },
  {
   "cell_type": "code",
   "execution_count": 28,
   "metadata": {},
   "outputs": [
    {
     "data": {
      "text/plain": [
       "Index(['title', 'cast', 'country', 'date_added', 'release_year',\n",
       "       'duration_min', 'listed_in', 'description'],\n",
       "      dtype='object')"
      ]
     },
     "execution_count": 28,
     "metadata": {},
     "output_type": "execute_result"
    }
   ],
   "source": [
    "Netflix.columns"
   ]
  },
  {
   "cell_type": "markdown",
   "metadata": {},
   "source": [
    "# Part-II"
   ]
  },
  {
   "cell_type": "code",
   "execution_count": 29,
   "metadata": {},
   "outputs": [
    {
     "name": "stderr",
     "output_type": "stream",
     "text": [
      "C:\\Users\\user\\Anaconda3\\lib\\site-packages\\IPython\\core\\interactiveshell.py:3020: DtypeWarning: Columns (3) have mixed types.Specify dtype option on import or set low_memory=False.\n",
      "  interactivity=interactivity, compiler=compiler, result=result)\n"
     ]
    }
   ],
   "source": [
    "IMDBdata = pd.read_csv('clean_datafiles/IMDB_Movies_cleaned.csv', index_col = 0)"
   ]
  },
  {
   "cell_type": "code",
   "execution_count": 30,
   "metadata": {},
   "outputs": [
    {
     "data": {
      "text/html": [
       "<div>\n",
       "<style scoped>\n",
       "    .dataframe tbody tr th:only-of-type {\n",
       "        vertical-align: middle;\n",
       "    }\n",
       "\n",
       "    .dataframe tbody tr th {\n",
       "        vertical-align: top;\n",
       "    }\n",
       "\n",
       "    .dataframe thead th {\n",
       "        text-align: right;\n",
       "    }\n",
       "</style>\n",
       "<table border=\"1\" class=\"dataframe\">\n",
       "  <thead>\n",
       "    <tr style=\"text-align: right;\">\n",
       "      <th></th>\n",
       "      <th>imdb_title_id</th>\n",
       "      <th>original_title</th>\n",
       "      <th>year</th>\n",
       "      <th>genre</th>\n",
       "      <th>duration</th>\n",
       "      <th>country</th>\n",
       "      <th>language</th>\n",
       "      <th>director</th>\n",
       "      <th>writer</th>\n",
       "      <th>production_company</th>\n",
       "      <th>actors</th>\n",
       "      <th>description</th>\n",
       "      <th>avg_vote</th>\n",
       "      <th>votes</th>\n",
       "      <th>reviews_from_users</th>\n",
       "    </tr>\n",
       "  </thead>\n",
       "  <tbody>\n",
       "    <tr>\n",
       "      <th>0</th>\n",
       "      <td>tt0000009</td>\n",
       "      <td>Miss Jerry</td>\n",
       "      <td>1894</td>\n",
       "      <td>Romance</td>\n",
       "      <td>45</td>\n",
       "      <td>USA</td>\n",
       "      <td>None</td>\n",
       "      <td>Alexander Black</td>\n",
       "      <td>Alexander Black</td>\n",
       "      <td>Alexander Black Photoplays</td>\n",
       "      <td>Blanche Bayliss, William Courtenay, Chauncey D...</td>\n",
       "      <td>The adventures of a female reporter in the 1890s.</td>\n",
       "      <td>5.9</td>\n",
       "      <td>154</td>\n",
       "      <td>1.0</td>\n",
       "    </tr>\n",
       "    <tr>\n",
       "      <th>1</th>\n",
       "      <td>tt0000574</td>\n",
       "      <td>The Story of the Kelly Gang</td>\n",
       "      <td>1906</td>\n",
       "      <td>Biography, Crime, Drama</td>\n",
       "      <td>70</td>\n",
       "      <td>Australia</td>\n",
       "      <td>None</td>\n",
       "      <td>Charles Tait</td>\n",
       "      <td>Charles Tait</td>\n",
       "      <td>J. and N. Tait</td>\n",
       "      <td>Elizabeth Tait, John Tait, Norman Campbell, Be...</td>\n",
       "      <td>True story of notorious Australian outlaw Ned ...</td>\n",
       "      <td>6.1</td>\n",
       "      <td>589</td>\n",
       "      <td>7.0</td>\n",
       "    </tr>\n",
       "  </tbody>\n",
       "</table>\n",
       "</div>"
      ],
      "text/plain": [
       "  imdb_title_id               original_title  year                    genre  \\\n",
       "0     tt0000009                   Miss Jerry  1894                  Romance   \n",
       "1     tt0000574  The Story of the Kelly Gang  1906  Biography, Crime, Drama   \n",
       "\n",
       "   duration    country language         director           writer  \\\n",
       "0        45        USA     None  Alexander Black  Alexander Black   \n",
       "1        70  Australia     None     Charles Tait     Charles Tait   \n",
       "\n",
       "           production_company  \\\n",
       "0  Alexander Black Photoplays   \n",
       "1              J. and N. Tait   \n",
       "\n",
       "                                              actors  \\\n",
       "0  Blanche Bayliss, William Courtenay, Chauncey D...   \n",
       "1  Elizabeth Tait, John Tait, Norman Campbell, Be...   \n",
       "\n",
       "                                         description  avg_vote  votes  \\\n",
       "0  The adventures of a female reporter in the 1890s.       5.9    154   \n",
       "1  True story of notorious Australian outlaw Ned ...       6.1    589   \n",
       "\n",
       "   reviews_from_users  \n",
       "0                 1.0  \n",
       "1                 7.0  "
      ]
     },
     "execution_count": 30,
     "metadata": {},
     "output_type": "execute_result"
    }
   ],
   "source": [
    "IMDBdata.head(2)"
   ]
  },
  {
   "cell_type": "code",
   "execution_count": 31,
   "metadata": {},
   "outputs": [
    {
     "data": {
      "text/plain": [
       "(72043, 15)"
      ]
     },
     "execution_count": 31,
     "metadata": {},
     "output_type": "execute_result"
    }
   ],
   "source": [
    "IMDBdata.shape"
   ]
  },
  {
   "cell_type": "code",
   "execution_count": 32,
   "metadata": {},
   "outputs": [
    {
     "data": {
      "text/plain": [
       "Index(['imdb_title_id', 'original_title', 'year', 'genre', 'duration',\n",
       "       'country', 'language', 'director', 'writer', 'production_company',\n",
       "       'actors', 'description', 'avg_vote', 'votes', 'reviews_from_users'],\n",
       "      dtype='object')"
      ]
     },
     "execution_count": 32,
     "metadata": {},
     "output_type": "execute_result"
    }
   ],
   "source": [
    "IMDBdata.columns  "
   ]
  },
  {
   "cell_type": "code",
   "execution_count": 33,
   "metadata": {},
   "outputs": [
    {
     "data": {
      "text/plain": [
       "imdb_title_id          object\n",
       "original_title         object\n",
       "year                   object\n",
       "genre                  object\n",
       "duration                int64\n",
       "country                object\n",
       "language               object\n",
       "director               object\n",
       "writer                 object\n",
       "production_company     object\n",
       "actors                 object\n",
       "description            object\n",
       "avg_vote              float64\n",
       "votes                   int64\n",
       "reviews_from_users    float64\n",
       "dtype: object"
      ]
     },
     "execution_count": 33,
     "metadata": {},
     "output_type": "execute_result"
    }
   ],
   "source": [
    "IMDBdata.dtypes"
   ]
  },
  {
   "cell_type": "code",
   "execution_count": 34,
   "metadata": {},
   "outputs": [
    {
     "name": "stdout",
     "output_type": "stream",
     "text": [
      "<class 'pandas.core.frame.DataFrame'>\n",
      "Int64Index: 72043 entries, 0 to 85851\n",
      "Data columns (total 15 columns):\n",
      " #   Column              Non-Null Count  Dtype  \n",
      "---  ------              --------------  -----  \n",
      " 0   imdb_title_id       72043 non-null  object \n",
      " 1   original_title      72043 non-null  object \n",
      " 2   year                72043 non-null  object \n",
      " 3   genre               72043 non-null  object \n",
      " 4   duration            72043 non-null  int64  \n",
      " 5   country             72043 non-null  object \n",
      " 6   language            72043 non-null  object \n",
      " 7   director            72043 non-null  object \n",
      " 8   writer              72043 non-null  object \n",
      " 9   production_company  72043 non-null  object \n",
      " 10  actors              72043 non-null  object \n",
      " 11  description         72043 non-null  object \n",
      " 12  avg_vote            72043 non-null  float64\n",
      " 13  votes               72043 non-null  int64  \n",
      " 14  reviews_from_users  72043 non-null  float64\n",
      "dtypes: float64(2), int64(2), object(11)\n",
      "memory usage: 8.8+ MB\n"
     ]
    }
   ],
   "source": [
    "IMDBdata.info()"
   ]
  },
  {
   "cell_type": "markdown",
   "metadata": {},
   "source": [
    "**<font color = 'teal'> Here, \"year\" column is \"Object\" i.e string. So further investigation is needed and change column to integer type.**"
   ]
  },
  {
   "cell_type": "code",
   "execution_count": 35,
   "metadata": {},
   "outputs": [
    {
     "name": "stdout",
     "output_type": "stream",
     "text": [
      "{'1970', '2006', 'TV Movie 2019', '1994', '2000', '1974', '1984', '1998', '2015', '2013', '1999', '2007', '1971', '1997', '1979', '2017', '2018', '2020', '2014', '2016', '1982', '2012', '2011', '2001', 1894, 1906, 1911, 1912, 1913, 1914, 1915, 1916, 1917, 1918, 1919, 1920, 1921, 1922, 1923, 1924, 1925, 1926, 1927, 1928, 1929, 1930, 1931, 1932, 1933, 1934, 1935, 1936, 1937, 1938, 1939, 1940, 1941, 1942, 1943, 1944, 1945, 1946, 1947, 1948, 1949, 1950, 1951, 1952, 1953, 1954, 1955, 1956, 1957, 1958, 1959, 1960, 1961, 1962, 1963, 1964, 1965, 1966, 1967, 1968, 1969, 1970, 1971, 1972, 1973, 1974, 1975, 1976, 1977, 1978, 1979, 1980, 1981, 1982, 1983, 1984, 1985, 1986, 1987, 1988, 1989, 1990, 1991, 1992, 1993, 1994, 1995, 1996, 1997, 1998, 1999, 2000, 2001, 2002, 2003, 2004, 2005, 2006, 2007, 2008, 2009, 2010, 2011, 2012, 2013, 2014, 2015, 2016, 2017, 2018, 2019, 2020, '2019'}\n"
     ]
    }
   ],
   "source": [
    "IMDBdata2_year = pd.Series(IMDBdata.year)\n",
    "print(set(IMDBdata2_year))"
   ]
  },
  {
   "cell_type": "markdown",
   "metadata": {},
   "source": [
    "**<font color = 'teal'> Here, one can see that one value is 'TV Movie 2019', therefore dtype of that column is showing \"Object\". So it needs to be converted to integer.**"
   ]
  },
  {
   "cell_type": "code",
   "execution_count": 36,
   "metadata": {},
   "outputs": [
    {
     "data": {
      "text/html": [
       "<div>\n",
       "<style scoped>\n",
       "    .dataframe tbody tr th:only-of-type {\n",
       "        vertical-align: middle;\n",
       "    }\n",
       "\n",
       "    .dataframe tbody tr th {\n",
       "        vertical-align: top;\n",
       "    }\n",
       "\n",
       "    .dataframe thead th {\n",
       "        text-align: right;\n",
       "    }\n",
       "</style>\n",
       "<table border=\"1\" class=\"dataframe\">\n",
       "  <thead>\n",
       "    <tr style=\"text-align: right;\">\n",
       "      <th></th>\n",
       "      <th>imdb_title_id</th>\n",
       "      <th>original_title</th>\n",
       "      <th>year</th>\n",
       "      <th>genre</th>\n",
       "      <th>duration</th>\n",
       "      <th>country</th>\n",
       "      <th>language</th>\n",
       "      <th>director</th>\n",
       "      <th>writer</th>\n",
       "      <th>production_company</th>\n",
       "      <th>actors</th>\n",
       "      <th>description</th>\n",
       "      <th>avg_vote</th>\n",
       "      <th>votes</th>\n",
       "      <th>reviews_from_users</th>\n",
       "    </tr>\n",
       "  </thead>\n",
       "  <tbody>\n",
       "    <tr>\n",
       "      <th>83917</th>\n",
       "      <td>tt8206668</td>\n",
       "      <td>Bad Education</td>\n",
       "      <td>TV Movie 2019</td>\n",
       "      <td>Biography, Comedy, Crime</td>\n",
       "      <td>108</td>\n",
       "      <td>USA</td>\n",
       "      <td>English</td>\n",
       "      <td>Cory Finley</td>\n",
       "      <td>Mike Makowsky, Robert Kolker</td>\n",
       "      <td>HBO Films</td>\n",
       "      <td>Hugh Jackman, Ray Romano, Welker White, Alliso...</td>\n",
       "      <td>The beloved superintendent of New York's Rosly...</td>\n",
       "      <td>7.1</td>\n",
       "      <td>23973</td>\n",
       "      <td>135.0</td>\n",
       "    </tr>\n",
       "  </tbody>\n",
       "</table>\n",
       "</div>"
      ],
      "text/plain": [
       "      imdb_title_id original_title           year                     genre  \\\n",
       "83917     tt8206668  Bad Education  TV Movie 2019  Biography, Comedy, Crime   \n",
       "\n",
       "       duration country language     director                        writer  \\\n",
       "83917       108     USA  English  Cory Finley  Mike Makowsky, Robert Kolker   \n",
       "\n",
       "      production_company                                             actors  \\\n",
       "83917          HBO Films  Hugh Jackman, Ray Romano, Welker White, Alliso...   \n",
       "\n",
       "                                             description  avg_vote  votes  \\\n",
       "83917  The beloved superintendent of New York's Rosly...       7.1  23973   \n",
       "\n",
       "       reviews_from_users  \n",
       "83917               135.0  "
      ]
     },
     "execution_count": 36,
     "metadata": {},
     "output_type": "execute_result"
    }
   ],
   "source": [
    "IMDBdata[IMDBdata['year'] =='TV Movie 2019']"
   ]
  },
  {
   "cell_type": "code",
   "execution_count": 37,
   "metadata": {},
   "outputs": [
    {
     "name": "stdout",
     "output_type": "stream",
     "text": [
      "[1894, 1906, 1911, 1912, 1913, 1914, 1915, 1916, 1917, 1918, 1919, 1920, 1921, 1922, 1923, 1924, 1925, 1926, 1927, 1928, 1929, 1930, 1931, 1932, 1933, 1934, 1935, 1936, 1937, 1938, 1939, 1940, 1941, 1942, 1943, 1944, 1945, 1946, 1947, 1948, 1949, 1950, 1951, 1952, 1953, 1954, 1955, 1956, 1957, 1958, 1959, 1960, 1961, 1962, 1963, 1964, 1965, 1966, 1967, 1968, 1969, 1970, 1971, 1972, 1973, 1974, 1975, 1976, 1977, 1978, 1979, 1980, 1981, 1982, 1983, 1984, 1985, 1986, 1987, 1988, 1989, 1990, 1991, 1992, 1993, 1994, 1995, 1996, 1997, 1998, 1999, 2000, 2001, 2002, 2003, 2004, 2005, 2006, 2007, 2008, 2009, 2010, 2011, 2012, 2013, 2014, 2015, 2016, 2017, 2018, 2019, 2020] \n",
      "\n",
      "112\n"
     ]
    }
   ],
   "source": [
    "IMDBdata.replace({'year': {'TV Movie 2019' : '2019'}}, inplace = True)\n",
    "IMDBdata2_year = pd.Series(IMDBdata.year)\n",
    "\n",
    "year2 = []\n",
    "\n",
    "for k in IMDBdata2_year:\n",
    "    year2.append(int(k))\n",
    "IMDBdata.year = year2\n",
    "\n",
    "print(sorted(set(year2)),\"\\n\")\n",
    "print(len(sorted(set(year2))))"
   ]
  },
  {
   "cell_type": "code",
   "execution_count": 38,
   "metadata": {},
   "outputs": [
    {
     "data": {
      "text/plain": [
       "imdb_title_id          object\n",
       "original_title         object\n",
       "year                    int64\n",
       "genre                  object\n",
       "duration                int64\n",
       "country                object\n",
       "language               object\n",
       "director               object\n",
       "writer                 object\n",
       "production_company     object\n",
       "actors                 object\n",
       "description            object\n",
       "avg_vote              float64\n",
       "votes                   int64\n",
       "reviews_from_users    float64\n",
       "dtype: object"
      ]
     },
     "execution_count": 38,
     "metadata": {},
     "output_type": "execute_result"
    }
   ],
   "source": [
    "IMDBdata.dtypes"
   ]
  },
  {
   "cell_type": "code",
   "execution_count": 39,
   "metadata": {},
   "outputs": [
    {
     "data": {
      "text/plain": [
       "2017    2621\n",
       "2018    2614\n",
       "2016    2500\n",
       "2015    2353\n",
       "2014    2314\n",
       "Name: year, dtype: int64"
      ]
     },
     "execution_count": 39,
     "metadata": {},
     "output_type": "execute_result"
    }
   ],
   "source": [
    "IMDBdata.year.value_counts().head()"
   ]
  },
  {
   "cell_type": "markdown",
   "metadata": {},
   "source": [
    "**<font color = 'teal'> This shows that maximum number of movies are produced in the year 2017.**"
   ]
  },
  {
   "cell_type": "code",
   "execution_count": 40,
   "metadata": {},
   "outputs": [
    {
     "data": {
      "text/plain": [
       "(628, 15)"
      ]
     },
     "execution_count": 40,
     "metadata": {},
     "output_type": "execute_result"
    }
   ],
   "source": [
    "IMDBdata[IMDBdata['year'] == 2020].shape"
   ]
  },
  {
   "cell_type": "code",
   "execution_count": 41,
   "metadata": {},
   "outputs": [
    {
     "data": {
      "text/plain": [
       "2221"
      ]
     },
     "execution_count": 41,
     "metadata": {},
     "output_type": "execute_result"
    }
   ],
   "source": [
    "df2 = IMDBdata[IMDBdata['year'] == 2019]\n",
    "df2.year.count()"
   ]
  },
  {
   "cell_type": "code",
   "execution_count": 42,
   "metadata": {},
   "outputs": [
    {
     "name": "stdout",
     "output_type": "stream",
     "text": [
      "['Action', 'Adventure', 'Animation', 'Biography', 'Comedy', 'Crime', 'Documentary', 'Drama', 'Family', 'Fantasy', 'Film-Noir', 'History', 'Horror', 'Music', 'Musical', 'Mystery', 'News', 'Reality-TV', 'Romance', 'Sci-Fi', 'Sport', 'Thriller', 'War', 'Western']\n"
     ]
    }
   ],
   "source": [
    "IMDBdata_genre = IMDBdata.genre.str.split(',')\n",
    "IMDBdata_genre2 = pd.Series(IMDBdata_genre)\n",
    "IMDBdata_genre2\n",
    "list_genre = []\n",
    "for i in IMDBdata_genre2:\n",
    "    list_genre.extend(i)\n",
    "list_genre2 = set(list_genre)\n",
    "genre2 = []\n",
    "for element in list_genre2:\n",
    "    genre2.append(element.strip())\n",
    "print(sorted(set(genre2)))"
   ]
  },
  {
   "cell_type": "markdown",
   "metadata": {},
   "source": [
    "# Number of movies made by each country "
   ]
  },
  {
   "cell_type": "code",
   "execution_count": 43,
   "metadata": {},
   "outputs": [
    {
     "data": {
      "text/plain": [
       "USA              26552\n",
       "India             4419\n",
       "UK                3869\n",
       "France            2650\n",
       "Japan             2484\n",
       "Italy             1795\n",
       "Canada            1612\n",
       "Germany           1130\n",
       "Hong Kong         1068\n",
       "Spain              954\n",
       "South Korea        820\n",
       "Australia          729\n",
       "UK, USA            670\n",
       "Turkey             566\n",
       "Mexico             536\n",
       "Brazil             515\n",
       "Sweden             494\n",
       "Soviet Union       464\n",
       "Italy, France      447\n",
       "France, Italy      423\n",
       "Name: country, dtype: int64"
      ]
     },
     "execution_count": 43,
     "metadata": {},
     "output_type": "execute_result"
    }
   ],
   "source": [
    "IMDB_country = IMDBdata.country.value_counts()\n",
    "IMDB_country2 = IMDB_country.head(20)\n",
    "IMDB_country2"
   ]
  },
  {
   "cell_type": "code",
   "execution_count": 44,
   "metadata": {},
   "outputs": [
    {
     "data": {
      "image/png": "[encoded data removed]",
      "text/plain": [
       "<Figure size 576x432 with 1 Axes>"
      ]
     },
     "metadata": {
      "needs_background": "light"
     },
     "output_type": "display_data"
    }
   ],
   "source": [
    "plt.figure(figsize = (8, 6))\n",
    "sns.barplot(x = IMDB_country2.index, y = IMDB_country2.values)\n",
    "plt.xticks(rotation = 90)\n",
    "plt.title('Number of movies made by each country ordered (top 20)')\n",
    "plt.show()"
   ]
  },
  {
   "cell_type": "markdown",
   "metadata": {},
   "source": [
    "**Like the Kaggle dataset, this dataset from IMDB also shows that USA ranked One in movie production, India ranked Second while UK in Third place.** "
   ]
  },
  {
   "cell_type": "code",
   "execution_count": 45,
   "metadata": {},
   "outputs": [
    {
     "data": {
      "text/html": [
       "<div>\n",
       "<style scoped>\n",
       "    .dataframe tbody tr th:only-of-type {\n",
       "        vertical-align: middle;\n",
       "    }\n",
       "\n",
       "    .dataframe tbody tr th {\n",
       "        vertical-align: top;\n",
       "    }\n",
       "\n",
       "    .dataframe thead th {\n",
       "        text-align: right;\n",
       "    }\n",
       "</style>\n",
       "<table border=\"1\" class=\"dataframe\">\n",
       "  <thead>\n",
       "    <tr style=\"text-align: right;\">\n",
       "      <th></th>\n",
       "      <th></th>\n",
       "      <th>year</th>\n",
       "      <th>duration</th>\n",
       "      <th>avg_vote</th>\n",
       "      <th>votes</th>\n",
       "      <th>reviews_from_users</th>\n",
       "    </tr>\n",
       "    <tr>\n",
       "      <th>country</th>\n",
       "      <th>language</th>\n",
       "      <th></th>\n",
       "      <th></th>\n",
       "      <th></th>\n",
       "      <th></th>\n",
       "      <th></th>\n",
       "    </tr>\n",
       "  </thead>\n",
       "  <tbody>\n",
       "    <tr>\n",
       "      <th rowspan=\"2\" valign=\"top\">Afghanistan, France</th>\n",
       "      <th>Dari</th>\n",
       "      <td>2013</td>\n",
       "      <td>85</td>\n",
       "      <td>7.3</td>\n",
       "      <td>380</td>\n",
       "      <td>4.0</td>\n",
       "    </tr>\n",
       "    <tr>\n",
       "      <th>Dari, Pushto</th>\n",
       "      <td>2004</td>\n",
       "      <td>102</td>\n",
       "      <td>7.8</td>\n",
       "      <td>448</td>\n",
       "      <td>3.0</td>\n",
       "    </tr>\n",
       "    <tr>\n",
       "      <th>Afghanistan, France, Germany, UK</th>\n",
       "      <th>Persian</th>\n",
       "      <td>2012</td>\n",
       "      <td>102</td>\n",
       "      <td>6.9</td>\n",
       "      <td>4503</td>\n",
       "      <td>19.0</td>\n",
       "    </tr>\n",
       "    <tr>\n",
       "      <th rowspan=\"2\" valign=\"top\">Afghanistan, Iran</th>\n",
       "      <th>Persian</th>\n",
       "      <td>2014</td>\n",
       "      <td>90</td>\n",
       "      <td>7.1</td>\n",
       "      <td>523</td>\n",
       "      <td>2.0</td>\n",
       "    </tr>\n",
       "    <tr>\n",
       "      <th>Persian, Dari</th>\n",
       "      <td>2018</td>\n",
       "      <td>80</td>\n",
       "      <td>6.5</td>\n",
       "      <td>217</td>\n",
       "      <td>1.0</td>\n",
       "    </tr>\n",
       "  </tbody>\n",
       "</table>\n",
       "</div>"
      ],
      "text/plain": [
       "                                                year  duration  avg_vote  \\\n",
       "country                          language                                  \n",
       "Afghanistan, France              Dari           2013        85       7.3   \n",
       "                                 Dari, Pushto   2004       102       7.8   \n",
       "Afghanistan, France, Germany, UK Persian        2012       102       6.9   \n",
       "Afghanistan, Iran                Persian        2014        90       7.1   \n",
       "                                 Persian, Dari  2018        80       6.5   \n",
       "\n",
       "                                                votes  reviews_from_users  \n",
       "country                          language                                  \n",
       "Afghanistan, France              Dari             380                 4.0  \n",
       "                                 Dari, Pushto     448                 3.0  \n",
       "Afghanistan, France, Germany, UK Persian         4503                19.0  \n",
       "Afghanistan, Iran                Persian          523                 2.0  \n",
       "                                 Persian, Dari    217                 1.0  "
      ]
     },
     "execution_count": 45,
     "metadata": {},
     "output_type": "execute_result"
    }
   ],
   "source": [
    "IMDBdata_country = IMDBdata.groupby(['country','language']).sum()\n",
    "IMDBdata_country.head()"
   ]
  },
  {
   "cell_type": "code",
   "execution_count": 46,
   "metadata": {},
   "outputs": [
    {
     "data": {
      "text/html": [
       "<div>\n",
       "<style scoped>\n",
       "    .dataframe tbody tr th:only-of-type {\n",
       "        vertical-align: middle;\n",
       "    }\n",
       "\n",
       "    .dataframe tbody tr th {\n",
       "        vertical-align: top;\n",
       "    }\n",
       "\n",
       "    .dataframe thead th {\n",
       "        text-align: right;\n",
       "    }\n",
       "</style>\n",
       "<table border=\"1\" class=\"dataframe\">\n",
       "  <thead>\n",
       "    <tr style=\"text-align: right;\">\n",
       "      <th></th>\n",
       "      <th>year</th>\n",
       "      <th>duration</th>\n",
       "      <th>avg_vote</th>\n",
       "      <th>votes</th>\n",
       "      <th>reviews_from_users</th>\n",
       "    </tr>\n",
       "    <tr>\n",
       "      <th>language</th>\n",
       "      <th></th>\n",
       "      <th></th>\n",
       "      <th></th>\n",
       "      <th></th>\n",
       "      <th></th>\n",
       "    </tr>\n",
       "  </thead>\n",
       "  <tbody>\n",
       "    <tr>\n",
       "      <th>Afrikaans, Zulu, English</th>\n",
       "      <td>1989</td>\n",
       "      <td>106</td>\n",
       "      <td>7.0</td>\n",
       "      <td>4943</td>\n",
       "      <td>39.0</td>\n",
       "    </tr>\n",
       "    <tr>\n",
       "      <th>American Sign Language</th>\n",
       "      <td>2008</td>\n",
       "      <td>100</td>\n",
       "      <td>5.5</td>\n",
       "      <td>129</td>\n",
       "      <td>10.0</td>\n",
       "    </tr>\n",
       "    <tr>\n",
       "      <th>American Sign Language, English</th>\n",
       "      <td>5951</td>\n",
       "      <td>270</td>\n",
       "      <td>18.7</td>\n",
       "      <td>2860</td>\n",
       "      <td>59.0</td>\n",
       "    </tr>\n",
       "    <tr>\n",
       "      <th>Arabic, English</th>\n",
       "      <td>4029</td>\n",
       "      <td>182</td>\n",
       "      <td>10.9</td>\n",
       "      <td>2776</td>\n",
       "      <td>31.0</td>\n",
       "    </tr>\n",
       "    <tr>\n",
       "      <th>Arabic, English, Hebrew</th>\n",
       "      <td>2010</td>\n",
       "      <td>100</td>\n",
       "      <td>6.2</td>\n",
       "      <td>523</td>\n",
       "      <td>15.0</td>\n",
       "    </tr>\n",
       "    <tr>\n",
       "      <th>...</th>\n",
       "      <td>...</td>\n",
       "      <td>...</td>\n",
       "      <td>...</td>\n",
       "      <td>...</td>\n",
       "      <td>...</td>\n",
       "    </tr>\n",
       "    <tr>\n",
       "      <th>Uzbek, English, Dari, Russian, Spanish</th>\n",
       "      <td>2018</td>\n",
       "      <td>130</td>\n",
       "      <td>6.6</td>\n",
       "      <td>64601</td>\n",
       "      <td>376.0</td>\n",
       "    </tr>\n",
       "    <tr>\n",
       "      <th>Vietnamese</th>\n",
       "      <td>2003</td>\n",
       "      <td>89</td>\n",
       "      <td>6.7</td>\n",
       "      <td>102</td>\n",
       "      <td>5.0</td>\n",
       "    </tr>\n",
       "    <tr>\n",
       "      <th>Vietnamese, English</th>\n",
       "      <td>2006</td>\n",
       "      <td>135</td>\n",
       "      <td>7.1</td>\n",
       "      <td>829</td>\n",
       "      <td>19.0</td>\n",
       "    </tr>\n",
       "    <tr>\n",
       "      <th>Yiddish</th>\n",
       "      <td>1939</td>\n",
       "      <td>93</td>\n",
       "      <td>6.7</td>\n",
       "      <td>164</td>\n",
       "      <td>6.0</td>\n",
       "    </tr>\n",
       "    <tr>\n",
       "      <th>Yiddish, English, Spanish</th>\n",
       "      <td>2017</td>\n",
       "      <td>82</td>\n",
       "      <td>6.5</td>\n",
       "      <td>1909</td>\n",
       "      <td>18.0</td>\n",
       "    </tr>\n",
       "  </tbody>\n",
       "</table>\n",
       "<p>639 rows × 5 columns</p>\n",
       "</div>"
      ],
      "text/plain": [
       "                                        year  duration  avg_vote  votes  \\\n",
       "language                                                                  \n",
       "Afrikaans, Zulu, English                1989       106       7.0   4943   \n",
       "American Sign Language                  2008       100       5.5    129   \n",
       "American Sign Language, English         5951       270      18.7   2860   \n",
       "Arabic, English                         4029       182      10.9   2776   \n",
       "Arabic, English, Hebrew                 2010       100       6.2    523   \n",
       "...                                      ...       ...       ...    ...   \n",
       "Uzbek, English, Dari, Russian, Spanish  2018       130       6.6  64601   \n",
       "Vietnamese                              2003        89       6.7    102   \n",
       "Vietnamese, English                     2006       135       7.1    829   \n",
       "Yiddish                                 1939        93       6.7    164   \n",
       "Yiddish, English, Spanish               2017        82       6.5   1909   \n",
       "\n",
       "                                        reviews_from_users  \n",
       "language                                                    \n",
       "Afrikaans, Zulu, English                              39.0  \n",
       "American Sign Language                                10.0  \n",
       "American Sign Language, English                       59.0  \n",
       "Arabic, English                                       31.0  \n",
       "Arabic, English, Hebrew                               15.0  \n",
       "...                                                    ...  \n",
       "Uzbek, English, Dari, Russian, Spanish               376.0  \n",
       "Vietnamese                                             5.0  \n",
       "Vietnamese, English                                   19.0  \n",
       "Yiddish                                                6.0  \n",
       "Yiddish, English, Spanish                             18.0  \n",
       "\n",
       "[639 rows x 5 columns]"
      ]
     },
     "execution_count": 46,
     "metadata": {},
     "output_type": "execute_result"
    }
   ],
   "source": [
    "IMDBdata_USA = IMDBdata_country.loc['USA']\n",
    "IMDBdata_USA"
   ]
  },
  {
   "cell_type": "code",
   "execution_count": 47,
   "metadata": {},
   "outputs": [
    {
     "data": {
      "text/html": [
       "<div>\n",
       "<style scoped>\n",
       "    .dataframe tbody tr th:only-of-type {\n",
       "        vertical-align: middle;\n",
       "    }\n",
       "\n",
       "    .dataframe tbody tr th {\n",
       "        vertical-align: top;\n",
       "    }\n",
       "\n",
       "    .dataframe thead th {\n",
       "        text-align: right;\n",
       "    }\n",
       "</style>\n",
       "<table border=\"1\" class=\"dataframe\">\n",
       "  <thead>\n",
       "    <tr style=\"text-align: right;\">\n",
       "      <th></th>\n",
       "      <th>year</th>\n",
       "      <th>duration</th>\n",
       "      <th>avg_vote</th>\n",
       "      <th>votes</th>\n",
       "      <th>reviews_from_users</th>\n",
       "    </tr>\n",
       "    <tr>\n",
       "      <th>language</th>\n",
       "      <th></th>\n",
       "      <th></th>\n",
       "      <th></th>\n",
       "      <th></th>\n",
       "      <th></th>\n",
       "    </tr>\n",
       "  </thead>\n",
       "  <tbody>\n",
       "    <tr>\n",
       "      <th>Assamese</th>\n",
       "      <td>8068</td>\n",
       "      <td>411</td>\n",
       "      <td>30.2</td>\n",
       "      <td>2662</td>\n",
       "      <td>96.0</td>\n",
       "    </tr>\n",
       "    <tr>\n",
       "      <th>Bengali</th>\n",
       "      <td>408827</td>\n",
       "      <td>25332</td>\n",
       "      <td>1386.4</td>\n",
       "      <td>182833</td>\n",
       "      <td>1748.0</td>\n",
       "    </tr>\n",
       "    <tr>\n",
       "      <th>Bengali, Assamese, Hindi, Tamil, Telugu, Oriya</th>\n",
       "      <td>2017</td>\n",
       "      <td>140</td>\n",
       "      <td>4.7</td>\n",
       "      <td>1076</td>\n",
       "      <td>19.0</td>\n",
       "    </tr>\n",
       "    <tr>\n",
       "      <th>Bengali, English</th>\n",
       "      <td>10008</td>\n",
       "      <td>625</td>\n",
       "      <td>31.6</td>\n",
       "      <td>910</td>\n",
       "      <td>10.0</td>\n",
       "    </tr>\n",
       "    <tr>\n",
       "      <th>Bengali, English, Hindi</th>\n",
       "      <td>2010</td>\n",
       "      <td>104</td>\n",
       "      <td>7.2</td>\n",
       "      <td>403</td>\n",
       "      <td>8.0</td>\n",
       "    </tr>\n",
       "    <tr>\n",
       "      <th>...</th>\n",
       "      <td>...</td>\n",
       "      <td>...</td>\n",
       "      <td>...</td>\n",
       "      <td>...</td>\n",
       "      <td>...</td>\n",
       "    </tr>\n",
       "    <tr>\n",
       "      <th>Telugu, Urdu, Hindi</th>\n",
       "      <td>2013</td>\n",
       "      <td>150</td>\n",
       "      <td>6.6</td>\n",
       "      <td>839</td>\n",
       "      <td>4.0</td>\n",
       "    </tr>\n",
       "    <tr>\n",
       "      <th>Urdu</th>\n",
       "      <td>13851</td>\n",
       "      <td>1080</td>\n",
       "      <td>46.5</td>\n",
       "      <td>3210</td>\n",
       "      <td>52.0</td>\n",
       "    </tr>\n",
       "    <tr>\n",
       "      <th>Urdu, English, Hindi</th>\n",
       "      <td>1963</td>\n",
       "      <td>164</td>\n",
       "      <td>6.9</td>\n",
       "      <td>183</td>\n",
       "      <td>3.0</td>\n",
       "    </tr>\n",
       "    <tr>\n",
       "      <th>Urdu, Hindi</th>\n",
       "      <td>11972</td>\n",
       "      <td>756</td>\n",
       "      <td>41.7</td>\n",
       "      <td>4329</td>\n",
       "      <td>96.0</td>\n",
       "    </tr>\n",
       "    <tr>\n",
       "      <th>Urdu, Hindi, English</th>\n",
       "      <td>2015</td>\n",
       "      <td>131</td>\n",
       "      <td>4.3</td>\n",
       "      <td>1074</td>\n",
       "      <td>23.0</td>\n",
       "    </tr>\n",
       "  </tbody>\n",
       "</table>\n",
       "<p>210 rows × 5 columns</p>\n",
       "</div>"
      ],
      "text/plain": [
       "                                                  year  duration  avg_vote  \\\n",
       "language                                                                     \n",
       "Assamese                                          8068       411      30.2   \n",
       "Bengali                                         408827     25332    1386.4   \n",
       "Bengali, Assamese, Hindi, Tamil, Telugu, Oriya    2017       140       4.7   \n",
       "Bengali, English                                 10008       625      31.6   \n",
       "Bengali, English, Hindi                           2010       104       7.2   \n",
       "...                                                ...       ...       ...   \n",
       "Telugu, Urdu, Hindi                               2013       150       6.6   \n",
       "Urdu                                             13851      1080      46.5   \n",
       "Urdu, English, Hindi                              1963       164       6.9   \n",
       "Urdu, Hindi                                      11972       756      41.7   \n",
       "Urdu, Hindi, English                              2015       131       4.3   \n",
       "\n",
       "                                                 votes  reviews_from_users  \n",
       "language                                                                    \n",
       "Assamese                                          2662                96.0  \n",
       "Bengali                                         182833              1748.0  \n",
       "Bengali, Assamese, Hindi, Tamil, Telugu, Oriya    1076                19.0  \n",
       "Bengali, English                                   910                10.0  \n",
       "Bengali, English, Hindi                            403                 8.0  \n",
       "...                                                ...                 ...  \n",
       "Telugu, Urdu, Hindi                                839                 4.0  \n",
       "Urdu                                              3210                52.0  \n",
       "Urdu, English, Hindi                               183                 3.0  \n",
       "Urdu, Hindi                                       4329                96.0  \n",
       "Urdu, Hindi, English                              1074                23.0  \n",
       "\n",
       "[210 rows x 5 columns]"
      ]
     },
     "execution_count": 47,
     "metadata": {},
     "output_type": "execute_result"
    }
   ],
   "source": [
    "IMDBdata_India = IMDBdata_country.loc['India']\n",
    "IMDBdata_India"
   ]
  },
  {
   "cell_type": "code",
   "execution_count": 48,
   "metadata": {},
   "outputs": [
    {
     "data": {
      "text/html": [
       "<div>\n",
       "<style scoped>\n",
       "    .dataframe tbody tr th:only-of-type {\n",
       "        vertical-align: middle;\n",
       "    }\n",
       "\n",
       "    .dataframe tbody tr th {\n",
       "        vertical-align: top;\n",
       "    }\n",
       "\n",
       "    .dataframe thead th {\n",
       "        text-align: right;\n",
       "    }\n",
       "</style>\n",
       "<table border=\"1\" class=\"dataframe\">\n",
       "  <thead>\n",
       "    <tr style=\"text-align: right;\">\n",
       "      <th></th>\n",
       "      <th>year</th>\n",
       "      <th>duration</th>\n",
       "      <th>avg_vote</th>\n",
       "      <th>votes</th>\n",
       "      <th>reviews_from_users</th>\n",
       "    </tr>\n",
       "    <tr>\n",
       "      <th>language</th>\n",
       "      <th></th>\n",
       "      <th></th>\n",
       "      <th></th>\n",
       "      <th></th>\n",
       "      <th></th>\n",
       "    </tr>\n",
       "  </thead>\n",
       "  <tbody>\n",
       "    <tr>\n",
       "      <th>Aboriginal, English</th>\n",
       "      <td>1970</td>\n",
       "      <td>100</td>\n",
       "      <td>5.2</td>\n",
       "      <td>2216</td>\n",
       "      <td>65.0</td>\n",
       "    </tr>\n",
       "    <tr>\n",
       "      <th>Arabic, German, English</th>\n",
       "      <td>2017</td>\n",
       "      <td>93</td>\n",
       "      <td>5.2</td>\n",
       "      <td>2164</td>\n",
       "      <td>49.0</td>\n",
       "    </tr>\n",
       "    <tr>\n",
       "      <th>Bulgarian, English, Romanian</th>\n",
       "      <td>2017</td>\n",
       "      <td>104</td>\n",
       "      <td>7.7</td>\n",
       "      <td>23337</td>\n",
       "      <td>158.0</td>\n",
       "    </tr>\n",
       "    <tr>\n",
       "      <th>Dutch, English</th>\n",
       "      <td>1965</td>\n",
       "      <td>112</td>\n",
       "      <td>7.6</td>\n",
       "      <td>14544</td>\n",
       "      <td>125.0</td>\n",
       "    </tr>\n",
       "    <tr>\n",
       "      <th>English</th>\n",
       "      <td>6750181</td>\n",
       "      <td>318296</td>\n",
       "      <td>19441.4</td>\n",
       "      <td>10737487</td>\n",
       "      <td>95794.0</td>\n",
       "    </tr>\n",
       "    <tr>\n",
       "      <th>...</th>\n",
       "      <td>...</td>\n",
       "      <td>...</td>\n",
       "      <td>...</td>\n",
       "      <td>...</td>\n",
       "      <td>...</td>\n",
       "    </tr>\n",
       "    <tr>\n",
       "      <th>Scots, English</th>\n",
       "      <td>2008</td>\n",
       "      <td>85</td>\n",
       "      <td>6.8</td>\n",
       "      <td>205</td>\n",
       "      <td>12.0</td>\n",
       "    </tr>\n",
       "    <tr>\n",
       "      <th>Scots, German</th>\n",
       "      <td>1972</td>\n",
       "      <td>46</td>\n",
       "      <td>7.4</td>\n",
       "      <td>1077</td>\n",
       "      <td>7.0</td>\n",
       "    </tr>\n",
       "    <tr>\n",
       "      <th>Urdu, English</th>\n",
       "      <td>2017</td>\n",
       "      <td>92</td>\n",
       "      <td>6.3</td>\n",
       "      <td>257</td>\n",
       "      <td>4.0</td>\n",
       "    </tr>\n",
       "    <tr>\n",
       "      <th>Welsh</th>\n",
       "      <td>4031</td>\n",
       "      <td>176</td>\n",
       "      <td>11.5</td>\n",
       "      <td>415</td>\n",
       "      <td>20.0</td>\n",
       "    </tr>\n",
       "    <tr>\n",
       "      <th>Welsh, English</th>\n",
       "      <td>1992</td>\n",
       "      <td>123</td>\n",
       "      <td>6.9</td>\n",
       "      <td>347</td>\n",
       "      <td>9.0</td>\n",
       "    </tr>\n",
       "  </tbody>\n",
       "</table>\n",
       "<p>158 rows × 5 columns</p>\n",
       "</div>"
      ],
      "text/plain": [
       "                                 year  duration  avg_vote     votes  \\\n",
       "language                                                              \n",
       "Aboriginal, English              1970       100       5.2      2216   \n",
       "Arabic, German, English          2017        93       5.2      2164   \n",
       "Bulgarian, English, Romanian     2017       104       7.7     23337   \n",
       "Dutch, English                   1965       112       7.6     14544   \n",
       "English                       6750181    318296   19441.4  10737487   \n",
       "...                               ...       ...       ...       ...   \n",
       "Scots, English                   2008        85       6.8       205   \n",
       "Scots, German                    1972        46       7.4      1077   \n",
       "Urdu, English                    2017        92       6.3       257   \n",
       "Welsh                            4031       176      11.5       415   \n",
       "Welsh, English                   1992       123       6.9       347   \n",
       "\n",
       "                              reviews_from_users  \n",
       "language                                          \n",
       "Aboriginal, English                         65.0  \n",
       "Arabic, German, English                     49.0  \n",
       "Bulgarian, English, Romanian               158.0  \n",
       "Dutch, English                             125.0  \n",
       "English                                  95794.0  \n",
       "...                                          ...  \n",
       "Scots, English                              12.0  \n",
       "Scots, German                                7.0  \n",
       "Urdu, English                                4.0  \n",
       "Welsh                                       20.0  \n",
       "Welsh, English                               9.0  \n",
       "\n",
       "[158 rows x 5 columns]"
      ]
     },
     "execution_count": 48,
     "metadata": {},
     "output_type": "execute_result"
    }
   ],
   "source": [
    "IMDBdata_UK = IMDBdata_country.loc['UK']\n",
    "IMDBdata_UK"
   ]
  },
  {
   "cell_type": "code",
   "execution_count": 49,
   "metadata": {},
   "outputs": [
    {
     "data": {
      "image/png": "[encoded data removed]",
      "text/plain": [
       "<Figure size 576x432 with 1 Axes>"
      ]
     },
     "metadata": {
      "needs_background": "light"
     },
     "output_type": "display_data"
    }
   ],
   "source": [
    "plt.figure(figsize = (8, 6))\n",
    "sns.histplot(IMDBdata.duration, bins = 20)\n",
    "plt.show()"
   ]
  },
  {
   "cell_type": "code",
   "execution_count": 50,
   "metadata": {},
   "outputs": [
    {
     "name": "stdout",
     "output_type": "stream",
     "text": [
      "Maximum movie length: 808\n",
      "Minimum movie length: 41\n"
     ]
    }
   ],
   "source": [
    "print(\"Maximum movie length:\", IMDBdata.duration.max())\n",
    "print(\"Minimum movie length:\", IMDBdata.duration.min())"
   ]
  },
  {
   "cell_type": "code",
   "execution_count": 51,
   "metadata": {},
   "outputs": [
    {
     "data": {
      "text/html": [
       "<div>\n",
       "<style scoped>\n",
       "    .dataframe tbody tr th:only-of-type {\n",
       "        vertical-align: middle;\n",
       "    }\n",
       "\n",
       "    .dataframe tbody tr th {\n",
       "        vertical-align: top;\n",
       "    }\n",
       "\n",
       "    .dataframe thead th {\n",
       "        text-align: right;\n",
       "    }\n",
       "</style>\n",
       "<table border=\"1\" class=\"dataframe\">\n",
       "  <thead>\n",
       "    <tr style=\"text-align: right;\">\n",
       "      <th></th>\n",
       "      <th>imdb_title_id</th>\n",
       "      <th>original_title</th>\n",
       "      <th>year</th>\n",
       "      <th>genre</th>\n",
       "      <th>duration</th>\n",
       "      <th>country</th>\n",
       "      <th>language</th>\n",
       "      <th>director</th>\n",
       "      <th>writer</th>\n",
       "      <th>production_company</th>\n",
       "      <th>actors</th>\n",
       "      <th>description</th>\n",
       "      <th>avg_vote</th>\n",
       "      <th>votes</th>\n",
       "      <th>reviews_from_users</th>\n",
       "    </tr>\n",
       "  </thead>\n",
       "  <tbody>\n",
       "    <tr>\n",
       "      <th>85057</th>\n",
       "      <td>tt9047474</td>\n",
       "      <td>La flor</td>\n",
       "      <td>2016</td>\n",
       "      <td>Drama, Fantasy, Musical</td>\n",
       "      <td>808</td>\n",
       "      <td>Argentina</td>\n",
       "      <td>Catalan, Spanish, French, English, Russian, Ge...</td>\n",
       "      <td>Mariano Llinás</td>\n",
       "      <td>Mariano Llinás</td>\n",
       "      <td>El Pampero Cine</td>\n",
       "      <td>Elisa Carricajo, Valeria Correa, Pilar Gamboa,...</td>\n",
       "      <td>A film in six episodes, connected by the same ...</td>\n",
       "      <td>7.7</td>\n",
       "      <td>473</td>\n",
       "      <td>5.0</td>\n",
       "    </tr>\n",
       "  </tbody>\n",
       "</table>\n",
       "</div>"
      ],
      "text/plain": [
       "      imdb_title_id original_title  year                    genre  duration  \\\n",
       "85057     tt9047474        La flor  2016  Drama, Fantasy, Musical       808   \n",
       "\n",
       "         country                                           language  \\\n",
       "85057  Argentina  Catalan, Spanish, French, English, Russian, Ge...   \n",
       "\n",
       "             director          writer production_company  \\\n",
       "85057  Mariano Llinás  Mariano Llinás    El Pampero Cine   \n",
       "\n",
       "                                                  actors  \\\n",
       "85057  Elisa Carricajo, Valeria Correa, Pilar Gamboa,...   \n",
       "\n",
       "                                             description  avg_vote  votes  \\\n",
       "85057  A film in six episodes, connected by the same ...       7.7    473   \n",
       "\n",
       "       reviews_from_users  \n",
       "85057                 5.0  "
      ]
     },
     "execution_count": 51,
     "metadata": {},
     "output_type": "execute_result"
    }
   ],
   "source": [
    "IMDBdata[IMDBdata.duration == 808]"
   ]
  },
  {
   "cell_type": "code",
   "execution_count": 52,
   "metadata": {},
   "outputs": [
    {
     "data": {
      "text/html": [
       "<div>\n",
       "<style scoped>\n",
       "    .dataframe tbody tr th:only-of-type {\n",
       "        vertical-align: middle;\n",
       "    }\n",
       "\n",
       "    .dataframe tbody tr th {\n",
       "        vertical-align: top;\n",
       "    }\n",
       "\n",
       "    .dataframe thead th {\n",
       "        text-align: right;\n",
       "    }\n",
       "</style>\n",
       "<table border=\"1\" class=\"dataframe\">\n",
       "  <thead>\n",
       "    <tr style=\"text-align: right;\">\n",
       "      <th></th>\n",
       "      <th>imdb_title_id</th>\n",
       "      <th>original_title</th>\n",
       "      <th>year</th>\n",
       "      <th>genre</th>\n",
       "      <th>duration</th>\n",
       "      <th>country</th>\n",
       "      <th>language</th>\n",
       "      <th>director</th>\n",
       "      <th>writer</th>\n",
       "      <th>production_company</th>\n",
       "      <th>actors</th>\n",
       "      <th>description</th>\n",
       "      <th>avg_vote</th>\n",
       "      <th>votes</th>\n",
       "      <th>reviews_from_users</th>\n",
       "    </tr>\n",
       "  </thead>\n",
       "  <tbody>\n",
       "    <tr>\n",
       "      <th>32798</th>\n",
       "      <td>tt0142235</td>\n",
       "      <td>Doragon bôru Z</td>\n",
       "      <td>1989</td>\n",
       "      <td>Animation, Action, Adventure</td>\n",
       "      <td>41</td>\n",
       "      <td>Japan</td>\n",
       "      <td>Japanese</td>\n",
       "      <td>Daisuke Nishio</td>\n",
       "      <td>Akira Toriyama, Takao Koyama</td>\n",
       "      <td>Toei Animation</td>\n",
       "      <td>Masako Nozawa, Toshio Furukawa, Hiromi Tsuru, ...</td>\n",
       "      <td>In order to wish for immortality and avenge hi...</td>\n",
       "      <td>7.0</td>\n",
       "      <td>6042</td>\n",
       "      <td>17.0</td>\n",
       "    </tr>\n",
       "  </tbody>\n",
       "</table>\n",
       "</div>"
      ],
      "text/plain": [
       "      imdb_title_id  original_title  year                         genre  \\\n",
       "32798     tt0142235  Doragon bôru Z  1989  Animation, Action, Adventure   \n",
       "\n",
       "       duration country  language        director  \\\n",
       "32798        41   Japan  Japanese  Daisuke Nishio   \n",
       "\n",
       "                             writer production_company  \\\n",
       "32798  Akira Toriyama, Takao Koyama     Toei Animation   \n",
       "\n",
       "                                                  actors  \\\n",
       "32798  Masako Nozawa, Toshio Furukawa, Hiromi Tsuru, ...   \n",
       "\n",
       "                                             description  avg_vote  votes  \\\n",
       "32798  In order to wish for immortality and avenge hi...       7.0   6042   \n",
       "\n",
       "       reviews_from_users  \n",
       "32798                17.0  "
      ]
     },
     "execution_count": 52,
     "metadata": {},
     "output_type": "execute_result"
    }
   ],
   "source": [
    "IMDBdata[IMDBdata.duration == 41]"
   ]
  },
  {
   "cell_type": "markdown",
   "metadata": {},
   "source": [
    "# Total Number of Languages "
   ]
  },
  {
   "cell_type": "code",
   "execution_count": 53,
   "metadata": {},
   "outputs": [
    {
     "name": "stdout",
     "output_type": "stream",
     "text": [
      "['Abkhazian', 'Aboriginal', 'Afrikaans', 'Akan', 'Albanian', 'Algonquin', 'American Sign Language', 'Amharic', 'Ancient (to 1453)', 'Apache languages', 'Arabic', 'Aragonese', 'Aramaic', 'Arapaho', 'Armenian', 'Assamese', 'Assyrian Neo-Aramaic', 'Athapascan languages', 'Australian Sign Language', 'Awadhi', 'Aymara', 'Azerbaijani', 'Bable', 'Balinese', 'Bambara', 'Basque', 'Belarusian', 'Bemba', 'Bengali', 'Berber languages', 'Bhojpuri', 'Bicolano', 'Bosnian', 'Brazilian Sign Language', 'Breton', 'British Sign Language', 'Bulgarian', 'Burmese', 'Cantonese', 'Catalan', 'Central American Indian languages', 'Chechen', 'Cheyenne', 'Chinese', 'Cornish', 'Corsican', 'Cree', 'Creek', 'Crimean Tatar', 'Croatian', 'Crow', 'Czech', 'Danish', 'Dari', 'Dinka', 'Dutch', 'Dyula', 'Dzongkha', 'Eastern Frisian', 'Egyptian (Ancient)', 'English', 'Esperanto', 'Estonian', 'Ewe', 'Faroese', 'Filipino', 'Finnish', 'Flemish', 'French', 'French Sign Language', 'Frisian', 'Fulah', 'Gallegan', 'Georgian', 'German', 'German Sign Language', 'Greek', 'Greenlandic', 'Guarani', 'Gujarati', 'Gumatj', 'Haitian', 'Hakka', 'Haryanvi', 'Hassanya', 'Hausa', 'Hawaiian', 'Hebrew', 'Hindi', 'Hmong', 'Hokkien', 'Hopi', 'Hungarian', 'Ibo', 'Icelandic', 'Indian Sign Language', 'Indonesian', 'Inuktitut', 'Irish', 'Italian', 'Japanese', 'Japanese Sign Language', 'Kabuverdianu', 'Kabyle', 'Kannada', 'Kashmiri', 'Kazakh', 'Khmer', 'Kikuyu', 'Kinyarwanda', 'Kirghiz', 'Kirundi', 'Klingon', 'Konkani', 'Korean', 'Korean Sign Language', 'Kriolu', 'Kuna', 'Kurdish', 'Ladakhi', 'Ladino', 'Lao', 'Latin', 'Latvian', 'Lingala', 'Lithuanian', 'Low German', 'Luxembourgish', 'Macedonian', 'Malay', 'Malayalam', 'Malinka', 'Maltese', 'Mandarin', 'Mandingo', 'Manipuri', 'Maori', 'Mapudungun', 'Marathi', 'Mari', 'Maya', 'Mende', 'Micmac', 'Middle English', 'Min Nan', 'Minangkabau', 'Mirandese', 'Mixtec', 'Mohawk', 'Mongolian', 'More', 'Nahuatl', 'Nama', 'Navajo', 'Neapolitan', 'Nepali', 'None', 'Norse', 'North American Indian', 'Norwegian', 'Nyanja', 'Occitan', 'Ojibwa', 'Old', 'Old English', 'Oriya', 'Papiamento', 'Parsee', 'Pawnee', 'Persian', 'Peul', 'Polish', 'Polynesian', 'Portuguese', 'Punjabi', 'Purepecha', 'Pushto', 'Quechua', 'Quenya', 'Raeto-Romance', 'Rajasthani', 'Romanian', 'Romany', 'Russian', 'Russian Sign Language', 'Ryukyuan', 'Saami', 'Samoan', 'Sanskrit', 'Sardinian', 'Scanian', 'Scots', 'Scottish Gaelic', 'Serbian', 'Serbo-Croatian', 'Shanghainese', 'Shanxi', 'Shona', 'Shoshoni', 'Sicilian', 'Sign Languages', 'Sindarin', 'Sindhi', 'Sinhalese', 'Sioux', 'Slovak', 'Slovenian', 'Somali', 'Songhay', 'Soninke', 'Southern Sotho', 'Spanish', 'Spanish Sign Language', 'Sranan', 'Swahili', 'Swedish', 'Swiss German', 'Syriac', 'Tagalog', 'Tajik', 'Tamashek', 'Tamil', 'Tatar', 'Telugu', 'Teochew', 'Thai', 'Tibetan', 'Tigrigna', 'Tok Pisin', 'Tonga', 'Tswana', 'Tulu', 'Tupi', 'Turkish', 'Turkmen', 'Tzotzil', 'Uighur', 'Ukrainian', 'Ungwatsi', 'Urdu', 'Uzbek', 'Vietnamese', 'Visayan', 'Washoe', 'Welsh', 'Wolof', 'Xhosa', 'Yiddish', 'Yoruba', 'Zulu', 'Aboriginal', 'Afrikaans', 'Akan', 'Albanian', 'Algonquin', 'American Sign Language', 'Amharic', 'Arabic', 'Aramaic', 'Armenian', 'Aromanian', 'Assamese', 'Aymara', 'Azerbaijani', 'Bambara', 'Basque', 'Belarusian', 'Bengali', 'Bosnian', 'Brazilian Sign Language', 'Bulgarian', 'Burmese', 'Cantonese', 'Catalan', 'Chechen', 'Chinese', 'Cree', 'Croatian', 'Czech', 'Danish', 'Dari', 'Dutch', 'Dyula', 'Dzongkha', 'Egyptian (Ancient)', 'English', 'Esperanto', 'Estonian', 'Faroese', 'Filipino', 'Finnish', 'Flemish', 'French', 'Frisian', 'Gallegan', 'Georgian', 'German', 'Greek', 'Greenlandic', 'Guarani', 'Gujarati', 'Haida', 'Hakka', 'Hawaiian', 'Hebrew', 'Himachali', 'Hindi', 'Hokkien', 'Hungarian', 'Ibo', 'Icelandic', 'Indonesian', 'Inuktitut', 'Irish', 'Italian', 'Japanese', 'Kabuverdianu', 'Kannada', 'Kazakh', 'Khmer', 'Kinyarwanda', 'Kirghiz', 'Korean', 'Kru', 'Kurdish', 'Lao', 'Latin', 'Latvian', 'Lingala', 'Lithuanian', 'Low German', 'Luxembourgish', 'Macedonian', 'Malay', 'Malayalam', 'Maltese', 'Mandarin', 'Maori', 'Marathi', 'Mari', 'Maya', 'Min Nan', 'Mongolian', 'Montagnais', 'More', 'Nahuatl', 'Neapolitan', 'Nepali', 'None', 'Norwegian', 'Persian', 'Polish', 'Portuguese', 'Punjabi', 'Purepecha', 'Pushto', 'Quechua', 'Rhaetian', 'Romanian', 'Romany', 'Rotuman', 'Russian', 'Russian Sign Language', 'Saami', 'Samoan', 'Sanskrit', 'Sardinian', 'Scanian', 'Scots', 'Serbian', 'Serbo-Croatian', 'Sicilian', 'Sign Languages', 'Sinhalese', 'Slovak', 'Slovenian', 'Somali', 'Southern Sotho', 'Spanish', 'Spanish Sign Language', 'Swahili', 'Swedish', 'Swiss German', 'Tagalog', 'Tajik', 'Tamil', 'Tarahumara', 'Telugu', 'Thai', 'Tibetan', 'Tigrigna', 'Tswana', 'Tupi', 'Turkish', 'Tzotzil', 'Ukrainian', 'Ukrainian Sign Language', 'Urdu', 'Uzbek', 'Vietnamese', 'Wayuu', 'Welsh', 'Wolof', 'Xhosa', 'Yakut', 'Yiddish', 'Yoruba', 'Zulu']\n",
      "\n",
      " 408\n",
      "\n",
      "Total number of languages: 261\n"
     ]
    }
   ],
   "source": [
    "IMDBdata_language = IMDBdata.language.str.split(',')\n",
    "IMDBdata_language2 = pd.Series(IMDBdata_language)\n",
    "IMDBdata_language2\n",
    "list_language = []\n",
    "for i in IMDBdata_language2:\n",
    "    list_language.extend(i)\n",
    "\n",
    "languages = sorted(set(list_language))\n",
    "\n",
    "languages2 = []\n",
    "for each in languages:\n",
    "    languages2.append(each.strip())\n",
    "print(languages2)\n",
    "print(\"\\n\",len(languages2))\n",
    "print(\"\\nTotal number of languages:\", len(set(languages2))) \n"
   ]
  },
  {
   "cell_type": "code",
   "execution_count": 54,
   "metadata": {},
   "outputs": [
    {
     "data": {
      "text/plain": [
       "2514     Vishnupant Govind Damle, Sheikh Fattelal\n",
       "5736                                   Raj Kapoor\n",
       "6072                                 Mehboob Khan\n",
       "6082                                   Raj Kapoor\n",
       "6233                                 Kamal Amrohi\n",
       "                           ...                   \n",
       "85823                                 Vyasan K.P.\n",
       "85828                              Vijith Nambiar\n",
       "85843                            Lokesh Kanagaraj\n",
       "85844                             Aswani Kumar V.\n",
       "85847                                         Zam\n",
       "Name: director, Length: 4419, dtype: object"
      ]
     },
     "execution_count": 54,
     "metadata": {},
     "output_type": "execute_result"
    }
   ],
   "source": [
    "IMDB_Ind_director = IMDBdata[IMDBdata['country'] == 'India']['director']\n",
    "IMDB_Ind_director"
   ]
  },
  {
   "cell_type": "code",
   "execution_count": 55,
   "metadata": {},
   "outputs": [
    {
     "data": {
      "text/plain": [
       "Ram Gopal Varma                                        38\n",
       "David Dhawan                                           37\n",
       "Priyadarshan                                           32\n",
       "Mahesh Bhatt                                           27\n",
       "Satyajit Ray                                           25\n",
       "Vikram Bhatt                                           24\n",
       "Puri Jagannadh                                         21\n",
       "Mani Ratnam                                            20\n",
       "Hrishikesh Mukherjee                                   19\n",
       "Yash Chopra                                            18\n",
       "Shyam Benegal                                          16\n",
       "Rituparno Ghosh                                        16\n",
       "Gautham Menon                                          15\n",
       "Abbas Alibhai Burmawalla, Mastan Alibhai Burmawalla    15\n",
       "Srijit Mukherji                                        15\n",
       "K.S. Ravikumar                                         14\n",
       "Anurag Kashyap                                         14\n",
       "Shakti Samanta                                         14\n",
       "Rajkumar Santoshi                                      14\n",
       "S. Shankar                                             13\n",
       "Name: director, dtype: int64"
      ]
     },
     "execution_count": 55,
     "metadata": {},
     "output_type": "execute_result"
    }
   ],
   "source": [
    "IMDB_Ind_director.value_counts().head(20)"
   ]
  },
  {
   "cell_type": "code",
   "execution_count": 56,
   "metadata": {},
   "outputs": [
    {
     "data": {
      "text/plain": [
       "Michael Curtiz        82\n",
       "Lesley Selander       77\n",
       "Lloyd Bacon           73\n",
       "William Beaudine      64\n",
       "Gordon Douglas        63\n",
       "Richard Thorpe        62\n",
       "John Ford             59\n",
       "Mervyn LeRoy          59\n",
       "Norman Taurog         56\n",
       "Joseph Kane           53\n",
       "Alfred E. Green       52\n",
       "Raoul Walsh           52\n",
       "William A. Seiter     51\n",
       "William A. Wellman    51\n",
       "George Marshall       50\n",
       "Roy Del Ruth          48\n",
       "Ray Enright           48\n",
       "Lew Landers           48\n",
       "Fred Olen Ray         46\n",
       "Henry Hathaway        46\n",
       "Name: director, dtype: int64"
      ]
     },
     "execution_count": 56,
     "metadata": {},
     "output_type": "execute_result"
    }
   ],
   "source": [
    "IMDB_USA_director = IMDBdata[IMDBdata['country'] == 'USA']['director']\n",
    "IMDB_USA_director.value_counts().head(20)"
   ]
  },
  {
   "cell_type": "code",
   "execution_count": 57,
   "metadata": {},
   "outputs": [
    {
     "data": {
      "text/plain": [
       "Gerald Thomas           39\n",
       "Ralph Thomas            34\n",
       "Terence Fisher          30\n",
       "Basil Dearden           29\n",
       "Val Guest               28\n",
       "Ken Annakin             22\n",
       "John Gilling            22\n",
       "Anthony Asquith         22\n",
       "Lewis Gilbert           22\n",
       "Alfred Hitchcock        21\n",
       "Roy Ward Baker          21\n",
       "Freddie Francis         20\n",
       "Carol Reed              19\n",
       "Marcel Varnel           17\n",
       "J. Lee Thompson         16\n",
       "Andrew Jones            16\n",
       "John Paddy Carstairs    16\n",
       "Herbert Wilcox          15\n",
       "Michael Winterbottom    15\n",
       "Lance Comfort           15\n",
       "Name: director, dtype: int64"
      ]
     },
     "execution_count": 57,
     "metadata": {},
     "output_type": "execute_result"
    }
   ],
   "source": [
    "IMDB_UK_director = IMDBdata[IMDBdata['country'] == 'UK']['director']\n",
    "IMDB_UK_director.value_counts().head(20)"
   ]
  },
  {
   "cell_type": "markdown",
   "metadata": {},
   "source": [
    "# Insight into Movie Production companies from top movie production company"
   ]
  },
  {
   "cell_type": "code",
   "execution_count": 58,
   "metadata": {},
   "outputs": [
    {
     "data": {
      "text/plain": [
       "29121"
      ]
     },
     "execution_count": 58,
     "metadata": {},
     "output_type": "execute_result"
    }
   ],
   "source": [
    "IMDBdata.production_company.nunique()"
   ]
  },
  {
   "cell_type": "code",
   "execution_count": 59,
   "metadata": {},
   "outputs": [
    {
     "data": {
      "text/plain": [
       "Metro-Goldwyn-Mayer (MGM)     1267\n",
       "Warner Bros.                  1143\n",
       "Columbia Pictures              909\n",
       "Paramount Pictures             888\n",
       "Twentieth Century Fox          863\n",
       "                              ... \n",
       "Weirdsmobile Productions         1\n",
       "BLC Services                     1\n",
       "Cooper Movie Productions         1\n",
       "Cine Artists International       1\n",
       "Bartlett Films                   1\n",
       "Name: production_company, Length: 29121, dtype: int64"
      ]
     },
     "execution_count": 59,
     "metadata": {},
     "output_type": "execute_result"
    }
   ],
   "source": [
    "IMDBdata.production_company.value_counts()"
   ]
  },
  {
   "cell_type": "markdown",
   "metadata": {},
   "source": [
    "**<font color = 'teal'> USA's top movie production companies </font>** "
   ]
  },
  {
   "cell_type": "code",
   "execution_count": 60,
   "metadata": {},
   "outputs": [
    {
     "data": {
      "text/plain": [
       "11076"
      ]
     },
     "execution_count": 60,
     "metadata": {},
     "output_type": "execute_result"
    }
   ],
   "source": [
    "IMDBdata[IMDBdata.country =='USA']['production_company'].nunique()"
   ]
  },
  {
   "cell_type": "code",
   "execution_count": 61,
   "metadata": {},
   "outputs": [
    {
     "data": {
      "text/plain": [
       "Metro-Goldwyn-Mayer (MGM)                1182\n",
       "Warner Bros.                              967\n",
       "Paramount Pictures                        771\n",
       "Twentieth Century Fox                     760\n",
       "Columbia Pictures                         738\n",
       "Universal Pictures                        563\n",
       "RKO Radio Pictures                        530\n",
       "Universal International Pictures (UI)     272\n",
       "Republic Pictures (I)                     208\n",
       "First National Pictures                   152\n",
       "New Line Cinema                           150\n",
       "Touchstone Pictures                       114\n",
       "Monogram Pictures                         114\n",
       "Walt Disney Productions                   110\n",
       "Fox Film Corporation                      104\n",
       "Walt Disney Pictures                       91\n",
       "Sam Katzman Productions                    82\n",
       "TriStar Pictures                           79\n",
       "Allied Artists Pictures                    69\n",
       "The Samuel Goldwyn Company                 66\n",
       "Name: production_company, dtype: int64"
      ]
     },
     "execution_count": 61,
     "metadata": {},
     "output_type": "execute_result"
    }
   ],
   "source": [
    "IMDBdata[IMDBdata.country =='USA']['production_company'].value_counts().head(20)"
   ]
  },
  {
   "cell_type": "markdown",
   "metadata": {},
   "source": [
    "**<font color = 'teal'> India's top movie production companies </font>**  "
   ]
  },
  {
   "cell_type": "code",
   "execution_count": 62,
   "metadata": {},
   "outputs": [
    {
     "data": {
      "text/plain": [
       "2205"
      ]
     },
     "execution_count": 62,
     "metadata": {},
     "output_type": "execute_result"
    }
   ],
   "source": [
    "IMDBdata[IMDBdata.country =='India']['production_company'].nunique()"
   ]
  },
  {
   "cell_type": "code",
   "execution_count": 63,
   "metadata": {},
   "outputs": [
    {
     "data": {
      "text/plain": [
       "NH Studioz                                               107\n",
       "SVF Entertainment                                         54\n",
       "Yash Raj Films                                            48\n",
       "Eros International                                        38\n",
       "Dharma Productions                                        35\n",
       "Sri Venkateswara Creations                                25\n",
       "Fox STAR Studios                                          24\n",
       "UTV Motion Pictures                                       23\n",
       "National Film Development Corporation of India (NFDC)     19\n",
       "Angel Digital Private Limited                             19\n",
       "Mukta Arts                                                19\n",
       "Raajkamal Films International                             18\n",
       "Everest Entertainment                                     17\n",
       "Rajshri Productions                                       17\n",
       "Balaji Motion Pictures                                    16\n",
       "R.K. Films Ltd.                                           16\n",
       "Annapurna Studios                                         15\n",
       "Viacom18 Motion Pictures                                  15\n",
       "Percept Picture Company                                   15\n",
       "Geetha Arts                                               15\n",
       "Name: production_company, dtype: int64"
      ]
     },
     "execution_count": 63,
     "metadata": {},
     "output_type": "execute_result"
    }
   ],
   "source": [
    "IMDBdata[IMDBdata.country =='India']['production_company'].value_counts().head(20)"
   ]
  },
  {
   "cell_type": "markdown",
   "metadata": {},
   "source": [
    "**<font color = 'teal'> UK's top movie production companies </font>** "
   ]
  },
  {
   "cell_type": "code",
   "execution_count": 64,
   "metadata": {},
   "outputs": [
    {
     "data": {
      "text/plain": [
       "1910"
      ]
     },
     "execution_count": 64,
     "metadata": {},
     "output_type": "execute_result"
    }
   ],
   "source": [
    "IMDBdata[IMDBdata.country =='UK']['production_company'].nunique()"
   ]
  },
  {
   "cell_type": "code",
   "execution_count": 65,
   "metadata": {},
   "outputs": [
    {
     "data": {
      "text/plain": [
       "The Rank Organisation                            107\n",
       "Hammer Films                                      68\n",
       "Gainsborough Pictures                             67\n",
       "Ealing Studios                                    63\n",
       "London Film Productions                           59\n",
       "Associated British Picture Corporation (ABPC)     58\n",
       "BBC Films                                         48\n",
       "Two Cities Films                                  38\n",
       "Gaumont British Picture Corporation               36\n",
       "Columbia Pictures                                 34\n",
       "Channel Four Films                                31\n",
       "British Broadcasting Corporation (BBC)            29\n",
       "British Screen Productions                        25\n",
       "Romulus Films                                     24\n",
       "Columbia Pictures Corporation                     23\n",
       "J. Arthur Rank Organisation                       22\n",
       "EMI Films                                         22\n",
       "Peter Rogers Productions                          20\n",
       "British Film Institute (BFI)                      19\n",
       "Arts Council of England                           19\n",
       "Name: production_company, dtype: int64"
      ]
     },
     "execution_count": 65,
     "metadata": {},
     "output_type": "execute_result"
    }
   ],
   "source": [
    "IMDBdata[IMDBdata.country =='UK']['production_company'].value_counts().head(20)"
   ]
  },
  {
   "cell_type": "markdown",
   "metadata": {},
   "source": [
    "# Insight into actors"
   ]
  },
  {
   "cell_type": "code",
   "execution_count": 66,
   "metadata": {},
   "outputs": [],
   "source": [
    "# This coding output was taking was taking lots of space, hence didn't carry out\n",
    "#IMDBdata_actors2 = IMDBdata.actors.str.split(',')\n",
    "#IMDBdata_actors3 = pd.Series(IMDBdata_actors2)\n",
    "#print(IMDBdata_actors3)\n",
    "\n",
    "#list_actors3 = []\n",
    "\n",
    "#for i in IMDBdata_actors3:\n",
    "#    list_actors3.extend(i)\n",
    "\n",
    "#IMDBdata_actors4 = sorted(set(list_actors3))\n",
    "#print(IMDBdata_actors4)\n",
    "\n",
    "#list_actors = []\n",
    "#for j in IMDBdata_actors4:\n",
    "#    list_actors.append(j.strip())\n",
    "#print(list_actors)\n",
    "#print(len(list_actors))\n",
    "#print(set(list_actors))\n"
   ]
  },
  {
   "cell_type": "code",
   "execution_count": 67,
   "metadata": {},
   "outputs": [
    {
     "data": {
      "image/png": "[encoded data removed]",
      "text/plain": [
       "<Figure size 576x432 with 1 Axes>"
      ]
     },
     "metadata": {
      "needs_background": "light"
     },
     "output_type": "display_data"
    }
   ],
   "source": [
    "plt.figure(figsize = (8, 6))\n",
    "sns.histplot(IMDBdata.avg_vote, bins = 10)\n",
    "plt.show()"
   ]
  },
  {
   "cell_type": "code",
   "execution_count": 68,
   "metadata": {},
   "outputs": [
    {
     "data": {
      "image/png": "[encoded data removed]",
      "text/plain": [
       "<Figure size 576x432 with 1 Axes>"
      ]
     },
     "metadata": {
      "needs_background": "light"
     },
     "output_type": "display_data"
    }
   ],
   "source": [
    "plt.figure(figsize = (8, 6))\n",
    "sns.histplot(IMDBdata.reviews_from_users, bins = 10)\n",
    "plt.show()"
   ]
  },
  {
   "cell_type": "code",
   "execution_count": 69,
   "metadata": {},
   "outputs": [
    {
     "data": {
      "image/png": "[encoded data removed]",
      "text/plain": [
       "<Figure size 576x432 with 1 Axes>"
      ]
     },
     "metadata": {
      "needs_background": "light"
     },
     "output_type": "display_data"
    }
   ],
   "source": [
    "plt.figure(figsize = (8, 6))\n",
    "sns.histplot(IMDBdata.votes, bins = 10)\n",
    "plt.show()"
   ]
  },
  {
   "cell_type": "code",
   "execution_count": 70,
   "metadata": {},
   "outputs": [
    {
     "data": {
      "image/png": "[encoded data removed]",
      "text/plain": [
       "<Figure size 576x432 with 1 Axes>"
      ]
     },
     "metadata": {
      "needs_background": "light"
     },
     "output_type": "display_data"
    }
   ],
   "source": [
    "plt.figure(figsize = (8, 6))\n",
    "sns.histplot(IMDBdata.votes, bins = 10)\n",
    "plt.xlim([0, 1000])\n",
    "plt.show()"
   ]
  },
  {
   "cell_type": "code",
   "execution_count": 71,
   "metadata": {},
   "outputs": [
    {
     "data": {
      "text/plain": [
       "Index(['imdb_title_id', 'original_title', 'year', 'genre', 'duration',\n",
       "       'country', 'language', 'director', 'writer', 'production_company',\n",
       "       'actors', 'description', 'avg_vote', 'votes', 'reviews_from_users'],\n",
       "      dtype='object')"
      ]
     },
     "execution_count": 71,
     "metadata": {},
     "output_type": "execute_result"
    }
   ],
   "source": [
    "IMDBdata.columns"
   ]
  },
  {
   "cell_type": "markdown",
   "metadata": {},
   "source": [
    "**<font color = 'teal'> The 'imdb_title_id' column seems to be not useful for further analysis or building Machine Learning model. Hence this columns needs to be dropped from the dataset.**"
   ]
  },
  {
   "cell_type": "code",
   "execution_count": 72,
   "metadata": {},
   "outputs": [],
   "source": [
    "IMDBdata.drop(columns = ['imdb_title_id'], inplace = True )"
   ]
  },
  {
   "cell_type": "code",
   "execution_count": 73,
   "metadata": {},
   "outputs": [],
   "source": [
    "#Netflix.merge(IMDBdata, how = 'left').head(2)"
   ]
  },
  {
   "cell_type": "code",
   "execution_count": 74,
   "metadata": {},
   "outputs": [],
   "source": [
    "#IMDBdata.merge(Netflix, how = 'left').head()"
   ]
  },
  {
   "cell_type": "markdown",
   "metadata": {},
   "source": [
    "**<font color = 'teal'> To have a look into the correlation between columns in this datset, a pairplot was plotted.**"
   ]
  },
  {
   "cell_type": "code",
   "execution_count": 75,
   "metadata": {},
   "outputs": [],
   "source": [
    "IMDBdata.dropna(inplace = True)"
   ]
  },
  {
   "cell_type": "code",
   "execution_count": 76,
   "metadata": {},
   "outputs": [
    {
     "data": {
      "image/png": "[encoded data removed]",
      "text/plain": [
       "<Figure size 900x900 with 30 Axes>"
      ]
     },
     "metadata": {
      "needs_background": "light"
     },
     "output_type": "display_data"
    }
   ],
   "source": [
    "sns.pairplot(IMDBdata)\n",
    "plt.show()"
   ]
  },
  {
   "cell_type": "code",
   "execution_count": 77,
   "metadata": {},
   "outputs": [],
   "source": [
    "#IMDBdata.merge(Netflix, how = 'left').head()"
   ]
  },
  {
   "cell_type": "markdown",
   "metadata": {},
   "source": [
    "# Part-III"
   ]
  },
  {
   "cell_type": "markdown",
   "metadata": {},
   "source": [
    "**<font color = 'teal'> For further investigation and building Machine learning model, the two datasets are merged. The IMDB dataset is big, hence Kaggle dataset was merged into it.</font>**"
   ]
  },
  {
   "cell_type": "code",
   "execution_count": 78,
   "metadata": {},
   "outputs": [
    {
     "data": {
      "text/plain": [
       "Index(['title', 'cast', 'country', 'date_added', 'release_year',\n",
       "       'duration_min', 'listed_in', 'description'],\n",
       "      dtype='object')"
      ]
     },
     "execution_count": 78,
     "metadata": {},
     "output_type": "execute_result"
    }
   ],
   "source": [
    "Netflix.columns"
   ]
  },
  {
   "cell_type": "code",
   "execution_count": 79,
   "metadata": {},
   "outputs": [
    {
     "data": {
      "text/plain": [
       "Index(['original_title', 'year', 'genre', 'duration', 'country', 'language',\n",
       "       'director', 'writer', 'production_company', 'actors', 'description',\n",
       "       'avg_vote', 'votes', 'reviews_from_users'],\n",
       "      dtype='object')"
      ]
     },
     "execution_count": 79,
     "metadata": {},
     "output_type": "execute_result"
    }
   ],
   "source": [
    "IMDBdata.columns"
   ]
  },
  {
   "cell_type": "code",
   "execution_count": 80,
   "metadata": {},
   "outputs": [],
   "source": [
    "IMDBdata.rename(columns = {'original_title': 'title', 'year': 'release_year', 'duration': 'duration_min'}, inplace = True)"
   ]
  },
  {
   "cell_type": "code",
   "execution_count": 81,
   "metadata": {},
   "outputs": [],
   "source": [
    "Netflix.rename(columns = {'cast': 'actors', 'listed_in': 'genre'}, inplace = True)"
   ]
  },
  {
   "cell_type": "code",
   "execution_count": 82,
   "metadata": {},
   "outputs": [
    {
     "data": {
      "text/plain": [
       "Index(['title', 'actors', 'country', 'date_added', 'release_year',\n",
       "       'duration_min', 'genre', 'description'],\n",
       "      dtype='object')"
      ]
     },
     "execution_count": 82,
     "metadata": {},
     "output_type": "execute_result"
    }
   ],
   "source": [
    "Netflix.columns"
   ]
  },
  {
   "cell_type": "code",
   "execution_count": 83,
   "metadata": {},
   "outputs": [
    {
     "data": {
      "text/plain": [
       "Index(['title', 'release_year', 'genre', 'duration_min', 'country', 'language',\n",
       "       'director', 'writer', 'production_company', 'actors', 'description',\n",
       "       'avg_vote', 'votes', 'reviews_from_users'],\n",
       "      dtype='object')"
      ]
     },
     "execution_count": 83,
     "metadata": {},
     "output_type": "execute_result"
    }
   ],
   "source": [
    "IMDBdata.columns"
   ]
  },
  {
   "cell_type": "code",
   "execution_count": 84,
   "metadata": {},
   "outputs": [
    {
     "data": {
      "text/html": [
       "<div>\n",
       "<style scoped>\n",
       "    .dataframe tbody tr th:only-of-type {\n",
       "        vertical-align: middle;\n",
       "    }\n",
       "\n",
       "    .dataframe tbody tr th {\n",
       "        vertical-align: top;\n",
       "    }\n",
       "\n",
       "    .dataframe thead th {\n",
       "        text-align: right;\n",
       "    }\n",
       "</style>\n",
       "<table border=\"1\" class=\"dataframe\">\n",
       "  <thead>\n",
       "    <tr style=\"text-align: right;\">\n",
       "      <th></th>\n",
       "      <th>title</th>\n",
       "      <th>release_year</th>\n",
       "      <th>genre</th>\n",
       "      <th>duration_min</th>\n",
       "      <th>country</th>\n",
       "      <th>language</th>\n",
       "      <th>director</th>\n",
       "      <th>writer</th>\n",
       "      <th>production_company</th>\n",
       "      <th>actors</th>\n",
       "      <th>description</th>\n",
       "      <th>avg_vote</th>\n",
       "      <th>votes</th>\n",
       "      <th>reviews_from_users</th>\n",
       "      <th>date_added</th>\n",
       "    </tr>\n",
       "  </thead>\n",
       "  <tbody>\n",
       "    <tr>\n",
       "      <th>0</th>\n",
       "      <td>Miss Jerry</td>\n",
       "      <td>1894</td>\n",
       "      <td>Romance</td>\n",
       "      <td>45</td>\n",
       "      <td>USA</td>\n",
       "      <td>None</td>\n",
       "      <td>Alexander Black</td>\n",
       "      <td>Alexander Black</td>\n",
       "      <td>Alexander Black Photoplays</td>\n",
       "      <td>Blanche Bayliss, William Courtenay, Chauncey D...</td>\n",
       "      <td>The adventures of a female reporter in the 1890s.</td>\n",
       "      <td>5.9</td>\n",
       "      <td>154</td>\n",
       "      <td>1.0</td>\n",
       "      <td>NaN</td>\n",
       "    </tr>\n",
       "    <tr>\n",
       "      <th>1</th>\n",
       "      <td>The Story of the Kelly Gang</td>\n",
       "      <td>1906</td>\n",
       "      <td>Biography, Crime, Drama</td>\n",
       "      <td>70</td>\n",
       "      <td>Australia</td>\n",
       "      <td>None</td>\n",
       "      <td>Charles Tait</td>\n",
       "      <td>Charles Tait</td>\n",
       "      <td>J. and N. Tait</td>\n",
       "      <td>Elizabeth Tait, John Tait, Norman Campbell, Be...</td>\n",
       "      <td>True story of notorious Australian outlaw Ned ...</td>\n",
       "      <td>6.1</td>\n",
       "      <td>589</td>\n",
       "      <td>7.0</td>\n",
       "      <td>NaN</td>\n",
       "    </tr>\n",
       "    <tr>\n",
       "      <th>2</th>\n",
       "      <td>Cleopatra</td>\n",
       "      <td>1912</td>\n",
       "      <td>Drama, History</td>\n",
       "      <td>100</td>\n",
       "      <td>USA</td>\n",
       "      <td>English</td>\n",
       "      <td>Charles L. Gaskill</td>\n",
       "      <td>Victorien Sardou</td>\n",
       "      <td>Helen Gardner Picture Players</td>\n",
       "      <td>Helen Gardner, Pearl Sindelar, Miss Fielding, ...</td>\n",
       "      <td>The fabled queen of Egypt's affair with Roman ...</td>\n",
       "      <td>5.2</td>\n",
       "      <td>446</td>\n",
       "      <td>25.0</td>\n",
       "      <td>NaN</td>\n",
       "    </tr>\n",
       "    <tr>\n",
       "      <th>3</th>\n",
       "      <td>L'Inferno</td>\n",
       "      <td>1911</td>\n",
       "      <td>Adventure, Drama, Fantasy</td>\n",
       "      <td>68</td>\n",
       "      <td>Italy</td>\n",
       "      <td>Italian</td>\n",
       "      <td>Francesco Bertolini, Adolfo Padovan</td>\n",
       "      <td>Dante Alighieri</td>\n",
       "      <td>Milano Film</td>\n",
       "      <td>Salvatore Papa, Arturo Pirovano, Giuseppe de L...</td>\n",
       "      <td>Loosely adapted from Dante's Divine Comedy and...</td>\n",
       "      <td>7.0</td>\n",
       "      <td>2237</td>\n",
       "      <td>31.0</td>\n",
       "      <td>NaN</td>\n",
       "    </tr>\n",
       "    <tr>\n",
       "      <th>4</th>\n",
       "      <td>From the Manger to the Cross; or, Jesus of Naz...</td>\n",
       "      <td>1912</td>\n",
       "      <td>Biography, Drama</td>\n",
       "      <td>60</td>\n",
       "      <td>USA</td>\n",
       "      <td>English</td>\n",
       "      <td>Sidney Olcott</td>\n",
       "      <td>Gene Gauntier</td>\n",
       "      <td>Kalem Company</td>\n",
       "      <td>R. Henderson Bland, Percy Dyer, Gene Gauntier,...</td>\n",
       "      <td>An account of the life of Jesus Christ, based ...</td>\n",
       "      <td>5.7</td>\n",
       "      <td>484</td>\n",
       "      <td>13.0</td>\n",
       "      <td>NaN</td>\n",
       "    </tr>\n",
       "  </tbody>\n",
       "</table>\n",
       "</div>"
      ],
      "text/plain": [
       "                                               title  release_year  \\\n",
       "0                                         Miss Jerry          1894   \n",
       "1                        The Story of the Kelly Gang          1906   \n",
       "2                                          Cleopatra          1912   \n",
       "3                                          L'Inferno          1911   \n",
       "4  From the Manger to the Cross; or, Jesus of Naz...          1912   \n",
       "\n",
       "                       genre  duration_min    country language  \\\n",
       "0                    Romance            45        USA     None   \n",
       "1    Biography, Crime, Drama            70  Australia     None   \n",
       "2             Drama, History           100        USA  English   \n",
       "3  Adventure, Drama, Fantasy            68      Italy  Italian   \n",
       "4           Biography, Drama            60        USA  English   \n",
       "\n",
       "                              director            writer  \\\n",
       "0                      Alexander Black   Alexander Black   \n",
       "1                         Charles Tait      Charles Tait   \n",
       "2                   Charles L. Gaskill  Victorien Sardou   \n",
       "3  Francesco Bertolini, Adolfo Padovan   Dante Alighieri   \n",
       "4                        Sidney Olcott     Gene Gauntier   \n",
       "\n",
       "              production_company  \\\n",
       "0     Alexander Black Photoplays   \n",
       "1                 J. and N. Tait   \n",
       "2  Helen Gardner Picture Players   \n",
       "3                    Milano Film   \n",
       "4                  Kalem Company   \n",
       "\n",
       "                                              actors  \\\n",
       "0  Blanche Bayliss, William Courtenay, Chauncey D...   \n",
       "1  Elizabeth Tait, John Tait, Norman Campbell, Be...   \n",
       "2  Helen Gardner, Pearl Sindelar, Miss Fielding, ...   \n",
       "3  Salvatore Papa, Arturo Pirovano, Giuseppe de L...   \n",
       "4  R. Henderson Bland, Percy Dyer, Gene Gauntier,...   \n",
       "\n",
       "                                         description  avg_vote  votes  \\\n",
       "0  The adventures of a female reporter in the 1890s.       5.9    154   \n",
       "1  True story of notorious Australian outlaw Ned ...       6.1    589   \n",
       "2  The fabled queen of Egypt's affair with Roman ...       5.2    446   \n",
       "3  Loosely adapted from Dante's Divine Comedy and...       7.0   2237   \n",
       "4  An account of the life of Jesus Christ, based ...       5.7    484   \n",
       "\n",
       "   reviews_from_users  date_added  \n",
       "0                 1.0         NaN  \n",
       "1                 7.0         NaN  \n",
       "2                25.0         NaN  \n",
       "3                31.0         NaN  \n",
       "4                13.0         NaN  "
      ]
     },
     "execution_count": 84,
     "metadata": {},
     "output_type": "execute_result"
    }
   ],
   "source": [
    "IMDBdata.merge(Netflix, how = 'left').head()"
   ]
  },
  {
   "cell_type": "code",
   "execution_count": 85,
   "metadata": {},
   "outputs": [
    {
     "data": {
      "text/plain": [
       "(72043, 14)"
      ]
     },
     "execution_count": 85,
     "metadata": {},
     "output_type": "execute_result"
    }
   ],
   "source": [
    "IMDBdata.shape"
   ]
  },
  {
   "cell_type": "markdown",
   "metadata": {},
   "source": [
    "# Summary"
   ]
  },
  {
   "cell_type": "markdown",
   "metadata": {},
   "source": [
    "We used two movie datasets : Kaggle dataset (named Netflix) and IMDB dataset (named IMDBdata). The Kaggle dataset is smaller one with 4761 rows while IMDB dataset large with 72043 rows.<br><br>\n",
    "Detail investigations into each column of both datasets was carried out and following conclusions were drwan:<br>\n",
    "* Both datasets show USA ranked Number One in movie production, while India ranked Second followed by United Kingdom in Third place.<br><br>\n",
    "* These are three movie production companies ranking as follows.<br>\n",
    "Metro-Goldwyn-Mayer (MGM)    1267<br>\n",
    "Warner Bros.                 1143<br>\n",
    "Columbia Pictures             909<br><br>\n",
    "* In USA top movie production company is: Metro-Goldwyn-Mayer <br>\n",
    "In India top movie production company is: NH Studioz <br>\n",
    "In UK top movie production company is: The Rank Organisation <br><br>\n",
    "* Both datasets show most of the movies are of length ~100 mins.<br><br>\n",
    "* As IMDB dataset is very large compared to Kaggle dataset, the Kaggle dataset was merged into IMDB dataset for further analysis.**"
   ]
  }
 ],
 "metadata": {
  "kernelspec": {
   "display_name": "Python 3",
   "language": "python",
   "name": "python3"
  },
  "language_info": {
   "codemirror_mode": {
    "name": "ipython",
    "version": 3
   },
   "file_extension": ".py",
   "mimetype": "text/x-python",
   "name": "python",
   "nbconvert_exporter": "python",
   "pygments_lexer": "ipython3",
   "version": "3.7.1"
  }
 },
 "nbformat": 4,
 "nbformat_minor": 2
}
